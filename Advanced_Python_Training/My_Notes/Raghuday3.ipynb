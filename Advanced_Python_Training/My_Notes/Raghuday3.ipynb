{
 "cells": [
  {
   "cell_type": "markdown",
   "id": "circular-profile",
   "metadata": {},
   "source": [
    "# Day 3"
   ]
  },
  {
   "cell_type": "code",
   "execution_count": 1,
   "id": "boxed-right",
   "metadata": {},
   "outputs": [
    {
     "name": "stdout",
     "output_type": "stream",
     "text": [
      "Welcome to Day 3 Advanced Python Training\n"
     ]
    }
   ],
   "source": [
    "print('Welcome to Day 3 Advanced Python Training')"
   ]
  },
  {
   "cell_type": "code",
   "execution_count": 2,
   "id": "fleet-concern",
   "metadata": {},
   "outputs": [
    {
     "name": "stdout",
     "output_type": "stream",
     "text": [
      "Overwriting cube.py\n"
     ]
    }
   ],
   "source": [
    "%%file cube.py\n",
    "\"\"\"\n",
    "The cube module.\n",
    "\n",
    "Provides the cube function.\n",
    "\n",
    "USAGE:\n",
    "\n",
    "    $ python cube.py 3\n",
    "    27\n",
    "\"\"\"\n",
    "import sys\n",
    "\n",
    "def cub(x):\n",
    "    \"\"\"Computes the cube of a numnber.\n",
    "    \n",
    "        >>> cub(3)\n",
    "        27\n",
    "    \"\"\"\n",
    "    return x**3\n",
    "\n",
    "def main():\n",
    "    n = int(sys.argv[1])\n",
    "    print(cub(n))\n",
    "    \n",
    "if __name__ == \"__main__\":\n",
    "    main()"
   ]
  },
  {
   "cell_type": "code",
   "execution_count": null,
   "id": "sonic-likelihood",
   "metadata": {},
   "outputs": [],
   "source": [
    "!python cube.py 3"
   ]
  },
  {
   "cell_type": "code",
   "execution_count": null,
   "id": "veterinary-truck",
   "metadata": {},
   "outputs": [],
   "source": [
    "!pydoc cube"
   ]
  },
  {
   "cell_type": "code",
   "execution_count": 18,
   "id": "vocal-purple",
   "metadata": {},
   "outputs": [
    {
     "name": "stdout",
     "output_type": "stream",
     "text": [
      "Defaulting to user installation because normal site-packages is not writeable\n",
      "Requirement already satisfied: pytest in /usr/local/lib/python3.8/dist-packages (7.0.0)\n",
      "Requirement already satisfied: tomli>=1.0.0 in /usr/local/lib/python3.8/dist-packages (from pytest) (2.0.1)\n",
      "Requirement already satisfied: attrs>=19.2.0 in /usr/local/lib/python3.8/dist-packages (from pytest) (20.3.0)\n",
      "Requirement already satisfied: iniconfig in /usr/local/lib/python3.8/dist-packages (from pytest) (1.1.1)\n",
      "Requirement already satisfied: packaging in /usr/local/lib/python3.8/dist-packages (from pytest) (20.9)\n",
      "Requirement already satisfied: py>=1.8.2 in /usr/local/lib/python3.8/dist-packages (from pytest) (1.11.0)\n",
      "Requirement already satisfied: pluggy<2.0,>=0.12 in /usr/local/lib/python3.8/dist-packages (from pytest) (1.0.0)\n",
      "Requirement already satisfied: pyparsing>=2.0.2 in /usr/local/lib/python3.8/dist-packages (from packaging->pytest) (2.4.7)\n",
      "\u001b[33mWARNING: You are using pip version 20.2.2; however, version 22.0.3 is available.\n",
      "You should consider upgrading via the '/usr/bin/python3 -m pip install --upgrade pip' command.\u001b[0m\n"
     ]
    }
   ],
   "source": [
    "!pip install pytest"
   ]
  },
  {
   "cell_type": "code",
   "execution_count": 19,
   "id": "systematic-trinidad",
   "metadata": {},
   "outputs": [
    {
     "name": "stdout",
     "output_type": "stream",
     "text": [
      "Defaulting to user installation because normal site-packages is not writeable\n",
      "Collecting pytest_notebook\n",
      "  Downloading pytest_notebook-0.7.0-py2.py3-none-any.whl (37 kB)\n",
      "Collecting nbclient~=0.5.10\n",
      "  Downloading nbclient-0.5.10-py3-none-any.whl (69 kB)\n",
      "\u001b[K     |████████████████████████████████| 69 kB 3.2 MB/s eta 0:00:011\n",
      "\u001b[?25hRequirement already satisfied: pytest>=3.5.0 in /usr/local/lib/python3.8/dist-packages (from pytest_notebook) (7.0.0)\n",
      "Requirement already satisfied: nbformat in /usr/local/lib/python3.8/dist-packages (from pytest_notebook) (5.1.2)\n",
      "Collecting nbdime\n",
      "  Downloading nbdime-3.1.1-py2.py3-none-any.whl (5.3 MB)\n",
      "\u001b[K     |████████████████████████████████| 5.3 MB 12.5 MB/s eta 0:00:01\n",
      "\u001b[?25hRequirement already satisfied: jsonschema in /usr/local/lib/python3.8/dist-packages (from pytest_notebook) (3.2.0)\n",
      "Requirement already satisfied: attrs<23,>=19 in /usr/local/lib/python3.8/dist-packages (from pytest_notebook) (20.3.0)\n",
      "Requirement already satisfied: jupyter-client>=6.1.5 in /usr/local/lib/python3.8/dist-packages (from nbclient~=0.5.10->pytest_notebook) (6.1.12)\n",
      "Requirement already satisfied: traitlets>=4.2 in /usr/local/lib/python3.8/dist-packages (from nbclient~=0.5.10->pytest_notebook) (5.0.5)\n",
      "Requirement already satisfied: nest-asyncio in /usr/local/lib/python3.8/dist-packages (from nbclient~=0.5.10->pytest_notebook) (1.5.1)\n",
      "Requirement already satisfied: packaging in /usr/local/lib/python3.8/dist-packages (from pytest>=3.5.0->pytest_notebook) (20.9)\n",
      "Requirement already satisfied: iniconfig in /usr/local/lib/python3.8/dist-packages (from pytest>=3.5.0->pytest_notebook) (1.1.1)\n",
      "Requirement already satisfied: pluggy<2.0,>=0.12 in /usr/local/lib/python3.8/dist-packages (from pytest>=3.5.0->pytest_notebook) (1.0.0)\n",
      "Requirement already satisfied: py>=1.8.2 in /usr/local/lib/python3.8/dist-packages (from pytest>=3.5.0->pytest_notebook) (1.11.0)\n",
      "Requirement already satisfied: tomli>=1.0.0 in /usr/local/lib/python3.8/dist-packages (from pytest>=3.5.0->pytest_notebook) (2.0.1)\n",
      "Requirement already satisfied: jupyter-core in /usr/local/lib/python3.8/dist-packages (from nbformat->pytest_notebook) (4.7.1)\n",
      "Requirement already satisfied: ipython-genutils in /usr/local/lib/python3.8/dist-packages (from nbformat->pytest_notebook) (0.2.0)\n",
      "Requirement already satisfied: pygments in /usr/local/lib/python3.8/dist-packages (from nbdime->pytest_notebook) (2.8.1)\n",
      "Requirement already satisfied: jupyter-server in /usr/local/lib/python3.8/dist-packages (from nbdime->pytest_notebook) (1.4.1)\n",
      "Requirement already satisfied: tornado in /usr/local/lib/python3.8/dist-packages (from nbdime->pytest_notebook) (6.1)\n",
      "Requirement already satisfied: jinja2>=2.9 in /usr/local/lib/python3.8/dist-packages (from nbdime->pytest_notebook) (2.11.2)\n",
      "Collecting jupyter-server-mathjax>=0.2.2\n",
      "  Downloading jupyter_server_mathjax-0.2.4-py3-none-any.whl (3.1 MB)\n",
      "\u001b[K     |████████████████████████████████| 3.1 MB 110.4 MB/s eta 0:00:01\n",
      "\u001b[?25hCollecting GitPython!=2.1.4,!=2.1.5,!=2.1.6\n",
      "  Downloading GitPython-3.1.26-py3-none-any.whl (180 kB)\n",
      "\u001b[K     |████████████████████████████████| 180 kB 106.3 MB/s eta 0:00:01\n",
      "\u001b[?25hCollecting colorama\n",
      "  Downloading colorama-0.4.4-py2.py3-none-any.whl (16 kB)\n",
      "Requirement already satisfied: requests in /usr/local/lib/python3.8/dist-packages (from nbdime->pytest_notebook) (2.25.0)\n",
      "Requirement already satisfied: setuptools in /usr/local/lib/python3.8/dist-packages (from jsonschema->pytest_notebook) (51.0.0)\n",
      "Requirement already satisfied: pyrsistent>=0.14.0 in /usr/local/lib/python3.8/dist-packages (from jsonschema->pytest_notebook) (0.17.3)\n",
      "Requirement already satisfied: six>=1.11.0 in /usr/local/lib/python3.8/dist-packages (from jsonschema->pytest_notebook) (1.15.0)\n",
      "Requirement already satisfied: python-dateutil>=2.1 in /usr/local/lib/python3.8/dist-packages (from jupyter-client>=6.1.5->nbclient~=0.5.10->pytest_notebook) (2.8.1)\n",
      "Requirement already satisfied: pyzmq>=13 in /usr/local/lib/python3.8/dist-packages (from jupyter-client>=6.1.5->nbclient~=0.5.10->pytest_notebook) (22.0.3)\n",
      "Requirement already satisfied: pyparsing>=2.0.2 in /usr/local/lib/python3.8/dist-packages (from packaging->pytest>=3.5.0->pytest_notebook) (2.4.7)\n",
      "Requirement already satisfied: prometheus-client in /usr/local/lib/python3.8/dist-packages (from jupyter-server->nbdime->pytest_notebook) (0.9.0)\n",
      "Requirement already satisfied: anyio>=2.0.2 in /usr/local/lib/python3.8/dist-packages (from jupyter-server->nbdime->pytest_notebook) (2.2.0)\n",
      "Requirement already satisfied: Send2Trash in /usr/local/lib/python3.8/dist-packages (from jupyter-server->nbdime->pytest_notebook) (1.5.0)\n",
      "Requirement already satisfied: terminado>=0.8.3 in /usr/local/lib/python3.8/dist-packages (from jupyter-server->nbdime->pytest_notebook) (0.9.2)\n",
      "Requirement already satisfied: nbconvert in /usr/local/lib/python3.8/dist-packages (from jupyter-server->nbdime->pytest_notebook) (6.0.7)\n",
      "Requirement already satisfied: MarkupSafe>=0.23 in /usr/local/lib/python3.8/dist-packages (from jinja2>=2.9->nbdime->pytest_notebook) (1.1.1)\n",
      "Collecting gitdb<5,>=4.0.1\n",
      "  Downloading gitdb-4.0.9-py3-none-any.whl (63 kB)\n",
      "\u001b[K     |████████████████████████████████| 63 kB 3.3 MB/s  eta 0:00:01\n",
      "\u001b[?25hRequirement already satisfied: certifi>=2017.4.17 in /usr/local/lib/python3.8/dist-packages (from requests->nbdime->pytest_notebook) (2020.12.5)\n",
      "Requirement already satisfied: idna<3,>=2.5 in /usr/local/lib/python3.8/dist-packages (from requests->nbdime->pytest_notebook) (2.10)\n",
      "Requirement already satisfied: chardet<4,>=3.0.2 in /usr/local/lib/python3.8/dist-packages (from requests->nbdime->pytest_notebook) (3.0.4)\n",
      "Requirement already satisfied: urllib3<1.27,>=1.21.1 in /usr/local/lib/python3.8/dist-packages (from requests->nbdime->pytest_notebook) (1.26.2)\n",
      "Requirement already satisfied: sniffio>=1.1 in /usr/local/lib/python3.8/dist-packages (from anyio>=2.0.2->jupyter-server->nbdime->pytest_notebook) (1.2.0)\n",
      "Requirement already satisfied: ptyprocess; os_name != \"nt\" in /usr/local/lib/python3.8/dist-packages (from terminado>=0.8.3->jupyter-server->nbdime->pytest_notebook) (0.7.0)\n",
      "Requirement already satisfied: pandocfilters>=1.4.1 in /usr/local/lib/python3.8/dist-packages (from nbconvert->jupyter-server->nbdime->pytest_notebook) (1.4.3)\n",
      "Requirement already satisfied: jupyterlab-pygments in /usr/local/lib/python3.8/dist-packages (from nbconvert->jupyter-server->nbdime->pytest_notebook) (0.1.2)\n",
      "Requirement already satisfied: mistune<2,>=0.8.1 in /usr/local/lib/python3.8/dist-packages (from nbconvert->jupyter-server->nbdime->pytest_notebook) (0.8.4)\n",
      "Requirement already satisfied: testpath in /usr/local/lib/python3.8/dist-packages (from nbconvert->jupyter-server->nbdime->pytest_notebook) (0.4.4)\n",
      "Requirement already satisfied: entrypoints>=0.2.2 in /usr/local/lib/python3.8/dist-packages (from nbconvert->jupyter-server->nbdime->pytest_notebook) (0.3)\n",
      "Requirement already satisfied: bleach in /usr/local/lib/python3.8/dist-packages (from nbconvert->jupyter-server->nbdime->pytest_notebook) (3.3.0)\n",
      "Requirement already satisfied: defusedxml in /usr/local/lib/python3.8/dist-packages (from nbconvert->jupyter-server->nbdime->pytest_notebook) (0.7.1)\n",
      "Collecting smmap<6,>=3.0.1\n",
      "  Downloading smmap-5.0.0-py3-none-any.whl (24 kB)\n",
      "Requirement already satisfied: webencodings in /usr/local/lib/python3.8/dist-packages (from bleach->nbconvert->jupyter-server->nbdime->pytest_notebook) (0.5.1)\n",
      "Installing collected packages: nbclient, jupyter-server-mathjax, smmap, gitdb, GitPython, colorama, nbdime, pytest-notebook\n",
      "\u001b[33m  WARNING: The script jupyter-execute is installed in '/home/nraghu/.local/bin' which is not on PATH.\n",
      "  Consider adding this directory to PATH or, if you prefer to suppress this warning, use --no-warn-script-location.\u001b[0m\n",
      "\u001b[33m  WARNING: The scripts git-nbdiffdriver, git-nbdifftool, git-nbmergedriver, git-nbmergetool, hg-nbdiff, hg-nbdiffweb, hg-nbmerge, hg-nbmergeweb, nbdiff, nbdiff-web, nbdime, nbmerge, nbmerge-web and nbshow are installed in '/home/nraghu/.local/bin' which is not on PATH.\n",
      "  Consider adding this directory to PATH or, if you prefer to suppress this warning, use --no-warn-script-location.\u001b[0m\n",
      "Successfully installed GitPython-3.1.26 colorama-0.4.4 gitdb-4.0.9 jupyter-server-mathjax-0.2.4 nbclient-0.5.10 nbdime-3.1.1 pytest-notebook-0.7.0 smmap-5.0.0\n",
      "\u001b[33mWARNING: You are using pip version 20.2.2; however, version 22.0.3 is available.\n",
      "You should consider upgrading via the '/usr/bin/python3 -m pip install --upgrade pip' command.\u001b[0m\n",
      "Note: you may need to restart the kernel to use updated packages.\n"
     ]
    }
   ],
   "source": [
    "pip install pytest_notebook"
   ]
  },
  {
   "cell_type": "code",
   "execution_count": 6,
   "id": "infectious-communications",
   "metadata": {},
   "outputs": [
    {
     "name": "stdout",
     "output_type": "stream",
     "text": [
      "Overwriting sq2.py\n"
     ]
    }
   ],
   "source": [
    "%%file sq2.py\n",
    "\n",
    "def square(x):\n",
    "    return x*x\n",
    "\n",
    "def sum_of_squares(x, y):\n",
    "    return square(x) + square(y)\n",
    "\n",
    "def test_square():\n",
    "    assert square(0) == 0\n",
    "    assert square(4) == 16    \n",
    "    \n",
    "def test_sum_of_squares():\n",
    "    assert sum_of_squares(0, 0) == 0\n",
    "    assert sum_of_squares(3, 4) == 25 "
   ]
  },
  {
   "cell_type": "code",
   "execution_count": 7,
   "id": "younger-twins",
   "metadata": {},
   "outputs": [
    {
     "name": "stdout",
     "output_type": "stream",
     "text": [
      "\u001b[1m============================= test session starts ==============================\u001b[0m\n",
      "platform linux -- Python 3.8.5, pytest-7.0.0, pluggy-1.0.0\n",
      "rootdir: /home/nraghu\n",
      "plugins: pytest_notebook-0.7.0, anyio-2.2.0\n",
      "collected 2 items                                                              \u001b[0m\n",
      "\n",
      "sq2.py \u001b[32m.\u001b[0m\u001b[32m.\u001b[0m\u001b[32m                                                                [100%]\u001b[0m\n",
      "\n",
      "\u001b[32m============================== \u001b[32m\u001b[1m2 passed\u001b[0m\u001b[32m in 0.01s\u001b[0m\u001b[32m ===============================\u001b[0m\n"
     ]
    }
   ],
   "source": [
    "!py.test sq2.py"
   ]
  },
  {
   "cell_type": "code",
   "execution_count": 4,
   "id": "refined-cable",
   "metadata": {},
   "outputs": [
    {
     "name": "stdout",
     "output_type": "stream",
     "text": [
      "Writing lastword.py\n"
     ]
    }
   ],
   "source": [
    "%%file lastword.py\n",
    "def get_last_word(sentence):\n",
    "    if not sentence:\n",
    "        return \"\"\n",
    "    return sentence.split()[-1]\n",
    "\n",
    "def test_get_last_word():\n",
    "    assert get_last_word(\"\") == \"\"\n",
    "    assert get_last_word(\"one two three\") == 'three'"
   ]
  },
  {
   "cell_type": "code",
   "execution_count": 5,
   "id": "raising-disorder",
   "metadata": {},
   "outputs": [
    {
     "name": "stdout",
     "output_type": "stream",
     "text": [
      "\u001b[1m============================= test session starts ==============================\u001b[0m\n",
      "platform linux -- Python 3.8.5, pytest-7.0.0, pluggy-1.0.0\n",
      "rootdir: /home/nraghu\n",
      "plugins: pytest_notebook-0.7.0, anyio-2.2.0\n",
      "collected 1 item                                                               \u001b[0m\n",
      "\n",
      "lastword.py \u001b[32m.\u001b[0m\u001b[32m                                                            [100%]\u001b[0m\n",
      "\n",
      "\u001b[32m============================== \u001b[32m\u001b[1m1 passed\u001b[0m\u001b[32m in 0.01s\u001b[0m\u001b[32m ===============================\u001b[0m\n"
     ]
    }
   ],
   "source": [
    "!py.test lastword.py"
   ]
  },
  {
   "cell_type": "code",
   "execution_count": 14,
   "id": "systematic-flexibility",
   "metadata": {},
   "outputs": [
    {
     "name": "stdout",
     "output_type": "stream",
     "text": [
      "Overwriting cube1.py\n"
     ]
    }
   ],
   "source": [
    "%%file cube1.py\n",
    "\n",
    "def cube(x):\n",
    "    return x*x*x\n",
    "\n",
    "def sum_of_cube(x, y):\n",
    "    return cube(x) + cube(y)\n",
    "\n",
    "def test_cube():\n",
    "    assert cube(0) == 0 #test cases\n",
    "    assert cube(4) == 64  \n",
    "    \n",
    "def test_sum_of_cube():\n",
    "    assert sum_of_cube(0, 0) == 0\n",
    "    assert sum_of_cube(3, 4) == 91"
   ]
  },
  {
   "cell_type": "code",
   "execution_count": 21,
   "id": "intense-soundtrack",
   "metadata": {},
   "outputs": [
    {
     "name": "stdout",
     "output_type": "stream",
     "text": [
      "\u001b[1m============================= test session starts ==============================\u001b[0m\n",
      "platform linux -- Python 3.8.5, pytest-7.0.0, pluggy-1.0.0\n",
      "rootdir: /home/nraghu\n",
      "plugins: pytest_notebook-0.7.0, anyio-2.2.0\n",
      "collected 2 items                                                              \u001b[0m\n",
      "\n",
      "cube1.py \u001b[32m.\u001b[0m\u001b[32m.\u001b[0m\u001b[32m                                                              [100%]\u001b[0m\n",
      "\n",
      "\u001b[32m============================== \u001b[32m\u001b[1m2 passed\u001b[0m\u001b[32m in 0.00s\u001b[0m\u001b[32m ===============================\u001b[0m\n"
     ]
    }
   ],
   "source": [
    "!pytest cube1.py"
   ]
  },
  {
   "cell_type": "code",
   "execution_count": 16,
   "id": "diagnostic-estate",
   "metadata": {},
   "outputs": [
    {
     "name": "stdout",
     "output_type": "stream",
     "text": [
      "Writing cube2.py\n"
     ]
    }
   ],
   "source": [
    "%%file cube2.py\n",
    "\n",
    "def cube(x):\n",
    "    return x*x*x\n",
    "\n",
    "def sum_of_cube(x, y):\n",
    "    return cube(x) + cube(y)"
   ]
  },
  {
   "cell_type": "code",
   "execution_count": 18,
   "id": "dependent-overview",
   "metadata": {},
   "outputs": [
    {
     "name": "stdout",
     "output_type": "stream",
     "text": [
      "Overwriting test_cube.py\n"
     ]
    }
   ],
   "source": [
    "%%file test_cube.py\n",
    "from cube2 import cube, sum_of_cube\n",
    "\n",
    "def test_cube():\n",
    "    assert cube(0) == 0\n",
    "    assert cube(4) == 64  \n",
    "    \n",
    "def test_sum_of_cube():\n",
    "    assert sum_of_cube(0, 0) == 0\n",
    "    assert sum_of_cube(3, 4) == 91"
   ]
  },
  {
   "cell_type": "code",
   "execution_count": 20,
   "id": "valuable-electron",
   "metadata": {},
   "outputs": [
    {
     "name": "stdout",
     "output_type": "stream",
     "text": [
      "\u001b[1m============================= test session starts ==============================\u001b[0m\n",
      "platform linux -- Python 3.8.5, pytest-7.0.0, pluggy-1.0.0\n",
      "rootdir: /home/nraghu\n",
      "plugins: pytest_notebook-0.7.0, anyio-2.2.0\n",
      "collected 2 items                                                              \u001b[0m\n",
      "\n",
      "test_cube.py \u001b[32m.\u001b[0m\u001b[32m.\u001b[0m\u001b[32m                                                          [100%]\u001b[0m\n",
      "\n",
      "\u001b[32m============================== \u001b[32m\u001b[1m2 passed\u001b[0m\u001b[32m in 0.00s\u001b[0m\u001b[32m ===============================\u001b[0m\n"
     ]
    }
   ],
   "source": [
    "!pytest test_cube.py"
   ]
  },
  {
   "cell_type": "code",
   "execution_count": 50,
   "id": "appointed-coverage",
   "metadata": {},
   "outputs": [
    {
     "name": "stdout",
     "output_type": "stream",
     "text": [
      "Overwriting text.py\n"
     ]
    }
   ],
   "source": [
    "%%file text.py\n",
    "1 one\n",
    "2 two\n",
    "3 three"
   ]
  },
  {
   "cell_type": "code",
   "execution_count": 51,
   "id": "relative-craft",
   "metadata": {},
   "outputs": [
    {
     "name": "stdout",
     "output_type": "stream",
     "text": [
      "Overwriting cat.py\n"
     ]
    }
   ],
   "source": [
    "%%file cat.py\n",
    "import sys\n",
    "ar = sys.argv[1]\n",
    "for line in open(ar).readlines():\n",
    "    print(line, end=\"\") # ask print to not add a new line"
   ]
  },
  {
   "cell_type": "code",
   "execution_count": 52,
   "id": "congressional-vatican",
   "metadata": {},
   "outputs": [
    {
     "name": "stdout",
     "output_type": "stream",
     "text": [
      "1 one\n",
      "2 two\n",
      "3 three\n"
     ]
    }
   ],
   "source": [
    "!python cat.py text.py"
   ]
  },
  {
   "cell_type": "code",
   "execution_count": 30,
   "id": "historical-church",
   "metadata": {},
   "outputs": [
    {
     "name": "stdout",
     "output_type": "stream",
     "text": [
      "Writing numbers.txt\n"
     ]
    }
   ],
   "source": [
    "%%file numbers.txt\n",
    "1 one\n",
    "2 two\n",
    "3 three\n",
    "4 four\n",
    "5 five"
   ]
  },
  {
   "cell_type": "code",
   "execution_count": 31,
   "id": "regulated-values",
   "metadata": {},
   "outputs": [
    {
     "name": "stdout",
     "output_type": "stream",
     "text": [
      " 5 10 34 numbers.txt\n"
     ]
    }
   ],
   "source": [
    "!wc numbers.txt"
   ]
  },
  {
   "cell_type": "code",
   "execution_count": 48,
   "id": "specified-moderator",
   "metadata": {},
   "outputs": [
    {
     "name": "stdout",
     "output_type": "stream",
     "text": [
      "Overwriting wc.py\n"
     ]
    }
   ],
   "source": [
    "%%file wc.py\n",
    "\"\"\"Implements the wc command of unix.\n",
    "\n",
    "Prints the line count, wordcount, char count and the filename.\n",
    "\n",
    "USAGE:\n",
    "    python wc.py filename\n",
    "\"\"\"\n",
    "import sys\n",
    "\n",
    "def linecount(f):\n",
    "    # FIXME\n",
    "    return len(open(f).readlines())\n",
    "\n",
    "def wordcount(f):\n",
    "    return len(open(f).read().split())\n",
    "    \n",
    "\n",
    "def charcount(f):\n",
    "    # FIXME\n",
    "    return len(open(f).read())\n",
    "\n",
    "def main():\n",
    "    f = sys.argv[1]\n",
    "    print(linecount(f), wordcount(f), charcount(f), f)\n",
    "    \n",
    "if __name__ == \"__main__\":\n",
    "    main()"
   ]
  },
  {
   "cell_type": "code",
   "execution_count": 49,
   "id": "broke-monte",
   "metadata": {},
   "outputs": [
    {
     "name": "stdout",
     "output_type": "stream",
     "text": [
      "5 10 34 numbers.txt\n"
     ]
    }
   ],
   "source": [
    "!python wc.py numbers.txt"
   ]
  },
  {
   "cell_type": "code",
   "execution_count": 73,
   "id": "czech-beach",
   "metadata": {},
   "outputs": [
    {
     "name": "stdout",
     "output_type": "stream",
     "text": [
      "Overwriting reverse_lines.py\n"
     ]
    }
   ],
   "source": [
    "%%file reverse_lines.py\n",
    "import sys\n",
    "ar = sys.argv[1]\n",
    "a = open(ar).readlines()\n",
    "a.reverse()\n",
    "for line in a:\n",
    "    print(line, end=\"\") \n"
   ]
  },
  {
   "cell_type": "code",
   "execution_count": 74,
   "id": "august-madrid",
   "metadata": {},
   "outputs": [
    {
     "name": "stdout",
     "output_type": "stream",
     "text": [
      "5 five\n",
      "4 four\n",
      "3 three\n",
      "2 two\n",
      "1 one\n"
     ]
    }
   ],
   "source": [
    "!python reverse_lines.py numbers.txt"
   ]
  },
  {
   "cell_type": "code",
   "execution_count": 130,
   "id": "pressed-drawing",
   "metadata": {},
   "outputs": [
    {
     "name": "stdout",
     "output_type": "stream",
     "text": [
      "Overwriting reverse_lines2.py\n"
     ]
    }
   ],
   "source": [
    "%%file reverse_lines2.py\n",
    "import sys\n",
    "ar = sys.argv[1]\n",
    "a = open(ar).readlines()\n",
    "for line in a:\n",
    "    s = line.split()\n",
    "    s.reverse()\n",
    "    print(' '.join(s))"
   ]
  },
  {
   "cell_type": "code",
   "execution_count": 131,
   "id": "economic-coral",
   "metadata": {},
   "outputs": [
    {
     "name": "stdout",
     "output_type": "stream",
     "text": [
      "one 1\n",
      "two 2\n",
      "three 3\n",
      "four 4\n",
      "five 5\n"
     ]
    }
   ],
   "source": [
    "!python reverse_lines2.py numbers.txt"
   ]
  },
  {
   "cell_type": "code",
   "execution_count": 132,
   "id": "unsigned-computer",
   "metadata": {},
   "outputs": [
    {
     "name": "stdout",
     "output_type": "stream",
     "text": [
      "Writing five.txt\n"
     ]
    }
   ],
   "source": [
    "%%file five.txt\n",
    "five\n",
    "five four\n",
    "five four three\n",
    "five four three two\n",
    "five four three two one\n",
    "zero"
   ]
  },
  {
   "cell_type": "code",
   "execution_count": 133,
   "id": "peaceful-thread",
   "metadata": {},
   "outputs": [
    {
     "name": "stdout",
     "output_type": "stream",
     "text": [
      "five\n",
      "four five\n",
      "three four five\n",
      "two three four five\n",
      "one two three four five\n",
      "zero\n"
     ]
    }
   ],
   "source": [
    "!python reverse_lines2.py five.txt"
   ]
  },
  {
   "cell_type": "code",
   "execution_count": 140,
   "id": "registered-characteristic",
   "metadata": {},
   "outputs": [
    {
     "name": "stdout",
     "output_type": "stream",
     "text": [
      "Overwriting copyfile.py\n"
     ]
    }
   ],
   "source": [
    "%%file copyfile.py\n",
    "import sys\n",
    "src = sys.argv[1]\n",
    "dest = sys.argv[2]\n",
    "with open(src,'r') as s:\n",
    "    with open(dest,'w')as d:\n",
    "        d.write(s.read())\n",
    "    "
   ]
  },
  {
   "cell_type": "code",
   "execution_count": 141,
   "id": "pursuant-valuation",
   "metadata": {},
   "outputs": [],
   "source": [
    "!python copyfile.py numbers.txt copynums.txt"
   ]
  },
  {
   "cell_type": "code",
   "execution_count": 142,
   "id": "incoming-indian",
   "metadata": {},
   "outputs": [
    {
     "name": "stdout",
     "output_type": "stream",
     "text": [
      "1 one\n",
      "2 two\n",
      "3 three\n",
      "4 four\n",
      "5 five\n",
      "\n"
     ]
    }
   ],
   "source": [
    "with open('copynums.txt','r') as c:\n",
    "    print(c.read())"
   ]
  },
  {
   "cell_type": "code",
   "execution_count": 148,
   "id": "relative-muscle",
   "metadata": {},
   "outputs": [
    {
     "name": "stdout",
     "output_type": "stream",
     "text": [
      "Writing nums.txt\n"
     ]
    }
   ],
   "source": [
    "%%file nums.txt\n",
    "one\n",
    "two\n",
    "three\n",
    "four\n",
    "five"
   ]
  },
  {
   "cell_type": "code",
   "execution_count": 360,
   "id": "labeled-election",
   "metadata": {},
   "outputs": [
    {
     "name": "stdout",
     "output_type": "stream",
     "text": [
      "Overwriting grep.py\n"
     ]
    }
   ],
   "source": [
    "%%file grep.py\n",
    "import sys\n",
    "with open(sys.argv[2],'r') as f:\n",
    "    lines = f.read().split()\n",
    "    for i in lines:\n",
    "        if sys.argv[1] in i:\n",
    "            print(i)"
   ]
  },
  {
   "cell_type": "code",
   "execution_count": 361,
   "id": "strategic-bobby",
   "metadata": {},
   "outputs": [
    {
     "name": "stdout",
     "output_type": "stream",
     "text": [
      "one\n",
      "three\n",
      "five\n"
     ]
    }
   ],
   "source": [
    "!python grep.py e nums.txt"
   ]
  },
  {
   "cell_type": "code",
   "execution_count": 180,
   "id": "regulated-riding",
   "metadata": {},
   "outputs": [
    {
     "name": "stdout",
     "output_type": "stream",
     "text": [
      "Writing one-to-ten.txt\n"
     ]
    }
   ],
   "source": [
    "%%file one-to-ten.txt\n",
    "1\n",
    "2\n",
    "3\n",
    "4\n",
    "5\n",
    "6\n",
    "7\n",
    "8\n",
    "9\n",
    "10"
   ]
  },
  {
   "cell_type": "code",
   "execution_count": 369,
   "id": "particular-commitment",
   "metadata": {},
   "outputs": [
    {
     "name": "stdout",
     "output_type": "stream",
     "text": [
      "Overwriting sumfile.py\n"
     ]
    }
   ],
   "source": [
    "%%file sumfile.py\n",
    "import sys\n",
    "ar = sys.argv\n",
    "with open(ar[1],'r') as f:\n",
    "    print(sum([ int(i) for i in f.read().split()]))"
   ]
  },
  {
   "cell_type": "code",
   "execution_count": 375,
   "id": "absent-tolerance",
   "metadata": {},
   "outputs": [
    {
     "name": "stdout",
     "output_type": "stream",
     "text": [
      "55\n"
     ]
    }
   ],
   "source": [
    "!python sumfile.py one-to-ten.txt"
   ]
  },
  {
   "cell_type": "code",
   "execution_count": 373,
   "id": "earned-diameter",
   "metadata": {},
   "outputs": [
    {
     "name": "stdout",
     "output_type": "stream",
     "text": [
      "Overwriting tail.py\n"
     ]
    }
   ],
   "source": [
    "%%file tail.py\n",
    "import sys\n",
    "with open(sys.argv[1],'r') as f:\n",
    "    for i in [int(i) for i in f.read().split()][-5:]:\n",
    "        print(i)"
   ]
  },
  {
   "cell_type": "code",
   "execution_count": 374,
   "id": "martial-picnic",
   "metadata": {},
   "outputs": [
    {
     "name": "stdout",
     "output_type": "stream",
     "text": [
      "6\n",
      "7\n",
      "8\n",
      "9\n",
      "10\n"
     ]
    }
   ],
   "source": [
    "!python tail.py one-to-ten.txt"
   ]
  },
  {
   "cell_type": "code",
   "execution_count": 376,
   "id": "dedicated-adaptation",
   "metadata": {},
   "outputs": [
    {
     "name": "stdout",
     "output_type": "stream",
     "text": [
      "Overwriting poem.txt\n"
     ]
    }
   ],
   "source": [
    "%%file poem.txt\n",
    "There was an Old Man with a beard\n",
    "Who said, \"It is just as I feared!\n",
    "Two Owls and a Hen,\n",
    "Four Larks and a Wren,\n",
    "Have all built their nests in my beard!\""
   ]
  },
  {
   "cell_type": "code",
   "execution_count": 377,
   "id": "standing-crystal",
   "metadata": {},
   "outputs": [
    {
     "name": "stdout",
     "output_type": "stream",
     "text": [
      "Overwriting poem.py\n"
     ]
    }
   ],
   "source": [
    "%%file poem.py\n",
    "import sys\n",
    "with open(sys.argv[1],'r') as f:\n",
    "    sentences = f.read().split('\\n')\n",
    "    for i in sentences:\n",
    "        print(i.center(len(max(sentences,key=len))))"
   ]
  },
  {
   "cell_type": "code",
   "execution_count": 378,
   "id": "extra-diversity",
   "metadata": {},
   "outputs": [
    {
     "name": "stdout",
     "output_type": "stream",
     "text": [
      "   There was an Old Man with a beard    \n",
      "   Who said, \"It is just as I feared!   \n",
      "          Two Owls and a Hen,           \n",
      "         Four Larks and a Wren,         \n",
      "Have all built their nests in my beard!\"\n",
      "                                        \n"
     ]
    }
   ],
   "source": [
    "!python poem.py poem.txt"
   ]
  },
  {
   "cell_type": "code",
   "execution_count": 326,
   "id": "cosmetic-bidding",
   "metadata": {},
   "outputs": [
    {
     "name": "stdout",
     "output_type": "stream",
     "text": [
      "Writing spliting.py\n"
     ]
    }
   ],
   "source": [
    "%%file spliting.py\n",
    "import sys\n",
    "ar = sys.argv\n",
    "with open(ar[0],'r') as f:\n",
    "    c = f.read().split()\n",
    "    size = ar[1]\n",
    "    k=1\n",
    "    if size!=0:\n",
    "        for i in range(0,len(c),10):\n",
    "            with open(arg[0]+,'w') as g:\n",
    "                g.write(c[i:i+10])\n",
    "        size-=10\n",
    "            "
   ]
  },
  {
   "cell_type": "code",
   "execution_count": 327,
   "id": "instructional-westminster",
   "metadata": {},
   "outputs": [],
   "source": [
    "marks = {\n",
    "    \"english\": 89,\n",
    "    \"maths\": 87,\n",
    "    \"science\": 45\n",
    "}"
   ]
  },
  {
   "cell_type": "code",
   "execution_count": 354,
   "id": "dressed-musical",
   "metadata": {},
   "outputs": [
    {
     "name": "stdout",
     "output_type": "stream",
     "text": [
      "Overwriting words.txt\n"
     ]
    }
   ],
   "source": [
    "%%file words.txt\n",
    "five\n",
    "five four\n",
    "five four three\n",
    "five four three two\n",
    "five four three two one\n",
    "zero\n",
    "ten zero"
   ]
  },
  {
   "cell_type": "code",
   "execution_count": 355,
   "id": "yellow-ordinance",
   "metadata": {},
   "outputs": [
    {
     "name": "stdout",
     "output_type": "stream",
     "text": [
      "Overwriting wordfreq.py\n"
     ]
    }
   ],
   "source": [
    "%%file wordfreq.py\n",
    "\"\"\"Program to compute frequency of words in the given file.\n",
    "\n",
    "USAGE: python wordfreq.py words.txt\n",
    "\n",
    "\"\"\"\n",
    "import sys\n",
    "\n",
    "def read_words(filename):\n",
    "    \"\"\"Reads and returns all words in the given filename as a list.\n",
    "    \"\"\"\n",
    "    return open(filename).read().split()\n",
    "\n",
    "def wordfreq(words):\n",
    "    \"\"\"Takes a list of words as argument and computes \n",
    "    frquency of each unique word in those words as a dictionary.\n",
    "    \n",
    "        >>> wordfreq([])\n",
    "        {}\n",
    "        >>> wordfreq(['a', 'b', a'])\n",
    "        {\"a\": 2, \"b\": 1}\n",
    "    \"\"\"\n",
    "    freq = {}\n",
    "    for w in words:\n",
    "#         if w in freq:\n",
    "#             freq[w] = freq[w] + 1\n",
    "#         else:\n",
    "#             freq[w] = 1  \n",
    "        freq[w] = freq.get(w, 0) + 1\n",
    "    return freq\n",
    "\n",
    "def print_freq(freq):\n",
    "    \"\"\"Prints frequency of words in a nice readable format.\n",
    "    \"\"\"\n",
    "    # FIXME\n",
    "    print(freq)\n",
    "\n",
    "def main():\n",
    "    filename = sys.argv[1]\n",
    "    words = read_words(filename)\n",
    "    freq = wordfreq(words)\n",
    "    print_freq(freq)\n",
    "    \n",
    "if __name__ == \"__main__\":\n",
    "    main()"
   ]
  },
  {
   "cell_type": "code",
   "execution_count": 358,
   "id": "hawaiian-tournament",
   "metadata": {},
   "outputs": [],
   "source": [
    "!touch empty.txt"
   ]
  },
  {
   "cell_type": "code",
   "execution_count": 359,
   "id": "permanent-design",
   "metadata": {},
   "outputs": [
    {
     "name": "stdout",
     "output_type": "stream",
     "text": [
      "{}\n"
     ]
    }
   ],
   "source": [
    "!python wordfreq.py empty.txt"
   ]
  },
  {
   "cell_type": "code",
   "execution_count": 3,
   "id": "extraordinary-spine",
   "metadata": {},
   "outputs": [
    {
     "name": "stdout",
     "output_type": "stream",
     "text": [
      "Overwriting hundred.txt\n"
     ]
    }
   ],
   "source": [
    "%%file hundred.txt\n",
    "0\n",
    "1\n",
    "2\n",
    "3\n",
    "4\n",
    "5\n",
    "6\n",
    "7\n",
    "8\n",
    "9\n",
    "10\n",
    "11\n",
    "12\n",
    "13\n",
    "14\n",
    "15\n",
    "16\n",
    "17\n",
    "18\n",
    "19\n",
    "20\n",
    "21\n",
    "22\n",
    "23\n",
    "24\n",
    "25\n",
    "26\n",
    "27\n",
    "28\n",
    "29\n",
    "30\n",
    "31\n",
    "32\n",
    "33\n",
    "34\n",
    "35\n",
    "36\n",
    "37\n",
    "38\n",
    "39\n",
    "40\n",
    "41\n",
    "42\n",
    "43\n",
    "44\n",
    "45\n",
    "46\n",
    "47\n",
    "48\n",
    "49\n",
    "50\n",
    "51\n",
    "52\n",
    "53\n",
    "54\n",
    "55\n",
    "56\n",
    "57\n",
    "58\n",
    "59\n",
    "60\n",
    "61\n",
    "62\n",
    "63\n",
    "64\n",
    "65\n",
    "66\n",
    "67\n",
    "68\n",
    "69\n",
    "70\n",
    "71\n",
    "72\n",
    "73\n",
    "74\n",
    "75\n",
    "76\n",
    "77\n",
    "78\n",
    "79\n",
    "80\n",
    "81\n",
    "82\n",
    "83\n",
    "84\n",
    "85\n",
    "86\n",
    "87\n",
    "88\n",
    "89\n",
    "90\n",
    "91\n",
    "92\n",
    "93\n",
    "94\n",
    "95\n",
    "96\n",
    "97\n",
    "98\n",
    "99"
   ]
  },
  {
   "cell_type": "code",
   "execution_count": 8,
   "id": "graduate-canal",
   "metadata": {},
   "outputs": [
    {
     "name": "stdout",
     "output_type": "stream",
     "text": [
      "Overwriting spliting.py\n"
     ]
    }
   ],
   "source": [
    "%%file spliting.py\n",
    "import sys\n",
    "\n",
    "def creating_file(j):\n",
    "    return \"hundred\"+str(j)+\".txt\"\n",
    "\n",
    "def required_lines(d,s,n):\n",
    "    return d[s:n]\n",
    "\n",
    "def writing_into_file(file1,content):\n",
    "    with open(file1,'w') as new_file:\n",
    "        for i in content:\n",
    "            new_file.write(f\"{i}{' '}\")\n",
    "        return file1\n",
    "def reading_from_file(filename):\n",
    "    print(open(filename).read())\n",
    "    \n",
    "\n",
    "def main():\n",
    "    with open(sys.argv[1],'r') as f:\n",
    "        size = int(sys.argv[2])\n",
    "        c = f.read().split()\n",
    "        k=1\n",
    "        for start in range(0,len(c),size):\n",
    "            file = creating_file(k)\n",
    "            print(file)\n",
    "            k+=1\n",
    "            words = required_lines(c,start,start+size)\n",
    "            writing_into_file(file,words)\n",
    "            reading_from_file(file)\n",
    "        \n",
    "\n",
    "\n",
    "if __name__ == \"__main__\":\n",
    "    main()"
   ]
  },
  {
   "cell_type": "code",
   "execution_count": 9,
   "id": "physical-enzyme",
   "metadata": {},
   "outputs": [
    {
     "name": "stdout",
     "output_type": "stream",
     "text": [
      "hundred1.txt\n",
      "0 1 2 3 4 5 6 7 8 9 10 11 12 13 14 15 16 17 18 19 20 21 22 23 24 25 26 27 28 29 \n",
      "hundred2.txt\n",
      "30 31 32 33 34 35 36 37 38 39 40 41 42 43 44 45 46 47 48 49 50 51 52 53 54 55 56 57 58 59 \n",
      "hundred3.txt\n",
      "60 61 62 63 64 65 66 67 68 69 70 71 72 73 74 75 76 77 78 79 80 81 82 83 84 85 86 87 88 89 \n",
      "hundred4.txt\n",
      "90 91 92 93 94 95 96 97 98 99 \n"
     ]
    }
   ],
   "source": [
    "!python spliting.py hundred.txt 30"
   ]
  },
  {
   "cell_type": "code",
   "execution_count": null,
   "id": "stainless-medicare",
   "metadata": {},
   "outputs": [],
   "source": []
  },
  {
   "cell_type": "code",
   "execution_count": 15,
   "id": "crazy-bolivia",
   "metadata": {},
   "outputs": [
    {
     "name": "stdout",
     "output_type": "stream",
     "text": [
      "Writing prices.txt\n"
     ]
    }
   ],
   "source": [
    "%%file prices.txt\n",
    "bread: 20\n",
    "jam: 30\n",
    "butter: 40\n",
    "sugar: 50\n",
    "sugar candy: 8\n",
    "apple: 25\n",
    "banana: 35"
   ]
  },
  {
   "cell_type": "code",
   "execution_count": 17,
   "id": "fresh-virtue",
   "metadata": {},
   "outputs": [
    {
     "ename": "NameError",
     "evalue": "name 'prices' is not defined",
     "output_type": "error",
     "traceback": [
      "\u001b[0;31m---------------------------------------------------------------------------\u001b[0m",
      "\u001b[0;31mNameError\u001b[0m                                 Traceback (most recent call last)",
      "\u001b[0;32m<ipython-input-17-42a72a8bffac>\u001b[0m in \u001b[0;36m<module>\u001b[0;34m\u001b[0m\n\u001b[1;32m     10\u001b[0m             \u001b[0mprint\u001b[0m\u001b[0;34m(\u001b[0m\u001b[0ms\u001b[0m\u001b[0;34m)\u001b[0m\u001b[0;34m\u001b[0m\u001b[0;34m\u001b[0m\u001b[0m\n\u001b[1;32m     11\u001b[0m             \u001b[0mprice\u001b[0m\u001b[0;34m[\u001b[0m\u001b[0ms\u001b[0m\u001b[0;34m[\u001b[0m\u001b[0;36m0\u001b[0m\u001b[0;34m]\u001b[0m\u001b[0;34m]\u001b[0m \u001b[0;34m=\u001b[0m \u001b[0ms\u001b[0m\u001b[0;34m[\u001b[0m\u001b[0;36m1\u001b[0m\u001b[0;34m]\u001b[0m\u001b[0;34m\u001b[0m\u001b[0;34m\u001b[0m\u001b[0m\n\u001b[0;32m---> 12\u001b[0;31m \u001b[0mread_price\u001b[0m\u001b[0;34m(\u001b[0m\u001b[0mprices\u001b[0m\u001b[0;34m.\u001b[0m\u001b[0mtxt\u001b[0m\u001b[0;34m)\u001b[0m\u001b[0;34m\u001b[0m\u001b[0;34m\u001b[0m\u001b[0m\n\u001b[0m",
      "\u001b[0;31mNameError\u001b[0m: name 'prices' is not defined"
     ]
    }
   ],
   "source": [
    "price = {}\n",
    "def read_price(file):\n",
    "    with open(file,'r') as f:\n",
    "        content = f.readlines()\n",
    "        new=[]\n",
    "        for i in content:\n",
    "            new.append(i.strip('\\n'))\n",
    "        for j in new:\n",
    "            s = j.split(': ')\n",
    "            print(s)\n",
    "            price[s[0]] = s[1]\n",
    "read_price(prices.txt)"
   ]
  },
  {
   "cell_type": "code",
   "execution_count": null,
   "id": "pediatric-fault",
   "metadata": {},
   "outputs": [],
   "source": []
  }
 ],
 "metadata": {
  "kernelspec": {
   "display_name": "Python 3",
   "language": "python",
   "name": "python3"
  },
  "language_info": {
   "codemirror_mode": {
    "name": "ipython",
    "version": 3
   },
   "file_extension": ".py",
   "mimetype": "text/x-python",
   "name": "python",
   "nbconvert_exporter": "python",
   "pygments_lexer": "ipython3",
   "version": "3.8.10"
  }
 },
 "nbformat": 4,
 "nbformat_minor": 5
}
