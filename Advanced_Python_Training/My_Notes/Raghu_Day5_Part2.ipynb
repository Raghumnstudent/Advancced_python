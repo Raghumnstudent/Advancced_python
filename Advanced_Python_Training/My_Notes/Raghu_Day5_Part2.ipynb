{
 "cells": [
  {
   "cell_type": "markdown",
   "id": "floral-twenty",
   "metadata": {},
   "source": [
    "**Today Topics**\n",
    "\n",
    "```\n",
    "Working with APIs\n",
    "SQLAlchemy\n",
    "```"
   ]
  },
  {
   "cell_type": "markdown",
   "id": "unauthorized-triple",
   "metadata": {},
   "source": [
    "**Working with Web & APIs**"
   ]
  },
  {
   "cell_type": "markdown",
   "id": "cordless-sector",
   "metadata": {},
   "source": [
    "Better to use the request for fetching data, instead of urllib"
   ]
  },
  {
   "cell_type": "code",
   "execution_count": 7,
   "id": "concrete-color",
   "metadata": {},
   "outputs": [],
   "source": [
    "from urllib.request import urlopen"
   ]
  },
  {
   "cell_type": "code",
   "execution_count": 8,
   "id": "interested-bristol",
   "metadata": {},
   "outputs": [],
   "source": [
    "url = \"https://anandology.com/tmp/hello.txt\""
   ]
  },
  {
   "cell_type": "code",
   "execution_count": 9,
   "id": "polyphonic-procurement",
   "metadata": {},
   "outputs": [
    {
     "data": {
      "text/plain": [
       "b'Hello, world!\\n'"
      ]
     },
     "execution_count": 9,
     "metadata": {},
     "output_type": "execute_result"
    }
   ],
   "source": [
    "urlopen(url).read()"
   ]
  },
  {
   "cell_type": "code",
   "execution_count": 10,
   "id": "known-switzerland",
   "metadata": {},
   "outputs": [
    {
     "data": {
      "text/plain": [
       "'Hello, world!\\n'"
      ]
     },
     "execution_count": 10,
     "metadata": {},
     "output_type": "execute_result"
    }
   ],
   "source": [
    "urlopen(url).read().decode('utf-8')"
   ]
  },
  {
   "cell_type": "code",
   "execution_count": 12,
   "id": "junior-asset",
   "metadata": {},
   "outputs": [],
   "source": [
    "response = urlopen(url)"
   ]
  },
  {
   "cell_type": "code",
   "execution_count": 13,
   "id": "registered-teens",
   "metadata": {},
   "outputs": [
    {
     "data": {
      "text/plain": [
       "<http.client.HTTPResponse at 0x7f149da8aa60>"
      ]
     },
     "execution_count": 13,
     "metadata": {},
     "output_type": "execute_result"
    }
   ],
   "source": [
    "response"
   ]
  },
  {
   "cell_type": "code",
   "execution_count": 14,
   "id": "indonesian-packet",
   "metadata": {},
   "outputs": [
    {
     "name": "stdout",
     "output_type": "stream",
     "text": [
      "200\n"
     ]
    }
   ],
   "source": [
    "print(response.status)"
   ]
  },
  {
   "cell_type": "code",
   "execution_count": 15,
   "id": "upper-circulation",
   "metadata": {},
   "outputs": [
    {
     "name": "stdout",
     "output_type": "stream",
     "text": [
      "Server: nginx/1.10.3 (Ubuntu)\n",
      "Date: Fri, 11 Feb 2022 08:55:37 GMT\n",
      "Content-Type: text/plain\n",
      "Content-Length: 14\n",
      "Last-Modified: Sat, 30 Nov 2019 10:26:32 GMT\n",
      "Connection: close\n",
      "ETag: \"5de243d8-e\"\n",
      "Access-Control-Allow-Origin: *\n",
      "Accept-Ranges: bytes\n",
      "\n",
      "\n"
     ]
    }
   ],
   "source": [
    "print(response.headers)"
   ]
  },
  {
   "cell_type": "code",
   "execution_count": 16,
   "id": "average-monitoring",
   "metadata": {},
   "outputs": [
    {
     "name": "stdout",
     "output_type": "stream",
     "text": [
      "Hello, world!\n"
     ]
    }
   ],
   "source": [
    "!curl https://anandology.com/tmp/hello.txt"
   ]
  },
  {
   "cell_type": "code",
   "execution_count": 17,
   "id": "dressed-positive",
   "metadata": {},
   "outputs": [
    {
     "name": "stdout",
     "output_type": "stream",
     "text": [
      "HTTP/1.1 200 OK\n",
      "\u001b[1mServer\u001b[0m: nginx/1.10.3 (Ubuntu)\n",
      "\u001b[1mDate\u001b[0m: Fri, 11 Feb 2022 08:56:50 GMT\n",
      "\u001b[1mContent-Type\u001b[0m: text/plain\n",
      "\u001b[1mContent-Length\u001b[0m: 14\n",
      "\u001b[1mLast-Modified\u001b[0m: Sat, 30 Nov 2019 10:26:32 GMT\n",
      "\u001b[1mConnection\u001b[0m: keep-alive\n",
      "\u001b[1mETag\u001b[0m: \"5de243d8-e\"\n",
      "\u001b[1mAccess-Control-Allow-Origin\u001b[0m: *\n",
      "\u001b[1mAccept-Ranges\u001b[0m: bytes\n",
      "\n",
      "Hello, world!\n"
     ]
    }
   ],
   "source": [
    "!curl -i https://anandology.com/tmp/hello.txt"
   ]
  },
  {
   "cell_type": "markdown",
   "id": "exempt-longer",
   "metadata": {},
   "source": [
    "The `requests` Module"
   ]
  },
  {
   "cell_type": "markdown",
   "id": "supported-confidence",
   "metadata": {},
   "source": [
    "There is a very popular third-party library called requests for handling HTTP requests.\n",
    "\n",
    "To install it, use:"
   ]
  },
  {
   "cell_type": "code",
   "execution_count": 19,
   "id": "invisible-texas",
   "metadata": {},
   "outputs": [],
   "source": [
    "import requests"
   ]
  },
  {
   "cell_type": "code",
   "execution_count": 20,
   "id": "extra-junior",
   "metadata": {},
   "outputs": [],
   "source": [
    "url = \"https://anandology.com/tmp/hello.txt\""
   ]
  },
  {
   "cell_type": "code",
   "execution_count": 21,
   "id": "israeli-insulin",
   "metadata": {},
   "outputs": [],
   "source": [
    "response = requests.get(url)"
   ]
  },
  {
   "cell_type": "code",
   "execution_count": 22,
   "id": "annual-compilation",
   "metadata": {},
   "outputs": [
    {
     "data": {
      "text/plain": [
       "200"
      ]
     },
     "execution_count": 22,
     "metadata": {},
     "output_type": "execute_result"
    }
   ],
   "source": [
    "response.status_code"
   ]
  },
  {
   "cell_type": "code",
   "execution_count": 23,
   "id": "nervous-indie",
   "metadata": {},
   "outputs": [
    {
     "data": {
      "text/plain": [
       "{'Server': 'nginx/1.10.3 (Ubuntu)', 'Date': 'Fri, 11 Feb 2022 08:58:10 GMT', 'Content-Type': 'text/plain', 'Content-Length': '14', 'Last-Modified': 'Sat, 30 Nov 2019 10:26:32 GMT', 'Connection': 'keep-alive', 'ETag': '\"5de243d8-e\"', 'Access-Control-Allow-Origin': '*', 'Accept-Ranges': 'bytes'}"
      ]
     },
     "execution_count": 23,
     "metadata": {},
     "output_type": "execute_result"
    }
   ],
   "source": [
    "response.headers"
   ]
  },
  {
   "cell_type": "code",
   "execution_count": 24,
   "id": "endangered-medicine",
   "metadata": {},
   "outputs": [
    {
     "data": {
      "text/plain": [
       "b'Hello, world!\\n'"
      ]
     },
     "execution_count": 24,
     "metadata": {},
     "output_type": "execute_result"
    }
   ],
   "source": [
    "# read the response as bytes\n",
    "response.content"
   ]
  },
  {
   "cell_type": "code",
   "execution_count": 25,
   "id": "robust-depression",
   "metadata": {},
   "outputs": [
    {
     "data": {
      "text/plain": [
       "'Hello, world!\\n'"
      ]
     },
     "execution_count": 25,
     "metadata": {},
     "output_type": "execute_result"
    }
   ],
   "source": [
    "# read the response as text\n",
    "response.text "
   ]
  },
  {
   "cell_type": "markdown",
   "id": "technological-malawi",
   "metadata": {},
   "source": [
    "**Problem:**\n",
    "Write a program sumfile.py that takes a filename as command-line argument and prints sum of all numbers in that file. It is expected that the file will have one number for every line. The program should ignore the line if it is not a valid number after printing a warning message. The warning message should be printed to sys.stderr.\n",
    "```\n",
    "$ python sumfile.py files/numbers.txt\n",
    "WARNING: Bad number 'N/A'\n",
    "WARNING: Bad number 'xxx'\n",
    "15\n",
    "```"
   ]
  },
  {
   "cell_type": "code",
   "execution_count": 79,
   "id": "gross-hampton",
   "metadata": {},
   "outputs": [
    {
     "name": "stdout",
     "output_type": "stream",
     "text": [
      "Overwriting numbers.txt\n"
     ]
    }
   ],
   "source": [
    "%%file numbers.txt\n",
    "1\n",
    "2\n",
    "3\n",
    "N/A\n",
    "4\n",
    "xxx\n",
    "5\n"
   ]
  },
  {
   "cell_type": "code",
   "execution_count": 94,
   "id": "spoken-newport",
   "metadata": {},
   "outputs": [
    {
     "name": "stdout",
     "output_type": "stream",
     "text": [
      "Overwriting sumfile.py\n"
     ]
    }
   ],
   "source": [
    "%%file sumfile.py\n",
    "import sys\n",
    "filename = sys.argv[1]\n",
    "with open(filename,'r') as f:\n",
    "    sum = 0\n",
    "    a = f.readlines()\n",
    "    for i in a:\n",
    "        try:\n",
    "            sum+=int(i.strip('\\n'))\n",
    "        except ValueError:\n",
    "            sys.stderr.write(\"Warning: Bad Number \" + i)\n",
    "    print(sum)"
   ]
  },
  {
   "cell_type": "code",
   "execution_count": 95,
   "id": "judicial-chambers",
   "metadata": {},
   "outputs": [
    {
     "name": "stdout",
     "output_type": "stream",
     "text": [
      "Warning: Bad Number N/A\n",
      "Warning: Bad Number xxx\n",
      "15\n"
     ]
    }
   ],
   "source": [
    "!python sumfile.py numbers.txt"
   ]
  },
  {
   "cell_type": "code",
   "execution_count": null,
   "id": "proprietary-grounds",
   "metadata": {},
   "outputs": [],
   "source": []
  },
  {
   "cell_type": "code",
   "execution_count": null,
   "id": "bearing-gentleman",
   "metadata": {},
   "outputs": [],
   "source": []
  },
  {
   "cell_type": "code",
   "execution_count": null,
   "id": "minute-roberts",
   "metadata": {},
   "outputs": [],
   "source": []
  },
  {
   "cell_type": "code",
   "execution_count": 132,
   "id": "exceptional-thumb",
   "metadata": {},
   "outputs": [],
   "source": [
    "from sqlalchemy import create_engine\n",
    "from sqlalchemy import MetaData, Table\n",
    "from sqlalchemy import desc\n",
    "from sqlalchemy import select"
   ]
  },
  {
   "cell_type": "code",
   "execution_count": 133,
   "id": "afraid-nickname",
   "metadata": {},
   "outputs": [],
   "source": [
    "engine = create_engine(\"sqlite:///trains.db\")"
   ]
  },
  {
   "cell_type": "code",
   "execution_count": 134,
   "id": "affecting-debut",
   "metadata": {},
   "outputs": [],
   "source": [
    "metadata = MetaData(bind=engine)"
   ]
  },
  {
   "cell_type": "code",
   "execution_count": 135,
   "id": "altered-stephen",
   "metadata": {},
   "outputs": [],
   "source": [
    "train_table = Table('train', metadata, autoload=True)\n",
    "station_table = Table('station', metadata, autoload=True)"
   ]
  },
  {
   "cell_type": "code",
   "execution_count": 136,
   "id": "suitable-mouth",
   "metadata": {},
   "outputs": [
    {
     "name": "stdout",
     "output_type": "stream",
     "text": [
      "train.number\n",
      "train.name\n",
      "train.type\n",
      "train.zone\n",
      "train.from_station_code\n",
      "train.from_station_name\n",
      "train.to_station_code\n",
      "train.to_station_name\n",
      "train.departure\n",
      "train.arrival\n",
      "train.duration_h\n",
      "train.duration_m\n",
      "train.distance\n",
      "train.return_train\n",
      "train.sleeper\n",
      "train.third_ac\n",
      "train.second_ac\n",
      "train.first_ac\n",
      "train.first_class\n",
      "train.chair_car\n"
     ]
    }
   ],
   "source": [
    "for c in train_table.columns:\n",
    "    print(c)"
   ]
  },
  {
   "cell_type": "code",
   "execution_count": 137,
   "id": "secret-humor",
   "metadata": {},
   "outputs": [
    {
     "name": "stdout",
     "output_type": "stream",
     "text": [
      "station.code\n",
      "station.name\n",
      "station.zone\n",
      "station.state\n",
      "station.address\n",
      "station.latitude\n",
      "station.longitude\n"
     ]
    }
   ],
   "source": [
    "for c in station_table.columns:\n",
    "    print(c)"
   ]
  },
  {
   "cell_type": "code",
   "execution_count": 151,
   "id": "filled-application",
   "metadata": {},
   "outputs": [
    {
     "name": "stdout",
     "output_type": "stream",
     "text": [
      "Overwriting find-trains.py\n"
     ]
    }
   ],
   "source": [
    "%%file find-trains.py\n",
    "import sys\n",
    "from sqlalchemy import create_engine\n",
    "from sqlalchemy import MetaData, Table\n",
    "from sqlalchemy import desc\n",
    "from sqlalchemy import select\n",
    "\n",
    "engine = create_engine(\"sqlite:///trains.db\")\n",
    "metadata = MetaData(bind=engine)\n",
    "train_table = Table('train', metadata, autoload=True)\n",
    "station_table = Table('station', metadata, autoload=True)\n",
    "\n",
    "t = train_table\n",
    "s = station_table\n",
    "\n",
    "q = (select(\n",
    "        t.c.departure,\n",
    "        t.c.arrival,\n",
    "        t.c.number,\n",
    "        t.c.name,\n",
    "        t.c.distance)\n",
    "     .where(s.c.code==sys.argv[2], s.c.code==sys.argv[2] )\n",
    "     .order_by(t.c.departure.desc())\n",
    "     .limit(10))   \n",
    "print(q)"
   ]
  },
  {
   "cell_type": "code",
   "execution_count": 152,
   "id": "prerequisite-actress",
   "metadata": {},
   "outputs": [
    {
     "name": "stdout",
     "output_type": "stream",
     "text": [
      "SELECT train.departure, train.arrival, train.number, train.name, train.distance \n",
      "FROM train, station \n",
      "WHERE station.code = ? AND station.code = ? ORDER BY train.departure DESC\n",
      " LIMIT ? OFFSET ?\n"
     ]
    }
   ],
   "source": [
    "!python find-trains.py SBC MAS"
   ]
  },
  {
   "cell_type": "code",
   "execution_count": 154,
   "id": "unique-possible",
   "metadata": {},
   "outputs": [
    {
     "name": "stdout",
     "output_type": "stream",
     "text": [
      "('None', 'None', '24041', 'DELHI SARAI ROHILLA - KOTDWAR Mussoorie Exp', '')\n",
      "('None', 'None', '12374', 'RAMPURHAT - SEALDAH Intercity SF Exp', '')\n",
      "('None', 'None', '12373', 'SEALDAH - RAMPURHAT Intercity SF Exp', '')\n",
      "('None', 'None', '13258', 'ANAND VIHAR DELHI - DANAPUR JanSadharan Exp', '')\n",
      "('None', 'None', '13257', 'DANAPUR - DELHI ANAND VIHAR Jan Sadharan Express', '')\n",
      "('None', 'None', '57326', 'GUNTUR - KACHEGUDA PASS', '')\n",
      "('None', 'None', '57325', 'KACHEGUDA - GUNTUR PASS', '')\n",
      "('None', 'None', '12163', 'DADAR - CHENNAI EGMORE SF Exp', '')\n",
      "('None', 'None', '12164', 'DADAR - CHENNAI EGMORE SF Exp', '')\n",
      "('None', 'None', '12735', 'SECUNDERABAD - YESVANTPUR Garib Rath Exp', '')\n"
     ]
    }
   ],
   "source": [
    "result = q.execute()\n",
    "for row in result:\n",
    "    print(row)"
   ]
  },
  {
   "cell_type": "code",
   "execution_count": 153,
   "id": "amazing-utility",
   "metadata": {},
   "outputs": [
    {
     "data": {
      "text/plain": [
       "'1.4.31'"
      ]
     },
     "execution_count": 153,
     "metadata": {},
     "output_type": "execute_result"
    }
   ],
   "source": [
    "import sqlalchemy\n",
    "sqlalchemy.__version__"
   ]
  },
  {
   "cell_type": "code",
   "execution_count": 131,
   "id": "aging-remainder",
   "metadata": {},
   "outputs": [
    {
     "ename": "NameError",
     "evalue": "name 'select' is not defined",
     "output_type": "error",
     "traceback": [
      "\u001b[0;31m---------------------------------------------------------------------------\u001b[0m",
      "\u001b[0;31mNameError\u001b[0m                                 Traceback (most recent call last)",
      "\u001b[0;32m<ipython-input-131-42ccc4886f17>\u001b[0m in \u001b[0;36m<module>\u001b[0;34m\u001b[0m\n\u001b[1;32m      1\u001b[0m \u001b[0mt\u001b[0m \u001b[0;34m=\u001b[0m \u001b[0mtrain_table\u001b[0m\u001b[0;34m\u001b[0m\u001b[0;34m\u001b[0m\u001b[0m\n\u001b[1;32m      2\u001b[0m \u001b[0;34m\u001b[0m\u001b[0m\n\u001b[0;32m----> 3\u001b[0;31m q = (select(\n\u001b[0m\u001b[1;32m      4\u001b[0m         \u001b[0mt\u001b[0m\u001b[0;34m.\u001b[0m\u001b[0mc\u001b[0m\u001b[0;34m.\u001b[0m\u001b[0mnumber\u001b[0m\u001b[0;34m,\u001b[0m\u001b[0;34m\u001b[0m\u001b[0;34m\u001b[0m\u001b[0m\n\u001b[1;32m      5\u001b[0m         \u001b[0mt\u001b[0m\u001b[0;34m.\u001b[0m\u001b[0mc\u001b[0m\u001b[0;34m.\u001b[0m\u001b[0mname\u001b[0m\u001b[0;34m,\u001b[0m\u001b[0;34m\u001b[0m\u001b[0;34m\u001b[0m\u001b[0m\n",
      "\u001b[0;31mNameError\u001b[0m: name 'select' is not defined"
     ]
    }
   ],
   "source": [
    "t = train_table\n",
    "\n",
    "q = (select(\n",
    "        t.c.number,\n",
    "        t.c.name,\n",
    "        t.c.from_station_code,\n",
    "        t.c.to_station_code,\n",
    "        t.c.distance)\n",
    "     .where(t.c.distance != '')\n",
    "     .order_by(t.c.distance.desc())\n",
    "     .limit(10))     \n",
    "print(q)"
   ]
  },
  {
   "cell_type": "code",
   "execution_count": null,
   "id": "mysterious-reasoning",
   "metadata": {},
   "outputs": [],
   "source": []
  }
 ],
 "metadata": {
  "kernelspec": {
   "display_name": "Python 3",
   "language": "python",
   "name": "python3"
  },
  "language_info": {
   "codemirror_mode": {
    "name": "ipython",
    "version": 3
   },
   "file_extension": ".py",
   "mimetype": "text/x-python",
   "name": "python",
   "nbconvert_exporter": "python",
   "pygments_lexer": "ipython3",
   "version": "3.8.5"
  }
 },
 "nbformat": 4,
 "nbformat_minor": 5
}
