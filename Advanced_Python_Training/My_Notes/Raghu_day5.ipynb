{
 "cells": [
  {
   "cell_type": "markdown",
   "id": "bizarre-compound",
   "metadata": {},
   "source": [
    "# Day 5"
   ]
  },
  {
   "cell_type": "code",
   "execution_count": 1,
   "id": "little-humidity",
   "metadata": {},
   "outputs": [
    {
     "name": "stdout",
     "output_type": "stream",
     "text": [
      "SQL Alchemy\n"
     ]
    }
   ],
   "source": [
    "print('SQL Alchemy')"
   ]
  },
  {
   "cell_type": "code",
   "execution_count": 2,
   "id": "false-receipt",
   "metadata": {},
   "outputs": [],
   "source": [
    "from urllib.request import urlopen"
   ]
  },
  {
   "cell_type": "code",
   "execution_count": 3,
   "id": "productive-symbol",
   "metadata": {},
   "outputs": [],
   "source": [
    "url = \"https://anandology.com/tmp/hello.txt\""
   ]
  },
  {
   "cell_type": "code",
   "execution_count": 4,
   "id": "modified-telescope",
   "metadata": {},
   "outputs": [
    {
     "data": {
      "text/plain": [
       "b'Hello, world!\\n'"
      ]
     },
     "execution_count": 4,
     "metadata": {},
     "output_type": "execute_result"
    }
   ],
   "source": [
    "urlopen(url).read()"
   ]
  },
  {
   "cell_type": "code",
   "execution_count": 5,
   "id": "analyzed-words",
   "metadata": {},
   "outputs": [
    {
     "data": {
      "text/plain": [
       "'Hello, world!\\n'"
      ]
     },
     "execution_count": 5,
     "metadata": {},
     "output_type": "execute_result"
    }
   ],
   "source": [
    "urlopen(url).read().decode()"
   ]
  },
  {
   "cell_type": "code",
   "execution_count": 6,
   "id": "chronic-architect",
   "metadata": {},
   "outputs": [],
   "source": [
    "response = urlopen(url)"
   ]
  },
  {
   "cell_type": "code",
   "execution_count": 7,
   "id": "revised-portugal",
   "metadata": {},
   "outputs": [
    {
     "data": {
      "text/plain": [
       "<http.client.HTTPResponse at 0x7fda710aaa60>"
      ]
     },
     "execution_count": 7,
     "metadata": {},
     "output_type": "execute_result"
    }
   ],
   "source": [
    "response"
   ]
  },
  {
   "cell_type": "code",
   "execution_count": 8,
   "id": "introductory-blowing",
   "metadata": {},
   "outputs": [
    {
     "name": "stdout",
     "output_type": "stream",
     "text": [
      "200\n"
     ]
    }
   ],
   "source": [
    "\n",
    "print(response.status)"
   ]
  },
  {
   "cell_type": "code",
   "execution_count": 9,
   "id": "published-cattle",
   "metadata": {},
   "outputs": [
    {
     "name": "stdout",
     "output_type": "stream",
     "text": [
      "Server: nginx/1.10.3 (Ubuntu)\n",
      "Date: Fri, 11 Feb 2022 04:15:13 GMT\n",
      "Content-Type: text/plain\n",
      "Content-Length: 14\n",
      "Last-Modified: Sat, 30 Nov 2019 10:26:32 GMT\n",
      "Connection: close\n",
      "ETag: \"5de243d8-e\"\n",
      "Access-Control-Allow-Origin: *\n",
      "Accept-Ranges: bytes\n",
      "\n",
      "\n"
     ]
    }
   ],
   "source": [
    "print(response.headers)"
   ]
  },
  {
   "cell_type": "code",
   "execution_count": 10,
   "id": "voluntary-utilization",
   "metadata": {},
   "outputs": [
    {
     "name": "stdout",
     "output_type": "stream",
     "text": [
      "Hello, world!\n"
     ]
    }
   ],
   "source": [
    "!curl https://anandology.com/tmp/hello.txt"
   ]
  },
  {
   "cell_type": "code",
   "execution_count": 11,
   "id": "undefined-potter",
   "metadata": {},
   "outputs": [
    {
     "name": "stdout",
     "output_type": "stream",
     "text": [
      "HTTP/1.1 200 OK\n",
      "\u001b[1mServer\u001b[0m: nginx/1.10.3 (Ubuntu)\n",
      "\u001b[1mDate\u001b[0m: Fri, 11 Feb 2022 04:15:48 GMT\n",
      "\u001b[1mContent-Type\u001b[0m: text/plain\n",
      "\u001b[1mContent-Length\u001b[0m: 14\n",
      "\u001b[1mLast-Modified\u001b[0m: Sat, 30 Nov 2019 10:26:32 GMT\n",
      "\u001b[1mConnection\u001b[0m: keep-alive\n",
      "\u001b[1mETag\u001b[0m: \"5de243d8-e\"\n",
      "\u001b[1mAccess-Control-Allow-Origin\u001b[0m: *\n",
      "\u001b[1mAccept-Ranges\u001b[0m: bytes\n",
      "\n",
      "Hello, world!\n"
     ]
    }
   ],
   "source": [
    "!curl -i https://anandology.com/tmp/hello.txt"
   ]
  },
  {
   "cell_type": "code",
   "execution_count": 81,
   "id": "based-processing",
   "metadata": {},
   "outputs": [
    {
     "name": "stdout",
     "output_type": "stream",
     "text": [
      "Overwriting wget.py\n"
     ]
    }
   ],
   "source": [
    "%%file wget.py\n",
    "import requests\n",
    "import sys\n",
    "url = sys.argv[1]\n",
    "filename = sys.argv[1].split('/')[-1]\n",
    "response = requests.get(url)\n",
    "header = response.headers\n",
    "with open(filename,'w') as f:\n",
    "    f.write(response.text)\n",
    "    \n",
    "    \n",
    "# with open(filename,'rb') as image :\n",
    "#     print(image)\n",
    "print(f'Downloaded to {filename}')\n"
   ]
  },
  {
   "cell_type": "code",
   "execution_count": 82,
   "id": "tracked-breast",
   "metadata": {},
   "outputs": [
    {
     "name": "stdout",
     "output_type": "stream",
     "text": [
      "Downloaded to hello.txt\n"
     ]
    }
   ],
   "source": [
    "!python wget.py https://anandology.com/tmp/hello.txt"
   ]
  },
  {
   "cell_type": "code",
   "execution_count": 83,
   "id": "sunrise-handy",
   "metadata": {},
   "outputs": [
    {
     "name": "stdout",
     "output_type": "stream",
     "text": [
      "Downloaded to python.png\n"
     ]
    }
   ],
   "source": [
    "!python wget.py https://anandology.com/tmp/python.png"
   ]
  },
  {
   "cell_type": "code",
   "execution_count": 84,
   "id": "amazing-serbia",
   "metadata": {},
   "outputs": [
    {
     "data": {
      "image/png": "[encoded data removed]",
      "text/plain": [
       "<IPython.core.display.Image object>"
      ]
     },
     "execution_count": 84,
     "metadata": {},
     "output_type": "execute_result"
    }
   ],
   "source": [
    "from IPython.display import Image\n",
    "Image(filename='python.png')"
   ]
  },
  {
   "cell_type": "markdown",
   "id": "italian-saint",
   "metadata": {},
   "source": [
    "Working with Database Metadata"
   ]
  },
  {
   "cell_type": "code",
   "execution_count": 23,
   "id": "israeli-captain",
   "metadata": {},
   "outputs": [],
   "source": [
    "from sqlalchemy import create_engine"
   ]
  },
  {
   "cell_type": "code",
   "execution_count": 24,
   "id": "designed-notebook",
   "metadata": {},
   "outputs": [],
   "source": [
    "engine = create_engine(\"sqlite:///trains.db\")"
   ]
  },
  {
   "cell_type": "code",
   "execution_count": 25,
   "id": "spanish-basket",
   "metadata": {},
   "outputs": [
    {
     "name": "stdout",
     "output_type": "stream",
     "text": [
      "[(2,)]\n"
     ]
    }
   ],
   "source": [
    "with engine.connect() as conn:\n",
    "    result = conn.execute(\"select 2\")\n",
    "    print(result.all())"
   ]
  },
  {
   "cell_type": "code",
   "execution_count": 26,
   "id": "sustained-kitchen",
   "metadata": {},
   "outputs": [
    {
     "name": "stdout",
     "output_type": "stream",
     "text": [
      "('04601', 'Jammu Tawi Udhampur Special', 'JAT', 'UHP')\n",
      "('04602', 'UDHAMPUR JAMMUTAWI DMU', 'UHP', 'JAT')\n",
      "('04603', 'JAT UDAHMPUR DMU', 'JAT', 'UHP')\n",
      "('04604', 'UDHAMPUR JAMMUTAWI DMU', 'UHP', 'JAT')\n",
      "('04728', 'Mumbai BandraT-Bikaner SF Special', 'BDTS', 'BKN')\n"
     ]
    }
   ],
   "source": [
    "q = \"\"\"\n",
    "    select \n",
    "        number, \n",
    "        name, \n",
    "        from_station_code, \n",
    "        to_station_code \n",
    "    from train \n",
    "    limit 5\n",
    "    \"\"\"\n",
    "with engine.connect() as conn:\n",
    "    result = conn.execute(q)\n",
    "#     print(result.all()) # read all rows\n",
    "\n",
    "    for row in result:\n",
    "        print(row)"
   ]
  },
  {
   "cell_type": "code",
   "execution_count": 39,
   "id": "ultimate-locator",
   "metadata": {},
   "outputs": [],
   "source": [
    "from sqlalchemy import create_engine\n",
    "from sqlalchemy import MetaData, Table"
   ]
  },
  {
   "cell_type": "code",
   "execution_count": 40,
   "id": "documented-sentence",
   "metadata": {},
   "outputs": [],
   "source": [
    "engine = create_engine(\"sqlite:///trains.db\")"
   ]
  },
  {
   "cell_type": "code",
   "execution_count": 41,
   "id": "short-giant",
   "metadata": {},
   "outputs": [],
   "source": [
    "metadata = MetaData(bind=engine)"
   ]
  },
  {
   "cell_type": "code",
   "execution_count": 42,
   "id": "preceding-program",
   "metadata": {},
   "outputs": [],
   "source": [
    "train_table = Table('train', metadata, autoload=True)\n",
    "station_table = Table('station', metadata, autoload=True)"
   ]
  },
  {
   "cell_type": "code",
   "execution_count": 43,
   "id": "reduced-orchestra",
   "metadata": {},
   "outputs": [],
   "source": [
    "from sqlalchemy import select"
   ]
  },
  {
   "cell_type": "code",
   "execution_count": 44,
   "id": "interpreted-murder",
   "metadata": {},
   "outputs": [],
   "source": [
    "s = station_table\n",
    "\n",
    "query = select(\n",
    "        s.c.name,\n",
    "    ).limit(5)"
   ]
  },
  {
   "cell_type": "code",
   "execution_count": 45,
   "id": "automatic-manner",
   "metadata": {},
   "outputs": [
    {
     "name": "stdout",
     "output_type": "stream",
     "text": [
      "('Badhal',)\n",
      "('KICHHA',)\n",
      "('Sherekan',)\n",
      "('Bhukarka',)\n",
      "('Nohar',)\n"
     ]
    }
   ],
   "source": [
    "stations = query.execute()\n",
    "for station in stations:\n",
    "    print(station)"
   ]
  },
  {
   "cell_type": "markdown",
   "id": "constant-coating",
   "metadata": {},
   "source": [
    "Problem: List 10 stations in Karnataka."
   ]
  },
  {
   "cell_type": "code",
   "execution_count": 54,
   "id": "wooden-avatar",
   "metadata": {},
   "outputs": [
    {
     "name": "stdout",
     "output_type": "stream",
     "text": [
      "SELECT station.code, station.name, station.zone, station.state, station.address, station.latitude, station.longitude \n",
      "FROM station\n",
      " LIMIT ? OFFSET ?\n"
     ]
    }
   ],
   "source": [
    "q = station_table.select().limit(5)\n",
    "print(q)"
   ]
  },
  {
   "cell_type": "code",
   "execution_count": 55,
   "id": "german-chart",
   "metadata": {},
   "outputs": [],
   "source": [
    "s = station_table\n",
    "q = (select(\n",
    "        s.c.name)\n",
    "     .where(s.c.state == 'Karnataka')).limit(10)     "
   ]
  },
  {
   "cell_type": "code",
   "execution_count": 57,
   "id": "mighty-librarian",
   "metadata": {},
   "outputs": [
    {
     "name": "stdout",
     "output_type": "stream",
     "text": [
      "('Chikkandawadi',)\n",
      "('Aliyabad',)\n",
      "('Coromandel',)\n",
      "('Carmelaram',)\n",
      "('CHAMARAJANAGAR',)\n",
      "('CHAMARAJAPURAM',)\n",
      "('Chitradurg',)\n",
      "('CHANNASANDRA',)\n",
      "('DUROJI',)\n",
      "('Dodajala Lake',)\n"
     ]
    }
   ],
   "source": [
    "result = q.execute()\n",
    "for row in result:\n",
    "    print(row)"
   ]
  },
  {
   "cell_type": "markdown",
   "id": "administrative-republican",
   "metadata": {},
   "source": [
    "Using count function"
   ]
  },
  {
   "cell_type": "code",
   "execution_count": 81,
   "id": "discrete-recommendation",
   "metadata": {},
   "outputs": [],
   "source": [
    "from sqlalchemy import func"
   ]
  },
  {
   "cell_type": "code",
   "execution_count": 87,
   "id": "checked-programming",
   "metadata": {},
   "outputs": [
    {
     "name": "stdout",
     "output_type": "stream",
     "text": [
      "SELECT count(train.number) AS count_1 \n",
      "FROM train\n"
     ]
    }
   ],
   "source": [
    "t = train_table\n",
    "\n",
    "q = select(func.count(t.c.number))\n",
    "print(q)"
   ]
  },
  {
   "cell_type": "code",
   "execution_count": 88,
   "id": "collect-poison",
   "metadata": {},
   "outputs": [
    {
     "name": "stdout",
     "output_type": "stream",
     "text": [
      "(5208,)\n"
     ]
    }
   ],
   "source": [
    "result = q.execute()\n",
    "for row in result:\n",
    "    print(row)"
   ]
  },
  {
   "cell_type": "code",
   "execution_count": 89,
   "id": "fitting-active",
   "metadata": {},
   "outputs": [
    {
     "name": "stdout",
     "output_type": "stream",
     "text": [
      "SELECT count(train.number) AS count \n",
      "FROM train\n"
     ]
    }
   ],
   "source": [
    "q = select(\n",
    "        func.count(t.c.number).label('count'))\n",
    "print(q)"
   ]
  },
  {
   "cell_type": "code",
   "execution_count": 90,
   "id": "collected-microwave",
   "metadata": {},
   "outputs": [
    {
     "data": {
      "text/plain": [
       "(5208,)"
      ]
     },
     "execution_count": 90,
     "metadata": {},
     "output_type": "execute_result"
    }
   ],
   "source": [
    "q.execute().first()"
   ]
  },
  {
   "cell_type": "code",
   "execution_count": 91,
   "id": "divine-thumbnail",
   "metadata": {},
   "outputs": [
    {
     "data": {
      "text/plain": [
       "5208"
      ]
     },
     "execution_count": 91,
     "metadata": {},
     "output_type": "execute_result"
    }
   ],
   "source": [
    "q.execute().first().count"
   ]
  },
  {
   "cell_type": "markdown",
   "id": "swedish-messenger",
   "metadata": {},
   "source": [
    "How many trains are stating from Bangalore?"
   ]
  },
  {
   "cell_type": "code",
   "execution_count": 93,
   "id": "wooden-cassette",
   "metadata": {},
   "outputs": [
    {
     "name": "stdout",
     "output_type": "stream",
     "text": [
      "SELECT count(train.number) AS count \n",
      "FROM train \n",
      "WHERE train.from_station_code = ?\n"
     ]
    }
   ],
   "source": [
    "q = (select(\n",
    "        func.count(t.c.number).label('count'))\n",
    "     .where(t.c.from_station_code == 'SBC'))\n",
    "print(q)"
   ]
  },
  {
   "cell_type": "code",
   "execution_count": 94,
   "id": "geological-sender",
   "metadata": {},
   "outputs": [
    {
     "data": {
      "text/plain": [
       "57"
      ]
     },
     "execution_count": 94,
     "metadata": {},
     "output_type": "execute_result"
    }
   ],
   "source": [
    "q.execute().first().count"
   ]
  },
  {
   "cell_type": "markdown",
   "id": "weekly-copying",
   "metadata": {},
   "source": [
    "Problem: How many stations are there in Karnataka?"
   ]
  },
  {
   "cell_type": "code",
   "execution_count": 95,
   "id": "sealed-democracy",
   "metadata": {},
   "outputs": [],
   "source": [
    "s = station_table\n"
   ]
  },
  {
   "cell_type": "code",
   "execution_count": 97,
   "id": "renewable-manchester",
   "metadata": {},
   "outputs": [
    {
     "name": "stdout",
     "output_type": "stream",
     "text": [
      "SELECT count(station.state) AS count \n",
      "FROM station \n",
      "WHERE station.state = ?\n"
     ]
    }
   ],
   "source": [
    "q = (select(\n",
    "        func.count(s.c.state).label('count'))\n",
    "     .where(s.c.state == 'Karnataka'))\n",
    "print(q)"
   ]
  },
  {
   "cell_type": "code",
   "execution_count": 98,
   "id": "boolean-rolling",
   "metadata": {},
   "outputs": [
    {
     "data": {
      "text/plain": [
       "298"
      ]
     },
     "execution_count": 98,
     "metadata": {},
     "output_type": "execute_result"
    }
   ],
   "source": [
    "q.execute().first().count"
   ]
  },
  {
   "cell_type": "code",
   "execution_count": null,
   "id": "polar-niagara",
   "metadata": {},
   "outputs": [],
   "source": []
  },
  {
   "cell_type": "markdown",
   "id": "floating-burton",
   "metadata": {},
   "source": [
    "Which stations have the most number of trains starting from there?"
   ]
  },
  {
   "cell_type": "code",
   "execution_count": 105,
   "id": "every-taylor",
   "metadata": {},
   "outputs": [
    {
     "name": "stdout",
     "output_type": "stream",
     "text": [
      "SELECT train.from_station_code, train.from_station_name, count(*) AS count \n",
      "FROM train GROUP BY train.from_station_code, train.from_station_name ORDER BY count DESC\n",
      " LIMIT ? OFFSET ?\n"
     ]
    }
   ],
   "source": [
    "from sqlalchemy import desc\n",
    "\n",
    "t = train_table\n",
    "\n",
    "q = (select(\n",
    "        t.c.from_station_code,\n",
    "        t.c.from_station_name,\n",
    "        func.count().label('count'))\n",
    "     .group_by(t.c.from_station_code, t.c.from_station_name)\n",
    "#      .order_by(func.count().desc())\n",
    "     .order_by(desc('count'))\n",
    "     .limit(10))     \n",
    "print(q)"
   ]
  },
  {
   "cell_type": "code",
   "execution_count": 106,
   "id": "informative-count",
   "metadata": {},
   "outputs": [
    {
     "name": "stdout",
     "output_type": "stream",
     "text": [
      "('HWH', 'HOWRAH JN', 136)\n",
      "('MSB', 'CHENNAI BEACH', 122)\n",
      "('NDLS', 'NEW DELHI', 80)\n",
      "('DLI', 'OLD DELHI', 70)\n",
      "('MAS', 'CHENNAI CENTRAL', 68)\n",
      "('SBC', 'BANGALORE CITY JN', 57)\n",
      "('ADI', 'AHMEDABAD JN', 55)\n",
      "('LPI', 'LINGAMPALLI', 54)\n",
      "('HYB', 'HYDERABAD DECCAN', 53)\n",
      "('NZM', 'DELHI H NIZAMUDDIN', 51)\n"
     ]
    }
   ],
   "source": [
    "result = q.execute()\n",
    "for row in result:\n",
    "    print(row)"
   ]
  },
  {
   "cell_type": "markdown",
   "id": "rubber-missouri",
   "metadata": {},
   "source": [
    "Problem: Which states have the most number of railway stations?"
   ]
  },
  {
   "cell_type": "code",
   "execution_count": 107,
   "id": "administrative-residence",
   "metadata": {},
   "outputs": [
    {
     "name": "stdout",
     "output_type": "stream",
     "text": [
      "SELECT station.state, count(*) AS count \n",
      "FROM station GROUP BY station.state ORDER BY count DESC\n",
      " LIMIT ? OFFSET ?\n"
     ]
    }
   ],
   "source": [
    "from sqlalchemy import desc\n",
    "\n",
    "t = station_table\n",
    "\n",
    "q = (select(\n",
    "        t.c.state,\n",
    "        func.count().label('count'))\n",
    "     .group_by(t.c.state)\n",
    "#      .order_by(func.count().desc())\n",
    "     .order_by(desc('count'))\n",
    "     .limit(10))     \n",
    "print(q)"
   ]
  },
  {
   "cell_type": "code",
   "execution_count": 108,
   "id": "reasonable-detector",
   "metadata": {},
   "outputs": [
    {
     "name": "stdout",
     "output_type": "stream",
     "text": [
      "('', 4484)\n",
      "('Uttar Pradesh', 523)\n",
      "('Rajasthan', 443)\n",
      "('Gujarat', 366)\n",
      "('Maharashtra', 346)\n",
      "('West Bengal', 332)\n",
      "('Madhya Pradesh', 312)\n",
      "('Karnataka', 298)\n",
      "('Tamil Nadu', 236)\n",
      "('Punjab', 211)\n"
     ]
    }
   ],
   "source": [
    "result = q.execute()\n",
    "for row in result:\n",
    "    print(row)"
   ]
  },
  {
   "cell_type": "code",
   "execution_count": null,
   "id": "disciplinary-prescription",
   "metadata": {},
   "outputs": [],
   "source": []
  }
 ],
 "metadata": {
  "kernelspec": {
   "display_name": "Python 3 (ipykernel)",
   "language": "python",
   "name": "python3"
  },
  "language_info": {
   "codemirror_mode": {
    "name": "ipython",
    "version": 3
   },
   "file_extension": ".py",
   "mimetype": "text/x-python",
   "name": "python",
   "nbconvert_exporter": "python",
   "pygments_lexer": "ipython3",
   "version": "3.8.10"
  }
 },
 "nbformat": 4,
 "nbformat_minor": 5
}
