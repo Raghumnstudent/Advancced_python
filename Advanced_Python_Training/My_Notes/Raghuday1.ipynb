{
 "cells": [
  {
   "cell_type": "markdown",
   "id": "civilian-alliance",
   "metadata": {},
   "source": [
    "# Day 1"
   ]
  },
  {
   "cell_type": "code",
   "execution_count": 2,
   "id": "early-capital",
   "metadata": {},
   "outputs": [
    {
     "name": "stdout",
     "output_type": "stream",
     "text": [
      "Hello Raghu\n"
     ]
    }
   ],
   "source": [
    "print('Hello Raghu')"
   ]
  },
  {
   "cell_type": "code",
   "execution_count": 3,
   "id": "written-nothing",
   "metadata": {},
   "outputs": [
    {
     "name": "stdout",
     "output_type": "stream",
     "text": [
      "Mon 07 Feb 2022 04:43:44 AM UTC\n"
     ]
    }
   ],
   "source": [
    "!date"
   ]
  },
  {
   "cell_type": "code",
   "execution_count": 5,
   "id": "parental-bench",
   "metadata": {},
   "outputs": [
    {
     "name": "stdout",
     "output_type": "stream",
     "text": [
      "day1.ipynb  day2.ipynb\tday3.ipynb  day4.ipynb\tday5.ipynb\n"
     ]
    }
   ],
   "source": [
    "!ls"
   ]
  },
  {
   "cell_type": "code",
   "execution_count": 6,
   "id": "automatic-regular",
   "metadata": {},
   "outputs": [
    {
     "name": "stdout",
     "output_type": "stream",
     "text": [
      "Python 3.8.5\n"
     ]
    }
   ],
   "source": [
    "!python --version"
   ]
  },
  {
   "cell_type": "code",
   "execution_count": 8,
   "id": "polished-radius",
   "metadata": {},
   "outputs": [
    {
     "name": "stdout",
     "output_type": "stream",
     "text": [
      "Writing hello.py\n"
     ]
    }
   ],
   "source": [
    "%%file hello.py\n",
    "print('hello')"
   ]
  },
  {
   "cell_type": "code",
   "execution_count": 10,
   "id": "weekly-moscow",
   "metadata": {},
   "outputs": [
    {
     "name": "stdout",
     "output_type": "stream",
     "text": [
      "print('hello')\n"
     ]
    }
   ],
   "source": [
    "!cat hello.py"
   ]
  },
  {
   "cell_type": "code",
   "execution_count": 11,
   "id": "adjusted-oliver",
   "metadata": {},
   "outputs": [
    {
     "name": "stdout",
     "output_type": "stream",
     "text": [
      "hello\n"
     ]
    }
   ],
   "source": [
    "!python hello.py"
   ]
  },
  {
   "cell_type": "markdown",
   "id": "prescription-terrorist",
   "metadata": {},
   "source": [
    "#### Data Types"
   ]
  },
  {
   "cell_type": "markdown",
   "id": "norwegian-webmaster",
   "metadata": {},
   "source": [
    "Python has integers."
   ]
  },
  {
   "cell_type": "code",
   "execution_count": 12,
   "id": "attractive-riverside",
   "metadata": {},
   "outputs": [
    {
     "data": {
      "text/plain": [
       "6"
      ]
     },
     "execution_count": 12,
     "metadata": {},
     "output_type": "execute_result"
    }
   ],
   "source": [
    "2+4"
   ]
  },
  {
   "cell_type": "code",
   "execution_count": 13,
   "id": "sudden-hungarian",
   "metadata": {},
   "outputs": [
    {
     "data": {
      "text/plain": [
       "1267650600228229401496703205376"
      ]
     },
     "execution_count": 13,
     "metadata": {},
     "output_type": "execute_result"
    }
   ],
   "source": [
    "2**100"
   ]
  },
  {
   "cell_type": "raw",
   "id": "featured-specification",
   "metadata": {},
   "source": [
    "Python has Floating Numbers"
   ]
  },
  {
   "cell_type": "code",
   "execution_count": 15,
   "id": "absolute-basics",
   "metadata": {},
   "outputs": [
    {
     "data": {
      "text/plain": [
       "0.30000000000000004"
      ]
     },
     "execution_count": 15,
     "metadata": {},
     "output_type": "execute_result"
    }
   ],
   "source": [
    ".1+.2"
   ]
  },
  {
   "cell_type": "code",
   "execution_count": 16,
   "id": "optical-attack",
   "metadata": {},
   "outputs": [
    {
     "data": {
      "text/plain": [
       "0.8999999999999999"
      ]
     },
     "execution_count": 16,
     "metadata": {},
     "output_type": "execute_result"
    }
   ],
   "source": [
    ".2+.7"
   ]
  },
  {
   "cell_type": "code",
   "execution_count": 17,
   "id": "veterinary-douglas",
   "metadata": {},
   "outputs": [
    {
     "data": {
      "text/plain": [
       "0.6000000000000001"
      ]
     },
     "execution_count": 17,
     "metadata": {},
     "output_type": "execute_result"
    }
   ],
   "source": [
    ".2+.4"
   ]
  },
  {
   "cell_type": "raw",
   "id": "outside-romance",
   "metadata": {},
   "source": [
    "Stings"
   ]
  },
  {
   "cell_type": "code",
   "execution_count": 26,
   "id": "prompt-bullet",
   "metadata": {},
   "outputs": [
    {
     "name": "stdout",
     "output_type": "stream",
     "text": [
      "Raghu\n",
      "Raghu\n",
      "Raghu\n",
      "Raghu\n",
      "\n"
     ]
    }
   ],
   "source": [
    "print('Raghu\\n'*4)"
   ]
  },
  {
   "cell_type": "code",
   "execution_count": 18,
   "id": "aerial-spouse",
   "metadata": {},
   "outputs": [
    {
     "name": "stdout",
     "output_type": "stream",
     "text": [
      "a\n",
      "b\n",
      "c\n",
      "\n"
     ]
    }
   ],
   "source": [
    "print('a\\nb\\nc\\n')"
   ]
  },
  {
   "cell_type": "code",
   "execution_count": 128,
   "id": "comprehensive-mumbai",
   "metadata": {},
   "outputs": [
    {
     "name": "stdout",
     "output_type": "stream",
     "text": [
      "Name\tAge\tCountry\n",
      "Raghu\t45\tIndia\n"
     ]
    }
   ],
   "source": [
    "print('Name\\tAge\\tCountry') # \\t is tab space \n",
    "print('Raghu\\t45\\tIndia')"
   ]
  },
  {
   "cell_type": "code",
   "execution_count": 115,
   "id": "delayed-aviation",
   "metadata": {},
   "outputs": [
    {
     "name": "stdout",
     "output_type": "stream",
     "text": [
      "====================\n"
     ]
    }
   ],
   "source": [
    "print('='*20)"
   ]
  },
  {
   "cell_type": "code",
   "execution_count": 21,
   "id": "exotic-paste",
   "metadata": {},
   "outputs": [],
   "source": [
    "message = \"\"\" \n",
    "Hello Raghu, \n",
    "Welcome to Advanced Python Training \n",
    "\"\"\""
   ]
  },
  {
   "cell_type": "code",
   "execution_count": 22,
   "id": "urban-replica",
   "metadata": {},
   "outputs": [
    {
     "data": {
      "text/plain": [
       "' \\nHello Raghu, \\nWelcome to Advanced Python Training \\n'"
      ]
     },
     "execution_count": 22,
     "metadata": {},
     "output_type": "execute_result"
    }
   ],
   "source": [
    "message"
   ]
  },
  {
   "cell_type": "code",
   "execution_count": 23,
   "id": "eastern-excerpt",
   "metadata": {},
   "outputs": [
    {
     "name": "stdout",
     "output_type": "stream",
     "text": [
      " \n",
      "Hello Raghu, \n",
      "Welcome to Advanced Python Training \n",
      "\n"
     ]
    }
   ],
   "source": [
    "print(message)"
   ]
  },
  {
   "cell_type": "markdown",
   "id": "chemical-boring",
   "metadata": {},
   "source": [
    "#### Python string support unicode as well"
   ]
  },
  {
   "cell_type": "code",
   "execution_count": 119,
   "id": "sexual-complement",
   "metadata": {},
   "outputs": [
    {
     "name": "stdout",
     "output_type": "stream",
     "text": [
      "అ ఆ ఇ ఈ\n",
      "ಅ ಆ ಇ ಈ\n",
      "அ ஆ இ ஈ\n",
      "അ ആ ഇ ഈ\n",
      "अ आ इ ई\n"
     ]
    }
   ],
   "source": [
    "print(\"అ ఆ ఇ ఈ\") # Telugu\n",
    "print(\"ಅ ಆ ಇ ಈ\") # Kannada\n",
    "print(\"அ ஆ இ ஈ\") # Tamil\n",
    "print(\"അ ആ ഇ ഈ\") # Malayalam\n",
    "print(\"अ आ इ ई\") # Hindi"
   ]
  },
  {
   "cell_type": "code",
   "execution_count": 120,
   "id": "nuclear-breast",
   "metadata": {},
   "outputs": [
    {
     "name": "stdout",
     "output_type": "stream",
     "text": [
      "అ ఆ ఇ ఈ\n",
      "ಅ ಆ ಇ ಈ\n",
      "அ ஆ இ ஈ\n",
      "അ ആ ഇ ഈ\n",
      "अ आ इ ई\n"
     ]
    }
   ],
   "source": [
    "print(\"\\u0c05 \\u0c06 \\u0c07 \\u0c08\") # Telugu\n",
    "print(\"\\u0c85 \\u0c86 \\u0c87 \\u0c88\") # Kannada\n",
    "print(\"\\u0b85 \\u0b86 \\u0b87 \\u0b88\") # Tamil\n",
    "print(\"\\u0d05 \\u0d06 \\u0d07 \\u0d08\") # Malayalam\n",
    "print(\"\\u0905 \\u0906 \\u0907 \\u0908\") # Hindi"
   ]
  },
  {
   "cell_type": "code",
   "execution_count": 39,
   "id": "patent-mexican",
   "metadata": {},
   "outputs": [
    {
     "name": "stdout",
     "output_type": "stream",
     "text": [
      "😹\n"
     ]
    }
   ],
   "source": [
    "print(\"\\U0001f639\")"
   ]
  },
  {
   "cell_type": "code",
   "execution_count": 40,
   "id": "choice-married",
   "metadata": {},
   "outputs": [
    {
     "name": "stdout",
     "output_type": "stream",
     "text": [
      "😸\n"
     ]
    }
   ],
   "source": [
    "print(\"\\U0001f638\")"
   ]
  },
  {
   "cell_type": "code",
   "execution_count": 43,
   "id": "convenient-pierce",
   "metadata": {},
   "outputs": [
    {
     "name": "stdout",
     "output_type": "stream",
     "text": [
      "🙅\n"
     ]
    }
   ],
   "source": [
    "print(\"\\U0001f645\")"
   ]
  },
  {
   "cell_type": "code",
   "execution_count": 44,
   "id": "novel-bahamas",
   "metadata": {},
   "outputs": [
    {
     "name": "stdout",
     "output_type": "stream",
     "text": [
      "🙈\n"
     ]
    }
   ],
   "source": [
    "print(\"\\U0001f648\")"
   ]
  },
  {
   "cell_type": "markdown",
   "id": "proper-investing",
   "metadata": {},
   "source": [
    "#### Bytes"
   ]
  },
  {
   "cell_type": "markdown",
   "id": "hired-construction",
   "metadata": {},
   "source": [
    "Python has a `bytes` data type to represent binary data"
   ]
  },
  {
   "cell_type": "markdown",
   "id": "administrative-helen",
   "metadata": {},
   "source": [
    "bytes are written just like string with a b prefix."
   ]
  },
  {
   "cell_type": "code",
   "execution_count": 122,
   "id": "automated-hearts",
   "metadata": {},
   "outputs": [],
   "source": [
    "data = b'12234'"
   ]
  },
  {
   "cell_type": "code",
   "execution_count": 124,
   "id": "extra-constraint",
   "metadata": {},
   "outputs": [
    {
     "data": {
      "text/plain": [
       "bytes"
      ]
     },
     "execution_count": 124,
     "metadata": {},
     "output_type": "execute_result"
    }
   ],
   "source": [
    "type(data)"
   ]
  },
  {
   "cell_type": "markdown",
   "id": "forward-equipment",
   "metadata": {},
   "source": [
    "#### Lists"
   ]
  },
  {
   "cell_type": "code",
   "execution_count": 35,
   "id": "loose-emerald",
   "metadata": {},
   "outputs": [],
   "source": [
    "x = ['a','b',[1,3,5]]"
   ]
  },
  {
   "cell_type": "code",
   "execution_count": 36,
   "id": "suitable-toilet",
   "metadata": {},
   "outputs": [
    {
     "data": {
      "text/plain": [
       "'a'"
      ]
     },
     "execution_count": 36,
     "metadata": {},
     "output_type": "execute_result"
    }
   ],
   "source": [
    "x[0]"
   ]
  },
  {
   "cell_type": "code",
   "execution_count": 37,
   "id": "presidential-visit",
   "metadata": {},
   "outputs": [
    {
     "data": {
      "text/plain": [
       "[1, 3, 5]"
      ]
     },
     "execution_count": 37,
     "metadata": {},
     "output_type": "execute_result"
    }
   ],
   "source": [
    "x[2]"
   ]
  },
  {
   "cell_type": "code",
   "execution_count": null,
   "id": "given-collins",
   "metadata": {},
   "outputs": [],
   "source": [
    "len(x)"
   ]
  },
  {
   "cell_type": "markdown",
   "id": "disturbed-spanking",
   "metadata": {},
   "source": [
    "#### Dictionaries"
   ]
  },
  {
   "cell_type": "code",
   "execution_count": 130,
   "id": "powered-credit",
   "metadata": {},
   "outputs": [],
   "source": [
    "person = {\n",
    "    'name':'Raj',\n",
    "    'email':'raju@gamil.com',\n",
    "    'phone':123456,\n",
    "    'country':'India'\n",
    "}"
   ]
  },
  {
   "cell_type": "code",
   "execution_count": 131,
   "id": "working-beach",
   "metadata": {},
   "outputs": [
    {
     "data": {
      "text/plain": [
       "'Raj'"
      ]
     },
     "execution_count": 131,
     "metadata": {},
     "output_type": "execute_result"
    }
   ],
   "source": [
    "person['name']"
   ]
  },
  {
   "cell_type": "code",
   "execution_count": 133,
   "id": "affiliated-calendar",
   "metadata": {},
   "outputs": [
    {
     "data": {
      "text/plain": [
       "'India'"
      ]
     },
     "execution_count": 133,
     "metadata": {},
     "output_type": "execute_result"
    }
   ],
   "source": [
    "person['country']"
   ]
  },
  {
   "cell_type": "markdown",
   "id": "received-reader",
   "metadata": {},
   "source": [
    "#### Boolean Values"
   ]
  },
  {
   "cell_type": "code",
   "execution_count": 135,
   "id": "dimensional-power",
   "metadata": {},
   "outputs": [
    {
     "data": {
      "text/plain": [
       "True"
      ]
     },
     "execution_count": 135,
     "metadata": {},
     "output_type": "execute_result"
    }
   ],
   "source": [
    "True"
   ]
  },
  {
   "cell_type": "code",
   "execution_count": 136,
   "id": "global-facial",
   "metadata": {},
   "outputs": [
    {
     "data": {
      "text/plain": [
       "False"
      ]
     },
     "execution_count": 136,
     "metadata": {},
     "output_type": "execute_result"
    }
   ],
   "source": [
    "False"
   ]
  },
  {
   "cell_type": "code",
   "execution_count": 137,
   "id": "sealed-single",
   "metadata": {},
   "outputs": [],
   "source": [
    "filesize = 20"
   ]
  },
  {
   "cell_type": "code",
   "execution_count": 138,
   "id": "turned-wells",
   "metadata": {},
   "outputs": [
    {
     "data": {
      "text/plain": [
       "True"
      ]
     },
     "execution_count": 138,
     "metadata": {},
     "output_type": "execute_result"
    }
   ],
   "source": [
    "filesize>10"
   ]
  },
  {
   "cell_type": "code",
   "execution_count": 139,
   "id": "alien-publisher",
   "metadata": {},
   "outputs": [
    {
     "data": {
      "text/plain": [
       "False"
      ]
     },
     "execution_count": 139,
     "metadata": {},
     "output_type": "execute_result"
    }
   ],
   "source": [
    "filesize >30"
   ]
  },
  {
   "cell_type": "markdown",
   "id": "bronze-destruction",
   "metadata": {},
   "source": [
    "#### Other Data types"
   ]
  },
  {
   "cell_type": "markdown",
   "id": "acting-cleaning",
   "metadata": {},
   "source": [
    "Python has a `None` datatypes to represent nothing"
   ]
  },
  {
   "cell_type": "code",
   "execution_count": 141,
   "id": "nearby-dinner",
   "metadata": {},
   "outputs": [],
   "source": [
    "x = None"
   ]
  },
  {
   "cell_type": "code",
   "execution_count": 142,
   "id": "arabic-adult",
   "metadata": {},
   "outputs": [
    {
     "name": "stdout",
     "output_type": "stream",
     "text": [
      "None\n"
     ]
    }
   ],
   "source": [
    "print(x)"
   ]
  },
  {
   "cell_type": "markdown",
   "id": "satellite-interval",
   "metadata": {},
   "source": [
    "##### Python has tuple data types"
   ]
  },
  {
   "cell_type": "code",
   "execution_count": 143,
   "id": "posted-quantum",
   "metadata": {},
   "outputs": [],
   "source": [
    "nums = (2,4,6,8,10)"
   ]
  },
  {
   "cell_type": "code",
   "execution_count": 144,
   "id": "grateful-fifteen",
   "metadata": {},
   "outputs": [
    {
     "name": "stdout",
     "output_type": "stream",
     "text": [
      "(2, 4, 6, 8, 10) <class 'tuple'>\n"
     ]
    }
   ],
   "source": [
    "print(nums,type(nums))"
   ]
  },
  {
   "cell_type": "code",
   "execution_count": 145,
   "id": "guided-panel",
   "metadata": {},
   "outputs": [
    {
     "data": {
      "text/plain": [
       "2"
      ]
     },
     "execution_count": 145,
     "metadata": {},
     "output_type": "execute_result"
    }
   ],
   "source": [
    "nums[0]"
   ]
  },
  {
   "cell_type": "code",
   "execution_count": 146,
   "id": "forbidden-thanks",
   "metadata": {},
   "outputs": [
    {
     "data": {
      "text/plain": [
       "8"
      ]
     },
     "execution_count": 146,
     "metadata": {},
     "output_type": "execute_result"
    }
   ],
   "source": [
    "nums[-2]"
   ]
  },
  {
   "cell_type": "code",
   "execution_count": 147,
   "id": "seeing-bradley",
   "metadata": {},
   "outputs": [],
   "source": [
    "a,b,c,d,e = nums"
   ]
  },
  {
   "cell_type": "code",
   "execution_count": 148,
   "id": "reported-effects",
   "metadata": {},
   "outputs": [
    {
     "data": {
      "text/plain": [
       "2"
      ]
     },
     "execution_count": 148,
     "metadata": {},
     "output_type": "execute_result"
    }
   ],
   "source": [
    "a"
   ]
  },
  {
   "cell_type": "code",
   "execution_count": 149,
   "id": "arabic-testimony",
   "metadata": {},
   "outputs": [
    {
     "data": {
      "text/plain": [
       "8"
      ]
     },
     "execution_count": 149,
     "metadata": {},
     "output_type": "execute_result"
    }
   ],
   "source": [
    "d"
   ]
  },
  {
   "cell_type": "code",
   "execution_count": 150,
   "id": "incomplete-portfolio",
   "metadata": {},
   "outputs": [],
   "source": [
    "yellow = 255,255,0 # r,g,b"
   ]
  },
  {
   "cell_type": "code",
   "execution_count": 151,
   "id": "ideal-skiing",
   "metadata": {},
   "outputs": [
    {
     "data": {
      "text/plain": [
       "(255, 255, 0)"
      ]
     },
     "execution_count": 151,
     "metadata": {},
     "output_type": "execute_result"
    }
   ],
   "source": [
    "yellow"
   ]
  },
  {
   "cell_type": "markdown",
   "id": "adverse-resident",
   "metadata": {},
   "source": [
    "Python also has a `set` datatypes. A set is an unordered collection of unique elements"
   ]
  },
  {
   "cell_type": "code",
   "execution_count": 152,
   "id": "secondary-train",
   "metadata": {},
   "outputs": [
    {
     "data": {
      "text/plain": [
       "{1, 2, 3, 5, 7, 8}"
      ]
     },
     "execution_count": 152,
     "metadata": {},
     "output_type": "execute_result"
    }
   ],
   "source": [
    "{1,2,3,5,7,8,3,2,5,8}"
   ]
  },
  {
   "cell_type": "markdown",
   "id": "knowing-accessory",
   "metadata": {},
   "source": [
    "#### Functions"
   ]
  },
  {
   "cell_type": "markdown",
   "id": "inappropriate-kuwait",
   "metadata": {},
   "source": [
    "Python has many built-in functions"
   ]
  },
  {
   "cell_type": "code",
   "execution_count": 153,
   "id": "medium-design",
   "metadata": {},
   "outputs": [
    {
     "name": "stdout",
     "output_type": "stream",
     "text": [
      "Raghu\n"
     ]
    }
   ],
   "source": [
    "print('Raghu')"
   ]
  },
  {
   "cell_type": "code",
   "execution_count": 154,
   "id": "fatal-acquisition",
   "metadata": {},
   "outputs": [
    {
     "data": {
      "text/plain": [
       "5"
      ]
     },
     "execution_count": 154,
     "metadata": {},
     "output_type": "execute_result"
    }
   ],
   "source": [
    "len('Raghu')"
   ]
  },
  {
   "cell_type": "code",
   "execution_count": 155,
   "id": "psychological-antigua",
   "metadata": {},
   "outputs": [
    {
     "data": {
      "text/plain": [
       "str"
      ]
     },
     "execution_count": 155,
     "metadata": {},
     "output_type": "execute_result"
    }
   ],
   "source": [
    "type('Raghu')"
   ]
  },
  {
   "cell_type": "markdown",
   "id": "competitive-battery",
   "metadata": {},
   "source": [
    "You may have noticed that Python doesn't allow operations on incompatible data types."
   ]
  },
  {
   "cell_type": "code",
   "execution_count": 156,
   "id": "sufficient-rating",
   "metadata": {},
   "outputs": [
    {
     "ename": "TypeError",
     "evalue": "unsupported operand type(s) for +: 'int' and 'str'",
     "output_type": "error",
     "traceback": [
      "\u001b[0;31m---------------------------------------------------------------------------\u001b[0m",
      "\u001b[0;31mTypeError\u001b[0m                                 Traceback (most recent call last)",
      "\u001b[0;32m<ipython-input-156-a11677f986f5>\u001b[0m in \u001b[0;36m<module>\u001b[0;34m\u001b[0m\n\u001b[0;32m----> 1\u001b[0;31m \u001b[0;36m1\u001b[0m \u001b[0;34m+\u001b[0m \u001b[0;34m'2'\u001b[0m\u001b[0;34m\u001b[0m\u001b[0;34m\u001b[0m\u001b[0m\n\u001b[0m",
      "\u001b[0;31mTypeError\u001b[0m: unsupported operand type(s) for +: 'int' and 'str'"
     ]
    }
   ],
   "source": [
    "1 + '2'"
   ]
  },
  {
   "cell_type": "code",
   "execution_count": 157,
   "id": "hearing-consent",
   "metadata": {},
   "outputs": [
    {
     "data": {
      "text/plain": [
       "3"
      ]
     },
     "execution_count": 157,
     "metadata": {},
     "output_type": "execute_result"
    }
   ],
   "source": [
    "1 + int('2')"
   ]
  },
  {
   "cell_type": "code",
   "execution_count": 158,
   "id": "cooked-virgin",
   "metadata": {},
   "outputs": [
    {
     "data": {
      "text/plain": [
       "'12'"
      ]
     },
     "execution_count": 158,
     "metadata": {},
     "output_type": "execute_result"
    }
   ],
   "source": [
    "str(1) + '2'"
   ]
  },
  {
   "cell_type": "markdown",
   "id": "interim-suggestion",
   "metadata": {},
   "source": [
    "**Example: Counting the number of digits in a number**"
   ]
  },
  {
   "cell_type": "markdown",
   "id": "bridal-kelly",
   "metadata": {},
   "source": [
    "*How to count the number of digits in a number?*"
   ]
  },
  {
   "cell_type": "code",
   "execution_count": 160,
   "id": "efficient-abuse",
   "metadata": {},
   "outputs": [
    {
     "data": {
      "text/plain": [
       "1267650600228229401496703205376"
      ]
     },
     "execution_count": 160,
     "metadata": {},
     "output_type": "execute_result"
    }
   ],
   "source": [
    "2**100"
   ]
  },
  {
   "cell_type": "code",
   "execution_count": 162,
   "id": "disabled-server",
   "metadata": {},
   "outputs": [
    {
     "data": {
      "text/plain": [
       "10715086071862673209484250490600018105614048117055336074437503883703510511249361224931983788156958581275946729175531468251871452856923140435984577574698574803934567774824230985421074605062371141877954182153046474983581941267398767559165543946077062914571196477686542167660429831652624386837205668069376"
      ]
     },
     "execution_count": 162,
     "metadata": {},
     "output_type": "execute_result"
    }
   ],
   "source": [
    "2**1000"
   ]
  },
  {
   "cell_type": "code",
   "execution_count": 164,
   "id": "superb-trial",
   "metadata": {},
   "outputs": [
    {
     "name": "stdout",
     "output_type": "stream",
     "text": [
      "302\n"
     ]
    }
   ],
   "source": [
    "n = 2**1000\n",
    "print(len(str(n)))"
   ]
  },
  {
   "cell_type": "markdown",
   "id": "equipped-court",
   "metadata": {},
   "source": [
    "writing our own function"
   ]
  },
  {
   "cell_type": "code",
   "execution_count": 166,
   "id": "electronic-bench",
   "metadata": {},
   "outputs": [
    {
     "data": {
      "text/plain": [
       "25"
      ]
     },
     "execution_count": 166,
     "metadata": {},
     "output_type": "execute_result"
    }
   ],
   "source": [
    "def square(x):\n",
    "    return x*x\n",
    "square(5)"
   ]
  },
  {
   "cell_type": "markdown",
   "id": "medical-transfer",
   "metadata": {},
   "source": [
    "Problem: Write a cube function to compute cube of a number.\n",
    "\n",
    "    >>> cube(2)\n",
    "        8\n",
    "    >>> cube(3)\n",
    "        27\n",
    "Problem: Write a function count_digits that takes a number as argument and returns the number of digits it has.\n",
    "\n",
    "    >>> count_digits(12345)\n",
    "        5\n",
    "    >>> count_digits(2**1000)\n",
    "        302"
   ]
  },
  {
   "cell_type": "code",
   "execution_count": 167,
   "id": "everyday-referral",
   "metadata": {},
   "outputs": [
    {
     "data": {
      "text/plain": [
       "125"
      ]
     },
     "execution_count": 167,
     "metadata": {},
     "output_type": "execute_result"
    }
   ],
   "source": [
    "def cube(y):\n",
    "    return y**3\n",
    "cube(5)"
   ]
  },
  {
   "cell_type": "code",
   "execution_count": 168,
   "id": "internal-combination",
   "metadata": {},
   "outputs": [
    {
     "data": {
      "text/plain": [
       "12"
      ]
     },
     "execution_count": 168,
     "metadata": {},
     "output_type": "execute_result"
    }
   ],
   "source": [
    "def count_digits(n):\n",
    "    return len(str(n))\n",
    "count_digits(362746273647)"
   ]
  },
  {
   "cell_type": "code",
   "execution_count": 169,
   "id": "amino-calendar",
   "metadata": {},
   "outputs": [
    {
     "data": {
      "text/plain": [
       "4"
      ]
     },
     "execution_count": 169,
     "metadata": {},
     "output_type": "execute_result"
    }
   ],
   "source": [
    "count_digits(1514)"
   ]
  },
  {
   "cell_type": "markdown",
   "id": "thick-chicken",
   "metadata": {},
   "source": [
    "**print vs return**"
   ]
  },
  {
   "cell_type": "code",
   "execution_count": 170,
   "id": "patent-riverside",
   "metadata": {},
   "outputs": [],
   "source": [
    "def square1(x):\n",
    "    return x*x\n",
    "\n",
    "def square2(x):\n",
    "    print(x*x)"
   ]
  },
  {
   "cell_type": "code",
   "execution_count": 171,
   "id": "processed-enforcement",
   "metadata": {},
   "outputs": [
    {
     "data": {
      "text/plain": [
       "25"
      ]
     },
     "execution_count": 171,
     "metadata": {},
     "output_type": "execute_result"
    }
   ],
   "source": [
    "square1(5)"
   ]
  },
  {
   "cell_type": "code",
   "execution_count": 173,
   "id": "independent-elevation",
   "metadata": {},
   "outputs": [
    {
     "name": "stdout",
     "output_type": "stream",
     "text": [
      "25\n"
     ]
    }
   ],
   "source": [
    "square2(5)"
   ]
  },
  {
   "cell_type": "markdown",
   "id": "inside-delaware",
   "metadata": {},
   "source": [
    "What is the difference between these two? Which one is better?\n",
    "\n",
    "Can you suggest some code that works with one, but won't with the other.\n",
    "\n",
    "Let's try to compute x^2 +1"
   ]
  },
  {
   "cell_type": "code",
   "execution_count": 174,
   "id": "advisory-reform",
   "metadata": {},
   "outputs": [
    {
     "data": {
      "text/plain": [
       "17"
      ]
     },
     "execution_count": 174,
     "metadata": {},
     "output_type": "execute_result"
    }
   ],
   "source": [
    "square1(4) + 1"
   ]
  },
  {
   "cell_type": "markdown",
   "id": "enabling-australian",
   "metadata": {},
   "source": [
    "It is not possible to compute x^2+1 using square2 because it is just printing the result of x^2, but not giving that value back to us to use in other computations."
   ]
  },
  {
   "cell_type": "code",
   "execution_count": 176,
   "id": "frozen-moore",
   "metadata": {},
   "outputs": [
    {
     "name": "stdout",
     "output_type": "stream",
     "text": [
      "16\n"
     ]
    },
    {
     "ename": "TypeError",
     "evalue": "unsupported operand type(s) for +: 'NoneType' and 'int'",
     "output_type": "error",
     "traceback": [
      "\u001b[0;31m---------------------------------------------------------------------------\u001b[0m",
      "\u001b[0;31mTypeError\u001b[0m                                 Traceback (most recent call last)",
      "\u001b[0;32m<ipython-input-176-da56dea0f4a9>\u001b[0m in \u001b[0;36m<module>\u001b[0;34m\u001b[0m\n\u001b[0;32m----> 1\u001b[0;31m \u001b[0msquare2\u001b[0m\u001b[0;34m(\u001b[0m\u001b[0;36m4\u001b[0m\u001b[0;34m)\u001b[0m \u001b[0;34m+\u001b[0m \u001b[0;36m1\u001b[0m\u001b[0;34m\u001b[0m\u001b[0;34m\u001b[0m\u001b[0m\n\u001b[0m",
      "\u001b[0;31mTypeError\u001b[0m: unsupported operand type(s) for +: 'NoneType' and 'int'"
     ]
    }
   ],
   "source": [
    "square2(4) + 1"
   ]
  },
  {
   "cell_type": "markdown",
   "id": "contained-bones",
   "metadata": {},
   "source": [
    "**Functions are values too!**"
   ]
  },
  {
   "cell_type": "code",
   "execution_count": 177,
   "id": "incoming-edmonton",
   "metadata": {},
   "outputs": [],
   "source": [
    "def square(x):\n",
    "    return x*x"
   ]
  },
  {
   "cell_type": "code",
   "execution_count": 178,
   "id": "tropical-determination",
   "metadata": {},
   "outputs": [
    {
     "data": {
      "text/plain": [
       "16"
      ]
     },
     "execution_count": 178,
     "metadata": {},
     "output_type": "execute_result"
    }
   ],
   "source": [
    "square(4)"
   ]
  },
  {
   "cell_type": "code",
   "execution_count": 179,
   "id": "british-supervision",
   "metadata": {},
   "outputs": [
    {
     "data": {
      "text/plain": [
       "<function __main__.square(x)>"
      ]
     },
     "execution_count": 179,
     "metadata": {},
     "output_type": "execute_result"
    }
   ],
   "source": [
    "square"
   ]
  },
  {
   "cell_type": "code",
   "execution_count": 180,
   "id": "otherwise-drawing",
   "metadata": {},
   "outputs": [],
   "source": [
    "f = square"
   ]
  },
  {
   "cell_type": "code",
   "execution_count": 181,
   "id": "meaning-detail",
   "metadata": {},
   "outputs": [
    {
     "data": {
      "text/plain": [
       "16"
      ]
     },
     "execution_count": 181,
     "metadata": {},
     "output_type": "execute_result"
    }
   ],
   "source": [
    "f(4)"
   ]
  },
  {
   "cell_type": "code",
   "execution_count": 182,
   "id": "forward-maintenance",
   "metadata": {},
   "outputs": [
    {
     "data": {
      "text/plain": [
       "<function __main__.square(x)>"
      ]
     },
     "execution_count": 182,
     "metadata": {},
     "output_type": "execute_result"
    }
   ],
   "source": [
    "f"
   ]
  },
  {
   "cell_type": "code",
   "execution_count": 183,
   "id": "insured-turkey",
   "metadata": {},
   "outputs": [],
   "source": [
    "def square(x):\n",
    "    return x*x\n",
    "\n",
    "# square = make-new-function.."
   ]
  },
  {
   "cell_type": "code",
   "execution_count": 184,
   "id": "separated-plain",
   "metadata": {},
   "outputs": [],
   "source": [
    "def sum_of_squares(x, y):\n",
    "    return square(x) + square(y)"
   ]
  },
  {
   "cell_type": "code",
   "execution_count": 185,
   "id": "warming-oxygen",
   "metadata": {},
   "outputs": [
    {
     "data": {
      "text/plain": [
       "25"
      ]
     },
     "execution_count": 185,
     "metadata": {},
     "output_type": "execute_result"
    }
   ],
   "source": [
    "sum_of_squares(3, 4)"
   ]
  },
  {
   "cell_type": "markdown",
   "id": "developed-rolling",
   "metadata": {},
   "source": [
    "**What if we want to compute sum of cubes as well ?**"
   ]
  },
  {
   "cell_type": "code",
   "execution_count": 188,
   "id": "interpreted-omega",
   "metadata": {},
   "outputs": [],
   "source": [
    "def cube(x):\n",
    "    return x*x*x\n",
    "\n",
    "def sum_of_cubes(x, y):\n",
    "    return cube(x) + cube(y)"
   ]
  },
  {
   "cell_type": "code",
   "execution_count": 190,
   "id": "paperback-going",
   "metadata": {},
   "outputs": [
    {
     "data": {
      "text/plain": [
       "91"
      ]
     },
     "execution_count": 190,
     "metadata": {},
     "output_type": "execute_result"
    }
   ],
   "source": [
    "sum_of_cubes(3, 4)"
   ]
  },
  {
   "cell_type": "markdown",
   "id": "welcome-wound",
   "metadata": {},
   "source": [
    "**Can generalize sum_of_squares and sum_of_cubes into a single function?\n",
    "yes, By passing the function as argument in another function**"
   ]
  },
  {
   "cell_type": "code",
   "execution_count": 192,
   "id": "sharing-passport",
   "metadata": {},
   "outputs": [],
   "source": [
    "def sum_of(f,x,y):\n",
    "    return f(x)+f(y)"
   ]
  },
  {
   "cell_type": "code",
   "execution_count": 194,
   "id": "absolute-quantum",
   "metadata": {},
   "outputs": [
    {
     "data": {
      "text/plain": [
       "40"
      ]
     },
     "execution_count": 194,
     "metadata": {},
     "output_type": "execute_result"
    }
   ],
   "source": [
    "sum_of(square,2,6)"
   ]
  },
  {
   "cell_type": "code",
   "execution_count": 195,
   "id": "bulgarian-means",
   "metadata": {},
   "outputs": [
    {
     "data": {
      "text/plain": [
       "224"
      ]
     },
     "execution_count": 195,
     "metadata": {},
     "output_type": "execute_result"
    }
   ],
   "source": [
    "sum_of(cube,2,6)"
   ]
  },
  {
   "cell_type": "code",
   "execution_count": 197,
   "id": "miniature-africa",
   "metadata": {},
   "outputs": [
    {
     "data": {
      "text/plain": [
       "11"
      ]
     },
     "execution_count": 197,
     "metadata": {},
     "output_type": "execute_result"
    }
   ],
   "source": [
    "sum_of(len, \"hello\", \"python\")"
   ]
  },
  {
   "cell_type": "code",
   "execution_count": 199,
   "id": "demanding-sydney",
   "metadata": {},
   "outputs": [
    {
     "data": {
      "text/plain": [
       "14"
      ]
     },
     "execution_count": 199,
     "metadata": {},
     "output_type": "execute_result"
    }
   ],
   "source": [
    "sum_of(abs, 4, -10)"
   ]
  },
  {
   "cell_type": "markdown",
   "id": "victorian-caribbean",
   "metadata": {},
   "source": [
    "**The feature of passing functions as arguments is so useful that many built-in functions support that.**"
   ]
  },
  {
   "cell_type": "code",
   "execution_count": 200,
   "id": "useful-environment",
   "metadata": {},
   "outputs": [
    {
     "data": {
      "text/plain": [
       "125"
      ]
     },
     "execution_count": 200,
     "metadata": {},
     "output_type": "execute_result"
    }
   ],
   "source": [
    "max(122,125)"
   ]
  },
  {
   "cell_type": "code",
   "execution_count": 201,
   "id": "studied-complexity",
   "metadata": {},
   "outputs": [
    {
     "data": {
      "text/plain": [
       "5"
      ]
     },
     "execution_count": 201,
     "metadata": {},
     "output_type": "execute_result"
    }
   ],
   "source": [
    "max([3, 5, 4])"
   ]
  },
  {
   "cell_type": "code",
   "execution_count": 203,
   "id": "attractive-posting",
   "metadata": {},
   "outputs": [
    {
     "data": {
      "text/plain": [
       "'two'"
      ]
     },
     "execution_count": 203,
     "metadata": {},
     "output_type": "execute_result"
    }
   ],
   "source": [
    "#by default it give max value by dictionary basis\n",
    "max(['one', 'two', 'three', 'four', 'five'])"
   ]
  },
  {
   "cell_type": "markdown",
   "id": "buried-season",
   "metadata": {},
   "source": [
    "How to find the longest word?"
   ]
  },
  {
   "cell_type": "code",
   "execution_count": 209,
   "id": "american-clerk",
   "metadata": {},
   "outputs": [
    {
     "data": {
      "text/plain": [
       "'three'"
      ]
     },
     "execution_count": 209,
     "metadata": {},
     "output_type": "execute_result"
    }
   ],
   "source": [
    "#background it take each element , find its length then give max length letter\n",
    "# key is used to assign a built_in or normal fucntion\n",
    "max(['one', 'two', 'three', 'four', 'five'], key=len)"
   ]
  },
  {
   "cell_type": "code",
   "execution_count": 207,
   "id": "turned-grain",
   "metadata": {},
   "outputs": [],
   "source": [
    "#the bellow function run in background for the above statement\n",
    "def mylen(word):\n",
    "    print(\"mylen\", word)\n",
    "    return len(word)"
   ]
  },
  {
   "cell_type": "code",
   "execution_count": 210,
   "id": "engaging-costs",
   "metadata": {},
   "outputs": [
    {
     "name": "stdout",
     "output_type": "stream",
     "text": [
      "mylen one\n",
      "mylen two\n",
      "mylen three\n",
      "mylen four\n",
      "mylen five\n"
     ]
    },
    {
     "data": {
      "text/plain": [
       "'three'"
      ]
     },
     "execution_count": 210,
     "metadata": {},
     "output_type": "execute_result"
    }
   ],
   "source": [
    "max(['one', 'two', 'three', 'four', 'five'], key=mylen)"
   ]
  },
  {
   "cell_type": "code",
   "execution_count": 211,
   "id": "superb-paris",
   "metadata": {},
   "outputs": [],
   "source": [
    "# records of students with marks\n",
    "records = [\n",
    "    (\"A\", 78),\n",
    "    (\"B\", 91),\n",
    "    (\"C\", 56)\n",
    "] "
   ]
  },
  {
   "cell_type": "markdown",
   "id": "wired-infection",
   "metadata": {},
   "source": [
    "**How to find the student who got the maximum marks?**"
   ]
  },
  {
   "cell_type": "code",
   "execution_count": 212,
   "id": "sonic-explorer",
   "metadata": {},
   "outputs": [
    {
     "data": {
      "text/plain": [
       "('B', 91)"
      ]
     },
     "execution_count": 212,
     "metadata": {},
     "output_type": "execute_result"
    }
   ],
   "source": [
    "def get_marks(record):\n",
    "    return record[1]\n",
    "\n",
    "max(records, key=get_marks)"
   ]
  },
  {
   "cell_type": "code",
   "execution_count": 213,
   "id": "piano-quantity",
   "metadata": {},
   "outputs": [
    {
     "data": {
      "text/plain": [
       "'B'"
      ]
     },
     "execution_count": 213,
     "metadata": {},
     "output_type": "execute_result"
    }
   ],
   "source": [
    "max(records, key=get_marks)[0]"
   ]
  },
  {
   "cell_type": "code",
   "execution_count": 214,
   "id": "vanilla-possibility",
   "metadata": {},
   "outputs": [],
   "source": [
    "h1 = {\"name\": \"web-0\", \"type\": \"web\", \"loadavg\": 67}\n",
    "h2 = {\"name\": \"web-1\", \"type\": \"web\", \"loadavg\": 78}\n",
    "h3 = {\"name\": \"db-0\", \"type\": \"dv\", \"loadavg\": 42}"
   ]
  },
  {
   "cell_type": "code",
   "execution_count": 215,
   "id": "legal-peoples",
   "metadata": {},
   "outputs": [],
   "source": [
    "hosts = [h1, h2, h3]"
   ]
  },
  {
   "cell_type": "code",
   "execution_count": 216,
   "id": "pediatric-motivation",
   "metadata": {},
   "outputs": [
    {
     "data": {
      "text/plain": [
       "[{'name': 'web-0', 'type': 'web', 'loadavg': 67},\n",
       " {'name': 'web-1', 'type': 'web', 'loadavg': 78},\n",
       " {'name': 'db-0', 'type': 'dv', 'loadavg': 42}]"
      ]
     },
     "execution_count": 216,
     "metadata": {},
     "output_type": "execute_result"
    }
   ],
   "source": [
    "hosts"
   ]
  },
  {
   "cell_type": "code",
   "execution_count": 217,
   "id": "based-finnish",
   "metadata": {},
   "outputs": [
    {
     "data": {
      "text/plain": [
       "{'name': 'web-1', 'type': 'web', 'loadavg': 78}"
      ]
     },
     "execution_count": 217,
     "metadata": {},
     "output_type": "execute_result"
    }
   ],
   "source": [
    "def get_loadavg(host):\n",
    "    return host['loadavg']\n",
    "\n",
    "max(hosts, key=get_loadavg)"
   ]
  },
  {
   "cell_type": "code",
   "execution_count": 218,
   "id": "indirect-liberty",
   "metadata": {},
   "outputs": [
    {
     "data": {
      "text/plain": [
       "'web-1'"
      ]
     },
     "execution_count": 218,
     "metadata": {},
     "output_type": "execute_result"
    }
   ],
   "source": [
    "max(hosts, key=get_loadavg)['name']"
   ]
  },
  {
   "cell_type": "markdown",
   "id": "breathing-portland",
   "metadata": {},
   "source": [
    "Methods"
   ]
  },
  {
   "cell_type": "code",
   "execution_count": 219,
   "id": "central-guatemala",
   "metadata": {},
   "outputs": [],
   "source": [
    "x = \"Hello\""
   ]
  },
  {
   "cell_type": "code",
   "execution_count": 220,
   "id": "informative-bacon",
   "metadata": {},
   "outputs": [
    {
     "data": {
      "text/plain": [
       "'HELLO'"
      ]
     },
     "execution_count": 220,
     "metadata": {},
     "output_type": "execute_result"
    }
   ],
   "source": [
    "x.upper()"
   ]
  },
  {
   "cell_type": "markdown",
   "id": "eleven-gateway",
   "metadata": {},
   "source": [
    "upper is a method available to all strings."
   ]
  },
  {
   "cell_type": "code",
   "execution_count": 221,
   "id": "modified-institute",
   "metadata": {},
   "outputs": [
    {
     "ename": "AttributeError",
     "evalue": "'int' object has no attribute 'upper'",
     "output_type": "error",
     "traceback": [
      "\u001b[0;31m---------------------------------------------------------------------------\u001b[0m",
      "\u001b[0;31mAttributeError\u001b[0m                            Traceback (most recent call last)",
      "\u001b[0;32m<ipython-input-221-cf8976b07ca4>\u001b[0m in \u001b[0;36m<module>\u001b[0;34m\u001b[0m\n\u001b[1;32m      1\u001b[0m \u001b[0my\u001b[0m\u001b[0;34m=\u001b[0m\u001b[0;36m1\u001b[0m\u001b[0;34m\u001b[0m\u001b[0;34m\u001b[0m\u001b[0m\n\u001b[1;32m      2\u001b[0m \u001b[0;31m# this doesn't work as int don't support upper method\u001b[0m\u001b[0;34m\u001b[0m\u001b[0;34m\u001b[0m\u001b[0;34m\u001b[0m\u001b[0m\n\u001b[0;32m----> 3\u001b[0;31m \u001b[0my\u001b[0m\u001b[0;34m.\u001b[0m\u001b[0mupper\u001b[0m\u001b[0;34m(\u001b[0m\u001b[0;34m)\u001b[0m\u001b[0;34m\u001b[0m\u001b[0;34m\u001b[0m\u001b[0m\n\u001b[0m",
      "\u001b[0;31mAttributeError\u001b[0m: 'int' object has no attribute 'upper'"
     ]
    }
   ],
   "source": [
    "y=1\n",
    "# this doesn't work as int don't support upper method\n",
    "y.upper()"
   ]
  },
  {
   "cell_type": "code",
   "execution_count": 222,
   "id": "floppy-coast",
   "metadata": {},
   "outputs": [
    {
     "data": {
      "text/plain": [
       "'hello'"
      ]
     },
     "execution_count": 222,
     "metadata": {},
     "output_type": "execute_result"
    }
   ],
   "source": [
    "x.lower()"
   ]
  },
  {
   "cell_type": "code",
   "execution_count": 223,
   "id": "willing-mercury",
   "metadata": {},
   "outputs": [
    {
     "data": {
      "text/plain": [
       "2"
      ]
     },
     "execution_count": 223,
     "metadata": {},
     "output_type": "execute_result"
    }
   ],
   "source": [
    "\"mathematics\".count(\"mat\")"
   ]
  },
  {
   "cell_type": "code",
   "execution_count": 224,
   "id": "worse-westminster",
   "metadata": {},
   "outputs": [
    {
     "data": {
      "text/plain": [
       "'ratheratics'"
      ]
     },
     "execution_count": 224,
     "metadata": {},
     "output_type": "execute_result"
    }
   ],
   "source": [
    "\"mathematics\".replace(\"mat\", \"rat\")"
   ]
  },
  {
   "cell_type": "markdown",
   "id": "clinical-coast",
   "metadata": {},
   "source": [
    "Problem: Write a function count_zeros that counts the number of zeros in the given number.\n",
    "\n",
    "    >>> count_zeros(0)\n",
    "        1\n",
    "    >>> count_zeros(100)\n",
    "        2\n",
    "    >>> count_zeros(2030405)\n",
    "        3"
   ]
  },
  {
   "cell_type": "code",
   "execution_count": 225,
   "id": "extended-delivery",
   "metadata": {},
   "outputs": [],
   "source": [
    "def count_zeros(n):\n",
    "    return str(n).count('0')"
   ]
  },
  {
   "cell_type": "code",
   "execution_count": 226,
   "id": "apparent-vulnerability",
   "metadata": {},
   "outputs": [
    {
     "data": {
      "text/plain": [
       "1"
      ]
     },
     "execution_count": 226,
     "metadata": {},
     "output_type": "execute_result"
    }
   ],
   "source": [
    "count_zero(10)"
   ]
  },
  {
   "cell_type": "code",
   "execution_count": 227,
   "id": "alleged-rouge",
   "metadata": {},
   "outputs": [
    {
     "data": {
      "text/plain": [
       "2"
      ]
     },
     "execution_count": 227,
     "metadata": {},
     "output_type": "execute_result"
    }
   ],
   "source": [
    "count_zero(100)"
   ]
  },
  {
   "cell_type": "code",
   "execution_count": 228,
   "id": "facial-england",
   "metadata": {},
   "outputs": [
    {
     "data": {
      "text/plain": [
       "3"
      ]
     },
     "execution_count": 228,
     "metadata": {},
     "output_type": "execute_result"
    }
   ],
   "source": [
    "count_zeros(2030405)"
   ]
  },
  {
   "cell_type": "markdown",
   "id": "photographic-guinea",
   "metadata": {},
   "source": [
    "**Let's look at some more intersting methods on strings.**"
   ]
  },
  {
   "cell_type": "code",
   "execution_count": 229,
   "id": "norwegian-shock",
   "metadata": {},
   "outputs": [],
   "source": [
    "sentence = \"Anything that can go wrong, will go wrong.\""
   ]
  },
  {
   "cell_type": "code",
   "execution_count": 230,
   "id": "mediterranean-cattle",
   "metadata": {},
   "outputs": [
    {
     "data": {
      "text/plain": [
       "['Anything', 'that', 'can', 'go', 'wrong,', 'will', 'go', 'wrong.']"
      ]
     },
     "execution_count": 230,
     "metadata": {},
     "output_type": "execute_result"
    }
   ],
   "source": [
    "sentence.split() # split on any whitespace"
   ]
  },
  {
   "cell_type": "code",
   "execution_count": 231,
   "id": "contained-custody",
   "metadata": {},
   "outputs": [
    {
     "data": {
      "text/plain": [
       "['Anything that can go wrong', ' will go wrong.']"
      ]
     },
     "execution_count": 231,
     "metadata": {},
     "output_type": "execute_result"
    }
   ],
   "source": [
    "sentence.split(\",\") # split on comma"
   ]
  },
  {
   "cell_type": "code",
   "execution_count": 232,
   "id": "greater-conditioning",
   "metadata": {},
   "outputs": [
    {
     "data": {
      "text/plain": [
       "['Anything that can ', ' wrong, will ', ' wrong.']"
      ]
     },
     "execution_count": 232,
     "metadata": {},
     "output_type": "execute_result"
    }
   ],
   "source": [
    "sentence.split(\"go\") # split on the word go"
   ]
  },
  {
   "cell_type": "markdown",
   "id": "pending-geography",
   "metadata": {},
   "source": [
    "The `split` method splits a string based on any delimiter. If no delimiter is provided, it uses any whitespace as the delimiter.\n",
    "\n",
    "What is the reverse of split?"
   ]
  },
  {
   "cell_type": "code",
   "execution_count": 233,
   "id": "measured-laser",
   "metadata": {},
   "outputs": [
    {
     "data": {
      "text/plain": [
       "'a-b-c'"
      ]
     },
     "execution_count": 233,
     "metadata": {},
     "output_type": "execute_result"
    }
   ],
   "source": [
    "\"-\".join([\"a\", \"b\", \"c\"])"
   ]
  },
  {
   "cell_type": "code",
   "execution_count": 234,
   "id": "offshore-september",
   "metadata": {},
   "outputs": [
    {
     "data": {
      "text/plain": [
       "'a b c'"
      ]
     },
     "execution_count": 234,
     "metadata": {},
     "output_type": "execute_result"
    }
   ],
   "source": [
    "\" \".join([\"a\", \"b\", \"c\"])"
   ]
  },
  {
   "cell_type": "code",
   "execution_count": 235,
   "id": "allied-direction",
   "metadata": {},
   "outputs": [
    {
     "data": {
      "text/plain": [
       "'a::b::c'"
      ]
     },
     "execution_count": 235,
     "metadata": {},
     "output_type": "execute_result"
    }
   ],
   "source": [
    "\"::\".join([\"a\", \"b\", \"c\"])"
   ]
  },
  {
   "cell_type": "markdown",
   "id": "sonic-catalog",
   "metadata": {},
   "source": [
    "Problem: Write a function `longest_word` that takes a sentence as argument and returns ther longest word from it.\n",
    "\n",
    "    >>> longest_word(\"one two three four five\")\n",
    "            'three'\n",
    "    >>> longest_word(\"Anything that can go wrong, will go wrong.\")\n",
    "            'Anything'"
   ]
  },
  {
   "cell_type": "code",
   "execution_count": 236,
   "id": "antique-location",
   "metadata": {},
   "outputs": [],
   "source": [
    "sentence = \"one two three four five\""
   ]
  },
  {
   "cell_type": "code",
   "execution_count": 237,
   "id": "great-quest",
   "metadata": {},
   "outputs": [
    {
     "data": {
      "text/plain": [
       "['one', 'two', 'three', 'four', 'five']"
      ]
     },
     "execution_count": 237,
     "metadata": {},
     "output_type": "execute_result"
    }
   ],
   "source": [
    "sentence.split()"
   ]
  },
  {
   "cell_type": "code",
   "execution_count": 238,
   "id": "israeli-veteran",
   "metadata": {},
   "outputs": [],
   "source": [
    "words = sentence.split()"
   ]
  },
  {
   "cell_type": "code",
   "execution_count": 239,
   "id": "arabic-brooklyn",
   "metadata": {},
   "outputs": [
    {
     "data": {
      "text/plain": [
       "['one', 'two', 'three', 'four', 'five']"
      ]
     },
     "execution_count": 239,
     "metadata": {},
     "output_type": "execute_result"
    }
   ],
   "source": [
    "words"
   ]
  },
  {
   "cell_type": "code",
   "execution_count": 240,
   "id": "perceived-magnet",
   "metadata": {},
   "outputs": [],
   "source": [
    "def longest_word(sentence):\n",
    "    words = sentence.split()    \n",
    "    return max(words, key=len)"
   ]
  },
  {
   "cell_type": "code",
   "execution_count": 241,
   "id": "wireless-october",
   "metadata": {},
   "outputs": [
    {
     "data": {
      "text/plain": [
       "'three'"
      ]
     },
     "execution_count": 241,
     "metadata": {},
     "output_type": "execute_result"
    }
   ],
   "source": [
    "longest_word(\"one two three four five\")"
   ]
  },
  {
   "cell_type": "markdown",
   "id": "south-colon",
   "metadata": {},
   "source": [
    "**Modules**"
   ]
  },
  {
   "cell_type": "markdown",
   "id": "stylish-principal",
   "metadata": {},
   "source": [
    "**Time module**"
   ]
  },
  {
   "cell_type": "code",
   "execution_count": 242,
   "id": "parental-agency",
   "metadata": {},
   "outputs": [],
   "source": [
    "import time"
   ]
  },
  {
   "cell_type": "code",
   "execution_count": 243,
   "id": "terminal-reader",
   "metadata": {},
   "outputs": [
    {
     "data": {
      "text/plain": [
       "'Mon Feb  7 18:02:23 2022'"
      ]
     },
     "execution_count": 243,
     "metadata": {},
     "output_type": "execute_result"
    }
   ],
   "source": [
    "time.asctime()"
   ]
  },
  {
   "cell_type": "code",
   "execution_count": 244,
   "id": "fifteen-individual",
   "metadata": {},
   "outputs": [
    {
     "name": "stdout",
     "output_type": "stream",
     "text": [
      "Mon 07 Feb 2022 06:02:34 PM UTC\n"
     ]
    }
   ],
   "source": [
    "!date"
   ]
  },
  {
   "cell_type": "code",
   "execution_count": 245,
   "id": "faced-crazy",
   "metadata": {},
   "outputs": [
    {
     "name": "stdout",
     "output_type": "stream",
     "text": [
      "Writing date.py\n"
     ]
    }
   ],
   "source": [
    "%%file date.py\n",
    "import time\n",
    "print(time.asctime())"
   ]
  },
  {
   "cell_type": "code",
   "execution_count": 246,
   "id": "located-tsunami",
   "metadata": {},
   "outputs": [
    {
     "name": "stdout",
     "output_type": "stream",
     "text": [
      "Mon Feb  7 18:03:04 2022\n"
     ]
    }
   ],
   "source": [
    "!python date.py"
   ]
  },
  {
   "cell_type": "markdown",
   "id": "reported-worse",
   "metadata": {},
   "source": [
    "**OS module**"
   ]
  },
  {
   "cell_type": "code",
   "execution_count": 249,
   "id": "swedish-howard",
   "metadata": {},
   "outputs": [
    {
     "data": {
      "text/plain": [
       "'/home/nraghu'"
      ]
     },
     "execution_count": 249,
     "metadata": {},
     "output_type": "execute_result"
    }
   ],
   "source": [
    "import os\n",
    "# get current #working directory\n",
    "os.getcwd()"
   ]
  },
  {
   "cell_type": "code",
   "execution_count": 250,
   "id": "orange-corruption",
   "metadata": {},
   "outputs": [
    {
     "data": {
      "text/plain": [
       "['square.py',\n",
       " 'day4.ipynb',\n",
       " 'day5.ipynb',\n",
       " 'hello.py',\n",
       " '.bash_logout',\n",
       " 'day3.ipynb',\n",
       " '.ipynb_checkpoints',\n",
       " '.bashrc',\n",
       " 'day1.ipynb',\n",
       " '.profile',\n",
       " 'day2.ipynb',\n",
       " '.cache',\n",
       " '.jupyter',\n",
       " '.local',\n",
       " '.ipython',\n",
       " 'date.py',\n",
       " '.juputer',\n",
       " 'header.py']"
      ]
     },
     "execution_count": 250,
     "metadata": {},
     "output_type": "execute_result"
    }
   ],
   "source": [
    "# list all files in a directory\n",
    "os.listdir(\".\")"
   ]
  },
  {
   "cell_type": "markdown",
   "id": "composite-canberra",
   "metadata": {},
   "source": [
    "If we want to find size of a file, we can use os.path.getsize."
   ]
  },
  {
   "cell_type": "code",
   "execution_count": 252,
   "id": "atlantic-projector",
   "metadata": {},
   "outputs": [
    {
     "data": {
      "text/plain": [
       "64229"
      ]
     },
     "execution_count": 252,
     "metadata": {},
     "output_type": "execute_result"
    }
   ],
   "source": [
    "os.path.getsize(\"day1.ipynb\")"
   ]
  },
  {
   "cell_type": "code",
   "execution_count": 253,
   "id": "neither-formula",
   "metadata": {},
   "outputs": [
    {
     "name": "stdout",
     "output_type": "stream",
     "text": [
      "-rw-r--r-- 1 nraghu nraghu 62628 Feb  7 18:06 day1.ipynb\n"
     ]
    }
   ],
   "source": [
    "!ls -l day1.ipynb"
   ]
  },
  {
   "cell_type": "markdown",
   "id": "worldwide-portland",
   "metadata": {},
   "source": [
    "how to find the largest file in the current directory?"
   ]
  },
  {
   "cell_type": "code",
   "execution_count": 254,
   "id": "weird-morocco",
   "metadata": {},
   "outputs": [
    {
     "data": {
      "text/plain": [
       "'day1.ipynb'"
      ]
     },
     "execution_count": 254,
     "metadata": {},
     "output_type": "execute_result"
    }
   ],
   "source": [
    "max(os.listdir(\".\"), key=os.path.getsize)"
   ]
  },
  {
   "cell_type": "code",
   "execution_count": 255,
   "id": "quarterly-metro",
   "metadata": {},
   "outputs": [
    {
     "name": "stdout",
     "output_type": "stream",
     "text": [
      "total 96\n",
      "-rw-r--r-- 1 nraghu nraghu 63037 Feb  7 18:07 day1.ipynb\n",
      "-rw-r--r-- 1 nraghu nraghu   337 Feb  6 21:00 day5.ipynb\n",
      "-rw-r--r-- 1 nraghu nraghu   336 Feb  6 21:00 day2.ipynb\n",
      "-rw-r--r-- 1 nraghu nraghu   335 Feb  6 21:00 day3.ipynb\n",
      "-rw-r--r-- 1 nraghu nraghu   331 Feb  6 21:00 day4.ipynb\n",
      "-rw-rw-r-- 1 nraghu nraghu    49 Feb  7 07:39 square.py\n",
      "-rw-rw-r-- 1 nraghu nraghu    34 Feb  7 18:02 date.py\n",
      "-rw-rw-r-- 1 nraghu nraghu    30 Feb  7 09:18 header.py\n",
      "-rw-rw-r-- 1 nraghu nraghu    15 Feb  7 04:46 hello.py\n"
     ]
    }
   ],
   "source": [
    "!ls -lS"
   ]
  },
  {
   "cell_type": "code",
   "execution_count": null,
   "id": "gross-latvia",
   "metadata": {},
   "outputs": [],
   "source": []
  },
  {
   "cell_type": "markdown",
   "id": "subject-undergraduate",
   "metadata": {},
   "source": [
    "**very very important**"
   ]
  },
  {
   "cell_type": "markdown",
   "id": "acknowledged-clock",
   "metadata": {},
   "source": [
    "**Reading Command-line arguments**"
   ]
  },
  {
   "cell_type": "markdown",
   "id": "racial-camcorder",
   "metadata": {},
   "source": [
    "The `sys` module keeps track of all arguments passed to the program."
   ]
  },
  {
   "cell_type": "code",
   "execution_count": 256,
   "id": "aquatic-giving",
   "metadata": {},
   "outputs": [
    {
     "name": "stdout",
     "output_type": "stream",
     "text": [
      "Writing args.py\n"
     ]
    }
   ],
   "source": [
    "%%file args.py\n",
    "import sys\n",
    "print(sys.argv)"
   ]
  },
  {
   "cell_type": "code",
   "execution_count": 257,
   "id": "personal-porcelain",
   "metadata": {},
   "outputs": [
    {
     "name": "stdout",
     "output_type": "stream",
     "text": [
      "['args.py']\n"
     ]
    }
   ],
   "source": [
    "!python args.py"
   ]
  },
  {
   "cell_type": "code",
   "execution_count": 258,
   "id": "convenient-protection",
   "metadata": {},
   "outputs": [
    {
     "name": "stdout",
     "output_type": "stream",
     "text": [
      "['args.py', 'hello']\n"
     ]
    }
   ],
   "source": [
    "!python args.py hello"
   ]
  },
  {
   "cell_type": "code",
   "execution_count": 260,
   "id": "responsible-massachusetts",
   "metadata": {},
   "outputs": [
    {
     "name": "stdout",
     "output_type": "stream",
     "text": [
      "['args.py', 'hello', 'workd']\n"
     ]
    }
   ],
   "source": [
    "!python args.py hello workd"
   ]
  },
  {
   "cell_type": "code",
   "execution_count": 261,
   "id": "electrical-house",
   "metadata": {},
   "outputs": [
    {
     "name": "stdout",
     "output_type": "stream",
     "text": [
      "['args.py', '1', '2', '3', '4', '5']\n"
     ]
    }
   ],
   "source": [
    "!python args.py 1 2 3 4 5"
   ]
  },
  {
   "cell_type": "markdown",
   "id": "ongoing-antenna",
   "metadata": {},
   "source": [
    "Notice that the arguments are always strings."
   ]
  },
  {
   "cell_type": "markdown",
   "id": "southeast-expense",
   "metadata": {},
   "source": [
    "Example: echo"
   ]
  },
  {
   "cell_type": "code",
   "execution_count": 262,
   "id": "premier-painting",
   "metadata": {},
   "outputs": [
    {
     "name": "stdout",
     "output_type": "stream",
     "text": [
      "hello world\n"
     ]
    }
   ],
   "source": [
    "!echo hello world"
   ]
  },
  {
   "cell_type": "markdown",
   "id": "floral-drill",
   "metadata": {},
   "source": [
    "Let's implement it in Python. For now, we'll print only the first argument."
   ]
  },
  {
   "cell_type": "code",
   "execution_count": 263,
   "id": "honest-decision",
   "metadata": {},
   "outputs": [
    {
     "name": "stdout",
     "output_type": "stream",
     "text": [
      "Writing echo.py\n"
     ]
    }
   ],
   "source": [
    "%%file echo.py\n",
    "import sys\n",
    "arg = sys.argv[1]\n",
    "print(arg)"
   ]
  },
  {
   "cell_type": "code",
   "execution_count": 265,
   "id": "portuguese-paintball",
   "metadata": {},
   "outputs": [
    {
     "name": "stdout",
     "output_type": "stream",
     "text": [
      "hello\n"
     ]
    }
   ],
   "source": [
    "!python echo.py hello"
   ]
  },
  {
   "cell_type": "code",
   "execution_count": 266,
   "id": "alleged-jumping",
   "metadata": {},
   "outputs": [
    {
     "name": "stdout",
     "output_type": "stream",
     "text": [
      "hello\n"
     ]
    }
   ],
   "source": [
    "!python echo.py hello world"
   ]
  },
  {
   "cell_type": "markdown",
   "id": "scenic-priority",
   "metadata": {},
   "source": [
    "Problem: Write a program square.py that takes a number as command-line argument and prints its square.\n",
    "\n",
    "      >>> python square.py 2\n",
    "        4\n",
    "      >>> python square.py 5\n",
    "        25"
   ]
  },
  {
   "cell_type": "code",
   "execution_count": 276,
   "id": "further-distribution",
   "metadata": {},
   "outputs": [
    {
     "name": "stdout",
     "output_type": "stream",
     "text": [
      "Overwriting square.py\n"
     ]
    }
   ],
   "source": [
    "%%file square.py\n",
    "import sys\n",
    "arg = sys.argv[1]\n",
    "print(int(arg)**2)"
   ]
  },
  {
   "cell_type": "code",
   "execution_count": 277,
   "id": "sweet-vulnerability",
   "metadata": {},
   "outputs": [
    {
     "name": "stdout",
     "output_type": "stream",
     "text": [
      "25\n"
     ]
    }
   ],
   "source": [
    "!python square.py 5"
   ]
  },
  {
   "cell_type": "code",
   "execution_count": 278,
   "id": "statistical-luxembourg",
   "metadata": {},
   "outputs": [
    {
     "name": "stdout",
     "output_type": "stream",
     "text": [
      "Overwriting cube.py\n"
     ]
    }
   ],
   "source": [
    "%%file cube.py\n",
    "import sys\n",
    "arg = sys.argv[1]\n",
    "print(int(arg)**3)"
   ]
  },
  {
   "cell_type": "code",
   "execution_count": 279,
   "id": "quality-plaza",
   "metadata": {},
   "outputs": [
    {
     "name": "stdout",
     "output_type": "stream",
     "text": [
      "9\n"
     ]
    }
   ],
   "source": [
    "!python square.py 3"
   ]
  },
  {
   "cell_type": "markdown",
   "id": "attempted-semester",
   "metadata": {},
   "source": [
    "            Q & A"
   ]
  },
  {
   "cell_type": "markdown",
   "id": "personalized-visiting",
   "metadata": {},
   "source": [
    "                              imax\n",
    "1)Write a function imax to compute maximum of given words ignoring the case.\n",
    "\n",
    "    >>> imax(['alice', 'Dave', 'charlie', 'BOB'])\n",
    "            'Dave'\n",
    "\n",
    "    >>> imax(['Alice', 'dave', 'charlie', 'BOB'])\n",
    "            'dave'"
   ]
  },
  {
   "cell_type": "code",
   "execution_count": 305,
   "id": "outstanding-suicide",
   "metadata": {},
   "outputs": [],
   "source": [
    "def ignore_case(word):\n",
    "    return word.lower()\n",
    "\n",
    "def imax(l):\n",
    "    return max(l,key=ignore_case)"
   ]
  },
  {
   "cell_type": "code",
   "execution_count": 306,
   "id": "single-penetration",
   "metadata": {},
   "outputs": [
    {
     "name": "stdout",
     "output_type": "stream",
     "text": [
      "Dave\n"
     ]
    }
   ],
   "source": [
    "print(imax(['alice', 'Dave', 'charlie', 'BOB']))"
   ]
  },
  {
   "cell_type": "code",
   "execution_count": 307,
   "id": "cleared-courtesy",
   "metadata": {},
   "outputs": [
    {
     "name": "stdout",
     "output_type": "stream",
     "text": [
      "dave\n"
     ]
    }
   ],
   "source": [
    "print(imax(['Alice', 'dave', 'charlie', 'BOB']))"
   ]
  },
  {
   "cell_type": "markdown",
   "id": "japanese-appointment",
   "metadata": {},
   "source": [
    "\n",
    "2)Write a function digit_count that takes a number and a digit as argument and returns the number of times the digit is present in that number.\n",
    "\n",
    "    >>> digit_count(1231, 1)\n",
    "            2\n",
    "    >>> digit_count(1231, 3)\n",
    "            1\n",
    "    >>> digit_count(1231, 9)\n",
    "            0"
   ]
  },
  {
   "cell_type": "code",
   "execution_count": 308,
   "id": "fewer-latest",
   "metadata": {},
   "outputs": [],
   "source": [
    "def digit_count(a,b):\n",
    "    return (str(a).count(str(b)))"
   ]
  },
  {
   "cell_type": "code",
   "execution_count": 309,
   "id": "quantitative-ecology",
   "metadata": {},
   "outputs": [
    {
     "data": {
      "text/plain": [
       "2"
      ]
     },
     "execution_count": 309,
     "metadata": {},
     "output_type": "execute_result"
    }
   ],
   "source": [
    "digit_count(1231, 1)"
   ]
  },
  {
   "cell_type": "code",
   "execution_count": 310,
   "id": "mathematical-buffalo",
   "metadata": {},
   "outputs": [
    {
     "data": {
      "text/plain": [
       "1"
      ]
     },
     "execution_count": 310,
     "metadata": {},
     "output_type": "execute_result"
    }
   ],
   "source": [
    "digit_count(1231, 3)"
   ]
  },
  {
   "cell_type": "code",
   "execution_count": 311,
   "id": "temporal-triumph",
   "metadata": {},
   "outputs": [
    {
     "data": {
      "text/plain": [
       "0"
      ]
     },
     "execution_count": 311,
     "metadata": {},
     "output_type": "execute_result"
    }
   ],
   "source": [
    "digit_count(1231, 9)"
   ]
  },
  {
   "cell_type": "markdown",
   "id": "backed-collaboration",
   "metadata": {},
   "source": [
    "                            Make Header\n",
    "3)Write a program header.py that takes a word as command-line argument and prints it as header as shown below with the word converted to upper case.\n",
    "\n",
    "        $ python header.py python\n",
    "                ======\n",
    "                PYTHON\n",
    "                ======\n",
    "\n",
    "        $ python header.py python-foundation-course\n",
    "                ========================\n",
    "                PYTHON-FOUNDATION-COURSE\n",
    "                ========================\n",
    "\n",
    "        Hint:\n",
    "\n",
    "        >>> name = 'python'\n",
    "        >>> name.upper()\n",
    "        'PYTHON'"
   ]
  },
  {
   "cell_type": "code",
   "execution_count": 312,
   "id": "educational-potter",
   "metadata": {},
   "outputs": [
    {
     "name": "stdout",
     "output_type": "stream",
     "text": [
      "==\n",
      "-F\n",
      "==\n"
     ]
    }
   ],
   "source": [
    "# you need to pass the input from command prompt\n",
    "import sys\n",
    "s = sys.argv[1]\n",
    "print('='*len(s))\n",
    "print(s.upper())\n",
    "print('='*len(s))"
   ]
  },
  {
   "cell_type": "markdown",
   "id": "crude-consolidation",
   "metadata": {},
   "source": [
    "                            Text in box\n",
    "4)Write a program box.py that takes word as a command-line argument and prints the word in a box as shown below.\n",
    "\n",
    "        $ python box.py python\n",
    "            +--------+\n",
    "            | python |\n",
    "            +--------+\n",
    "Please note that there should be exactly one space on either side of the text in the box.\n",
    "\n"
   ]
  },
  {
   "cell_type": "code",
   "execution_count": 313,
   "id": "advised-missile",
   "metadata": {},
   "outputs": [
    {
     "name": "stdout",
     "output_type": "stream",
     "text": [
      "+----+\n",
      "| -f |\n",
      "+----+\n"
     ]
    }
   ],
   "source": [
    "# you need to pass the input from command prompt\n",
    "import sys\n",
    "ar = sys.argv[1]\n",
    "length = len(ar)+2\n",
    "print('+' + '-'*length + '+')\n",
    "print(f'| {ar} |')\n",
    "print('+' + '-'*length + '+')"
   ]
  },
  {
   "cell_type": "markdown",
   "id": "tight-tenant",
   "metadata": {},
   "source": [
    "                            Add two numbers\n",
    "5)Write a program add.py that takes two numbers as command-line arguments and prints their sum.\n",
    "\n",
    "     >>> $ python add.py 3 4\n",
    "            7\n",
    " >>> $ python add.py 10 20\n",
    "            30"
   ]
  },
  {
   "cell_type": "code",
   "execution_count": 318,
   "id": "ceramic-award",
   "metadata": {},
   "outputs": [],
   "source": [
    "# you need to pass the input from command prompt\n",
    "import sys\n",
    "print(int(sys.argv[1])+int(sys.argv[2]))"
   ]
  },
  {
   "cell_type": "code",
   "execution_count": null,
   "id": "geographic-sudan",
   "metadata": {},
   "outputs": [],
   "source": []
  }
 ],
 "metadata": {
  "kernelspec": {
   "display_name": "Python 3",
   "language": "python",
   "name": "python3"
  },
  "language_info": {
   "codemirror_mode": {
    "name": "ipython",
    "version": 3
   },
   "file_extension": ".py",
   "mimetype": "text/x-python",
   "name": "python",
   "nbconvert_exporter": "python",
   "pygments_lexer": "ipython3",
   "version": "3.8.10"
  }
 },
 "nbformat": 4,
 "nbformat_minor": 5
}
