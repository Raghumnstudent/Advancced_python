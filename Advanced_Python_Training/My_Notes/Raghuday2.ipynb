{
 "cells": [
  {
   "cell_type": "markdown",
   "id": "freelance-whale",
   "metadata": {},
   "source": [
    "# Day 2"
   ]
  },
  {
   "cell_type": "markdown",
   "id": "apparent-shirt",
   "metadata": {},
   "source": [
    "```\n",
    "Topics for today\n",
    "\n",
    "*Conditional Expressions\n",
    "*If Statement\n",
    "*Lists\n",
    "*For Loop\n",
    "*List Comprehensions\n",
    "*Sorting Lists\n",
    "*Working with Files\n",
    "```\n"
   ]
  },
  {
   "cell_type": "code",
   "execution_count": 258,
   "id": "confident-pearl",
   "metadata": {},
   "outputs": [
    {
     "name": "stdout",
     "output_type": "stream",
     "text": [
      "Welcome to Day2 Training on Advanced Python\n"
     ]
    }
   ],
   "source": [
    "print('Welcome to Day2 Training on Advanced Python')"
   ]
  },
  {
   "cell_type": "code",
   "execution_count": 12,
   "id": "nearby-lithuania",
   "metadata": {},
   "outputs": [],
   "source": [
    "loadavg = 80"
   ]
  },
  {
   "cell_type": "code",
   "execution_count": 13,
   "id": "powered-diabetes",
   "metadata": {},
   "outputs": [
    {
     "data": {
      "text/plain": [
       "True"
      ]
     },
     "execution_count": 13,
     "metadata": {},
     "output_type": "execute_result"
    }
   ],
   "source": [
    "loadavg >75"
   ]
  },
  {
   "cell_type": "code",
   "execution_count": 14,
   "id": "ethical-special",
   "metadata": {},
   "outputs": [
    {
     "data": {
      "text/plain": [
       "False"
      ]
     },
     "execution_count": 14,
     "metadata": {},
     "output_type": "execute_result"
    }
   ],
   "source": [
    "loadavg>90"
   ]
  },
  {
   "cell_type": "code",
   "execution_count": 260,
   "id": "everyday-lingerie",
   "metadata": {},
   "outputs": [
    {
     "data": {
      "text/plain": [
       "True"
      ]
     },
     "execution_count": 260,
     "metadata": {},
     "output_type": "execute_result"
    }
   ],
   "source": [
    "'a' in ['a', 'b', 'c']"
   ]
  },
  {
   "cell_type": "code",
   "execution_count": null,
   "id": "otherwise-robin",
   "metadata": {},
   "outputs": [],
   "source": [
    "'a' not in ['a', 'b', 'c']"
   ]
  },
  {
   "cell_type": "markdown",
   "id": "married-michael",
   "metadata": {},
   "source": [
    "Let's say we want to write a function is_vowel to check if the given character is a vowel or not."
   ]
  },
  {
   "cell_type": "code",
   "execution_count": 2,
   "id": "demographic-singapore",
   "metadata": {},
   "outputs": [],
   "source": [
    "filename = \"raghu.py\""
   ]
  },
  {
   "cell_type": "code",
   "execution_count": 6,
   "id": "intimate-equity",
   "metadata": {},
   "outputs": [
    {
     "data": {
      "text/plain": [
       "True"
      ]
     },
     "execution_count": 6,
     "metadata": {},
     "output_type": "execute_result"
    }
   ],
   "source": [
    "filename.startswith('raghu')"
   ]
  },
  {
   "cell_type": "code",
   "execution_count": 8,
   "id": "thermal-riverside",
   "metadata": {},
   "outputs": [
    {
     "data": {
      "text/plain": [
       "True"
      ]
     },
     "execution_count": 8,
     "metadata": {},
     "output_type": "execute_result"
    }
   ],
   "source": [
    "filename.endswith('.py')"
   ]
  },
  {
   "cell_type": "code",
   "execution_count": 9,
   "id": "distant-savannah",
   "metadata": {},
   "outputs": [
    {
     "data": {
      "text/plain": [
       "True"
      ]
     },
     "execution_count": 9,
     "metadata": {},
     "output_type": "execute_result"
    }
   ],
   "source": [
    "'r' in filename"
   ]
  },
  {
   "cell_type": "code",
   "execution_count": 11,
   "id": "literary-robert",
   "metadata": {},
   "outputs": [
    {
     "data": {
      "text/plain": [
       "False"
      ]
     },
     "execution_count": 11,
     "metadata": {},
     "output_type": "execute_result"
    }
   ],
   "source": [
    "'b' in filename"
   ]
  },
  {
   "cell_type": "markdown",
   "id": "center-bullet",
   "metadata": {},
   "source": [
    "Let's say we want to write a function is_vowel to check if the given character is a vowel or not."
   ]
  },
  {
   "cell_type": "code",
   "execution_count": 33,
   "id": "fiscal-candy",
   "metadata": {},
   "outputs": [],
   "source": [
    "def is_vowel(c):\n",
    "    return c in 'aeiouAEIOU'"
   ]
  },
  {
   "cell_type": "code",
   "execution_count": 34,
   "id": "advance-duration",
   "metadata": {},
   "outputs": [
    {
     "data": {
      "text/plain": [
       "False"
      ]
     },
     "execution_count": 34,
     "metadata": {},
     "output_type": "execute_result"
    }
   ],
   "source": [
    "is_vowel('w')"
   ]
  },
  {
   "cell_type": "code",
   "execution_count": 35,
   "id": "unlike-chess",
   "metadata": {},
   "outputs": [
    {
     "data": {
      "text/plain": [
       "True"
      ]
     },
     "execution_count": 35,
     "metadata": {},
     "output_type": "execute_result"
    }
   ],
   "source": [
    "is_vowel('A')"
   ]
  },
  {
   "cell_type": "markdown",
   "id": "raising-karen",
   "metadata": {},
   "source": [
    "Problem: Write a function is_python_file that takes a filename as argument and returns True if it is Python file. A python file will have extension .py.\n",
    "\n",
    "```>>> is_python_file(\"hello.py\")\n",
    "True\n",
    ">>> is_python_file(\"hello.java\")\n",
    "False\n",
    ">>> is_python_file(\"python.java\")\n",
    "False\n",
    ">>> is_python_file(\"Makefile\")\n",
    "False\n",
    ">>> is_python_file(\"a.py.gz\")\n",
    "False\n",
    ">> is_python_file(\"py\")\n",
    "False\n",
    "```"
   ]
  },
  {
   "cell_type": "code",
   "execution_count": 15,
   "id": "federal-poster",
   "metadata": {},
   "outputs": [],
   "source": [
    "def is_python_file(f):\n",
    "    if f.endswith('.py'):\n",
    "        return True\n",
    "    else:\n",
    "        return False"
   ]
  },
  {
   "cell_type": "code",
   "execution_count": 16,
   "id": "daily-court",
   "metadata": {},
   "outputs": [
    {
     "data": {
      "text/plain": [
       "True"
      ]
     },
     "execution_count": 16,
     "metadata": {},
     "output_type": "execute_result"
    }
   ],
   "source": [
    "is_python_file('raghu.py')"
   ]
  },
  {
   "cell_type": "code",
   "execution_count": 17,
   "id": "athletic-patch",
   "metadata": {},
   "outputs": [
    {
     "data": {
      "text/plain": [
       "True"
      ]
     },
     "execution_count": 17,
     "metadata": {},
     "output_type": "execute_result"
    }
   ],
   "source": [
    "is_python_file(\"hello.py\")"
   ]
  },
  {
   "cell_type": "code",
   "execution_count": 18,
   "id": "damaged-circle",
   "metadata": {},
   "outputs": [
    {
     "data": {
      "text/plain": [
       "False"
      ]
     },
     "execution_count": 18,
     "metadata": {},
     "output_type": "execute_result"
    }
   ],
   "source": [
    "is_python_file(\"hello.java\")"
   ]
  },
  {
   "cell_type": "code",
   "execution_count": 19,
   "id": "urban-regard",
   "metadata": {},
   "outputs": [
    {
     "data": {
      "text/plain": [
       "False"
      ]
     },
     "execution_count": 19,
     "metadata": {},
     "output_type": "execute_result"
    }
   ],
   "source": [
    "is_python_file(\"python.java\")"
   ]
  },
  {
   "cell_type": "code",
   "execution_count": 20,
   "id": "talented-adult",
   "metadata": {},
   "outputs": [
    {
     "data": {
      "text/plain": [
       "False"
      ]
     },
     "execution_count": 20,
     "metadata": {},
     "output_type": "execute_result"
    }
   ],
   "source": [
    "is_python_file(\"Makefile\")"
   ]
  },
  {
   "cell_type": "code",
   "execution_count": 21,
   "id": "conscious-reply",
   "metadata": {},
   "outputs": [
    {
     "data": {
      "text/plain": [
       "False"
      ]
     },
     "execution_count": 21,
     "metadata": {},
     "output_type": "execute_result"
    }
   ],
   "source": [
    "is_python_file(\"a.py.gz\")"
   ]
  },
  {
   "cell_type": "code",
   "execution_count": 22,
   "id": "operating-harris",
   "metadata": {},
   "outputs": [
    {
     "data": {
      "text/plain": [
       "False"
      ]
     },
     "execution_count": 22,
     "metadata": {},
     "output_type": "execute_result"
    }
   ],
   "source": [
    "is_python_file(\"py\")"
   ]
  },
  {
   "cell_type": "markdown",
   "id": "ultimate-certification",
   "metadata": {},
   "source": [
    "The `if` statement"
   ]
  },
  {
   "cell_type": "code",
   "execution_count": 36,
   "id": "representative-flower",
   "metadata": {},
   "outputs": [],
   "source": [
    "def check_even(n):\n",
    "    if n%2==0:\n",
    "        return 'Even'\n",
    "    else:\n",
    "        return 'Odd'"
   ]
  },
  {
   "cell_type": "code",
   "execution_count": 37,
   "id": "manual-twins",
   "metadata": {},
   "outputs": [
    {
     "data": {
      "text/plain": [
       "'Even'"
      ]
     },
     "execution_count": 37,
     "metadata": {},
     "output_type": "execute_result"
    }
   ],
   "source": [
    "check_even(40)"
   ]
  },
  {
   "cell_type": "code",
   "execution_count": 38,
   "id": "foster-billion",
   "metadata": {},
   "outputs": [
    {
     "data": {
      "text/plain": [
       "'Odd'"
      ]
     },
     "execution_count": 38,
     "metadata": {},
     "output_type": "execute_result"
    }
   ],
   "source": [
    "check_even(3)"
   ]
  },
  {
   "cell_type": "markdown",
   "id": "mounted-handle",
   "metadata": {},
   "source": [
    "Sometimes we want to check for more conditions."
   ]
  },
  {
   "cell_type": "code",
   "execution_count": 264,
   "id": "false-danger",
   "metadata": {},
   "outputs": [],
   "source": [
    "def check_number(n):\n",
    "    if n < 10:\n",
    "        print(n, \"is a single digit number\")\n",
    "    elif n < 100:\n",
    "        print(n, \"is a two digit number\")\n",
    "    else:\n",
    "        print(n, \"is a big number\")"
   ]
  },
  {
   "cell_type": "code",
   "execution_count": 265,
   "id": "radio-estate",
   "metadata": {},
   "outputs": [
    {
     "name": "stdout",
     "output_type": "stream",
     "text": [
      "5 is a single digit number\n"
     ]
    }
   ],
   "source": [
    "check_number(5)"
   ]
  },
  {
   "cell_type": "code",
   "execution_count": 266,
   "id": "fancy-relay",
   "metadata": {},
   "outputs": [
    {
     "name": "stdout",
     "output_type": "stream",
     "text": [
      "55 is a two digit number\n"
     ]
    }
   ],
   "source": [
    "check_number(55)"
   ]
  },
  {
   "cell_type": "code",
   "execution_count": 267,
   "id": "textile-cooper",
   "metadata": {},
   "outputs": [
    {
     "name": "stdout",
     "output_type": "stream",
     "text": [
      "555 is a big number\n"
     ]
    }
   ],
   "source": [
    "check_number(555)"
   ]
  },
  {
   "cell_type": "markdown",
   "id": "existing-farming",
   "metadata": {},
   "source": [
    "Problem: Write a function minimum that computes minimum of two numbers without using built-in function min or max.\n",
    "```\n",
    ">>> minimum(3, 7)\n",
    "3\n",
    ">>> minimum(33, 7)\n",
    "7\n",
    ">>> 1 + minimum(3, 7)\n",
    "4\n",
    ">>> 1 + minimum(3, 3)\n",
    "4\n",
    "```"
   ]
  },
  {
   "cell_type": "code",
   "execution_count": 54,
   "id": "alpine-chile",
   "metadata": {},
   "outputs": [],
   "source": [
    "def minimum(a,b):\n",
    "    if a>b:\n",
    "        return b\n",
    "    else:\n",
    "        return a"
   ]
  },
  {
   "cell_type": "code",
   "execution_count": 55,
   "id": "blocked-adapter",
   "metadata": {},
   "outputs": [
    {
     "data": {
      "text/plain": [
       "3"
      ]
     },
     "execution_count": 55,
     "metadata": {},
     "output_type": "execute_result"
    }
   ],
   "source": [
    "minimum(3,7)"
   ]
  },
  {
   "cell_type": "code",
   "execution_count": 56,
   "id": "answering-bachelor",
   "metadata": {},
   "outputs": [
    {
     "data": {
      "text/plain": [
       "7"
      ]
     },
     "execution_count": 56,
     "metadata": {},
     "output_type": "execute_result"
    }
   ],
   "source": [
    "minimum(33, 7)"
   ]
  },
  {
   "cell_type": "code",
   "execution_count": 57,
   "id": "square-coaching",
   "metadata": {},
   "outputs": [
    {
     "data": {
      "text/plain": [
       "4"
      ]
     },
     "execution_count": 57,
     "metadata": {},
     "output_type": "execute_result"
    }
   ],
   "source": [
    "1 + minimum(3, 7)"
   ]
  },
  {
   "cell_type": "code",
   "execution_count": 61,
   "id": "trained-quick",
   "metadata": {},
   "outputs": [
    {
     "data": {
      "text/plain": [
       "4"
      ]
     },
     "execution_count": 61,
     "metadata": {},
     "output_type": "execute_result"
    }
   ],
   "source": [
    "1 + minimum(3, 3)"
   ]
  },
  {
   "cell_type": "markdown",
   "id": "sapphire-emission",
   "metadata": {},
   "source": [
    "Problem: Write a function minimum3 that computes minimum of three numbers. Can you do this using the minimum function implementd for the above problem?\n",
    "```\n",
    ">>> minimum3(2, 3, 4)\n",
    "2\n",
    ">>> minimum3(12, 3, 4)\n",
    "3\n",
    ">>> minimum3(12, 13, 4)\n",
    "4\n",
    "```"
   ]
  },
  {
   "cell_type": "code",
   "execution_count": 48,
   "id": "valued-threat",
   "metadata": {},
   "outputs": [],
   "source": [
    "def minimum3(x,y,z):\n",
    "    if x<y and x<z:\n",
    "        return x\n",
    "    elif y<z and y<x:\n",
    "        return y\n",
    "    else:\n",
    "        return z"
   ]
  },
  {
   "cell_type": "code",
   "execution_count": 49,
   "id": "nasty-series",
   "metadata": {},
   "outputs": [
    {
     "data": {
      "text/plain": [
       "2"
      ]
     },
     "execution_count": 49,
     "metadata": {},
     "output_type": "execute_result"
    }
   ],
   "source": [
    "minimum3(2, 3, 4)"
   ]
  },
  {
   "cell_type": "code",
   "execution_count": 50,
   "id": "sublime-niger",
   "metadata": {},
   "outputs": [
    {
     "data": {
      "text/plain": [
       "3"
      ]
     },
     "execution_count": 50,
     "metadata": {},
     "output_type": "execute_result"
    }
   ],
   "source": [
    "minimum3(12, 3, 4)"
   ]
  },
  {
   "cell_type": "code",
   "execution_count": 51,
   "id": "choice-adapter",
   "metadata": {},
   "outputs": [
    {
     "data": {
      "text/plain": [
       "4"
      ]
     },
     "execution_count": 51,
     "metadata": {},
     "output_type": "execute_result"
    }
   ],
   "source": [
    "minimum3(12, 13, 4)"
   ]
  },
  {
   "cell_type": "code",
   "execution_count": 268,
   "id": "paperback-tablet",
   "metadata": {},
   "outputs": [],
   "source": [
    "def minimum3(x, y, z):\n",
    "    return minimum(minimum(x, y), z)"
   ]
  },
  {
   "cell_type": "code",
   "execution_count": 270,
   "id": "under-aquarium",
   "metadata": {},
   "outputs": [
    {
     "data": {
      "text/plain": [
       "3"
      ]
     },
     "execution_count": 270,
     "metadata": {},
     "output_type": "execute_result"
    }
   ],
   "source": [
    "minimum3(3, 4, 5)"
   ]
  },
  {
   "cell_type": "code",
   "execution_count": 271,
   "id": "younger-valve",
   "metadata": {},
   "outputs": [
    {
     "data": {
      "text/plain": [
       "4"
      ]
     },
     "execution_count": 271,
     "metadata": {},
     "output_type": "execute_result"
    }
   ],
   "source": [
    "minimum3(13, 4, 5)"
   ]
  },
  {
   "cell_type": "code",
   "execution_count": 272,
   "id": "successful-prize",
   "metadata": {},
   "outputs": [
    {
     "data": {
      "text/plain": [
       "5"
      ]
     },
     "execution_count": 272,
     "metadata": {},
     "output_type": "execute_result"
    }
   ],
   "source": [
    "minimum3(13, 14, 5)"
   ]
  },
  {
   "cell_type": "markdown",
   "id": "suited-institute",
   "metadata": {},
   "source": [
    "Problem: Write a program ls.py that takes path to a directory as a command-line argument and prints all the files in that directory. The output should have one filename per line.\n",
    "\n",
    "```\n",
    "    python ls.py .\n",
    "    day1.ipynb\n",
    "    day1.html\n",
    "    day2.ipynb\n",
    "    day1.html\n",
    "    square.py\n",
    "Hint: use os.listdir\n",
    "```"
   ]
  },
  {
   "cell_type": "code",
   "execution_count": 111,
   "id": "collect-kenya",
   "metadata": {},
   "outputs": [
    {
     "name": "stdout",
     "output_type": "stream",
     "text": [
      "Overwriting ls.py\n"
     ]
    }
   ],
   "source": [
    "%%file ls.py\n",
    "import os\n",
    "import sys\n",
    "arg = sys.argv[1]\n",
    "\n",
    "files = os.listdir(arg)\n",
    "for i in files:\n",
    "    print(i)"
   ]
  },
  {
   "cell_type": "code",
   "execution_count": 112,
   "id": "judicial-belize",
   "metadata": {},
   "outputs": [
    {
     "name": "stdout",
     "output_type": "stream",
     "text": [
      "square.py\n",
      "day4.ipynb\n",
      "day5.ipynb\n",
      "hello.py\n",
      "ls2.py\n",
      ".bash_logout\n",
      "day3.ipynb\n",
      ".ipynb_checkpoints\n",
      "ls.py\n",
      ".bashrc\n",
      "day1.ipynb\n",
      ".profile\n",
      "day2.ipynb\n",
      ".cache\n",
      "args.py\n",
      ".jupyter\n",
      "cube.py\n",
      ".local\n",
      ".ipython\n",
      "date.py\n",
      ".juputer\n",
      "header.py\n",
      "echo.py\n"
     ]
    }
   ],
   "source": [
    "!python ls.py '.'"
   ]
  },
  {
   "cell_type": "markdown",
   "id": "junior-timothy",
   "metadata": {},
   "source": [
    "Problem: Improve the above program to print the files in the current directory when no arguments are provided.\n",
    "```\n",
    "!python ls.py\n",
    "day1.html\n",
    "day1.ipynb\n",
    "day2.html\n",
    "day2.ipynb\n",
    "```"
   ]
  },
  {
   "cell_type": "code",
   "execution_count": 168,
   "id": "narrow-trade",
   "metadata": {},
   "outputs": [
    {
     "name": "stdout",
     "output_type": "stream",
     "text": [
      "Overwriting ls2.py\n"
     ]
    }
   ],
   "source": [
    "%%file ls2.py\n",
    "import os\n",
    "import sys\n",
    "if len(sys.argv)<2:\n",
    "    f = os.getcwd()\n",
    "    files = os.listdir(f)\n",
    "else:\n",
    "    arg = sys.argv[1]\n",
    "    files = os.listdir(arg)\n",
    "\n",
    "for i in files:\n",
    "    print(i)\n"
   ]
  },
  {
   "cell_type": "code",
   "execution_count": 169,
   "id": "allied-cotton",
   "metadata": {},
   "outputs": [
    {
     "name": "stdout",
     "output_type": "stream",
     "text": [
      "square.py\n",
      "day4.ipynb\n",
      "day5.ipynb\n",
      "hello.py\n",
      "ls2.py\n",
      ".bash_logout\n",
      "day3.ipynb\n",
      ".ipynb_checkpoints\n",
      "ls.py\n",
      ".bashrc\n",
      "day1.ipynb\n",
      ".profile\n",
      "day2.ipynb\n",
      ".cache\n",
      "args.py\n",
      ".jupyter\n",
      "cube.py\n",
      ".local\n",
      ".ipython\n",
      "date.py\n",
      ".juputer\n",
      "header.py\n",
      "echo.py\n"
     ]
    }
   ],
   "source": [
    "!python ls2.py "
   ]
  },
  {
   "cell_type": "code",
   "execution_count": 290,
   "id": "explicit-seeking",
   "metadata": {},
   "outputs": [],
   "source": [
    "def product(numbers):\n",
    "    result=1\n",
    "    for i in numbers:\n",
    "        result*=i\n",
    "    return result"
   ]
  },
  {
   "cell_type": "code",
   "execution_count": 291,
   "id": "forced-value",
   "metadata": {},
   "outputs": [
    {
     "data": {
      "text/plain": [
       "24"
      ]
     },
     "execution_count": 291,
     "metadata": {},
     "output_type": "execute_result"
    }
   ],
   "source": [
    "product([1,2,3,4])"
   ]
  },
  {
   "cell_type": "code",
   "execution_count": 299,
   "id": "disciplinary-browse",
   "metadata": {},
   "outputs": [],
   "source": [
    "def factorial(n):\n",
    "    if n==0:\n",
    "        return 0\n",
    "    elif n==1:\n",
    "        return 1\n",
    "    else:\n",
    "        r = list(range(1,n+1))\n",
    "        return product(r)"
   ]
  },
  {
   "cell_type": "code",
   "execution_count": 300,
   "id": "magnetic-hebrew",
   "metadata": {},
   "outputs": [
    {
     "data": {
      "text/plain": [
       "120"
      ]
     },
     "execution_count": 300,
     "metadata": {},
     "output_type": "execute_result"
    }
   ],
   "source": [
    "factorial(5)"
   ]
  },
  {
   "cell_type": "code",
   "execution_count": 180,
   "id": "standard-glasgow",
   "metadata": {},
   "outputs": [],
   "source": [
    "def squaring(nums):\n",
    "    l = []\n",
    "    for i in nums:\n",
    "        l.append(i*i)\n",
    "    return l "
   ]
  },
  {
   "cell_type": "code",
   "execution_count": 181,
   "id": "alternate-warren",
   "metadata": {},
   "outputs": [
    {
     "data": {
      "text/plain": [
       "[4, 16, 36, 64]"
      ]
     },
     "execution_count": 181,
     "metadata": {},
     "output_type": "execute_result"
    }
   ],
   "source": [
    "squaring([2,4,6,8])"
   ]
  },
  {
   "cell_type": "code",
   "execution_count": 182,
   "id": "beneficial-following",
   "metadata": {},
   "outputs": [
    {
     "data": {
      "text/plain": [
       "[4, 9]"
      ]
     },
     "execution_count": 182,
     "metadata": {},
     "output_type": "execute_result"
    }
   ],
   "source": [
    "squaring([2,3])"
   ]
  },
  {
   "cell_type": "markdown",
   "id": "incorporated-career",
   "metadata": {},
   "source": [
    "Problem: Write a function evens that takes a list of numbers as argument and returns a new list containing only the even numbers out of it.\n",
    "```\n",
    ">>> evens([1, 2, 3, 4, 5, 6])\n",
    "[2, 4, 6]\n",
    "```"
   ]
  },
  {
   "cell_type": "code",
   "execution_count": 188,
   "id": "cubic-greene",
   "metadata": {},
   "outputs": [],
   "source": [
    "def evens(nums):\n",
    "    even=[]\n",
    "    for i in nums:\n",
    "        if i%2==0:\n",
    "            even.append(i)\n",
    "    return even\n",
    "\n",
    "        "
   ]
  },
  {
   "cell_type": "code",
   "execution_count": 189,
   "id": "healthy-burning",
   "metadata": {},
   "outputs": [
    {
     "data": {
      "text/plain": [
       "[2, 4, 6]"
      ]
     },
     "execution_count": 189,
     "metadata": {},
     "output_type": "execute_result"
    }
   ],
   "source": [
    "evens([1, 2, 3, 4, 5, 6])"
   ]
  },
  {
   "cell_type": "code",
   "execution_count": 203,
   "id": "drawn-apparatus",
   "metadata": {},
   "outputs": [],
   "source": [
    "\n",
    "def vowel_count(s):\n",
    "    count=0\n",
    "    for i in s:\n",
    "        if i in 'aeiouAEIOU':\n",
    "            count+=1\n",
    "    return count\n"
   ]
  },
  {
   "cell_type": "code",
   "execution_count": 204,
   "id": "spread-payday",
   "metadata": {},
   "outputs": [
    {
     "data": {
      "text/plain": [
       "1"
      ]
     },
     "execution_count": 204,
     "metadata": {},
     "output_type": "execute_result"
    }
   ],
   "source": [
    "vowel_count(\"python\")"
   ]
  },
  {
   "cell_type": "code",
   "execution_count": 205,
   "id": "dependent-spouse",
   "metadata": {},
   "outputs": [
    {
     "data": {
      "text/plain": [
       "10"
      ]
     },
     "execution_count": 205,
     "metadata": {},
     "output_type": "execute_result"
    }
   ],
   "source": [
    "vowel_count(\"when in doubt, use brute force\")"
   ]
  },
  {
   "cell_type": "code",
   "execution_count": 229,
   "id": "twelve-revelation",
   "metadata": {},
   "outputs": [],
   "source": [
    "def reverse_world(sentence):\n",
    "    s2=sentence.split()\n",
    "    s2.reverse()\n",
    "    return (' '.join(s2))"
   ]
  },
  {
   "cell_type": "code",
   "execution_count": 230,
   "id": "nervous-blogger",
   "metadata": {},
   "outputs": [
    {
     "data": {
      "text/plain": [
       "'programming of joy'"
      ]
     },
     "execution_count": 230,
     "metadata": {},
     "output_type": "execute_result"
    }
   ],
   "source": [
    "reverse_world('joy of programming')"
   ]
  },
  {
   "cell_type": "code",
   "execution_count": 232,
   "id": "boolean-attachment",
   "metadata": {},
   "outputs": [
    {
     "name": "stdout",
     "output_type": "stream",
     "text": [
      "[(1, 1, 2), (1, 2, 3), (1, 3, 4), (2, 2, 4)]\n"
     ]
    }
   ],
   "source": [
    "def triplets(n):\n",
    "    l1 = []\n",
    "    l = list(range(1,n+1))\n",
    "    for k in range(0,len(l)):\n",
    "        for i in range(k,len(l)):\n",
    "            if l[k]+l[i]<n:\n",
    "                l1.append((l[k],l[i],l[k]+l[i]))   \n",
    "    return l1\n",
    "print(triplets(5))"
   ]
  },
  {
   "cell_type": "code",
   "execution_count": 245,
   "id": "congressional-strike",
   "metadata": {},
   "outputs": [
    {
     "data": {
      "text/plain": [
       "[(1, 1, 2), (1, 2, 3), (1, 3, 4), (2, 2, 4)]"
      ]
     },
     "execution_count": 245,
     "metadata": {},
     "output_type": "execute_result"
    }
   ],
   "source": [
    "def triplets2(n):\n",
    "    l = list(range(1,n+1))\n",
    "    return [ (l[k],l[i],l[k]+l[i]) for k in range(0,len(l)) for i in range(k,len(l)) if l[k]+l[i]<n ]\n",
    "    \n",
    "triplets2(5)"
   ]
  },
  {
   "cell_type": "code",
   "execution_count": 256,
   "id": "verified-christianity",
   "metadata": {},
   "outputs": [],
   "source": [
    "def vector_add(l1,l2):   \n",
    "    return [ i+j for i,j in zip(l1,l2) ]\n",
    "        "
   ]
  },
  {
   "cell_type": "code",
   "execution_count": 257,
   "id": "lesbian-millennium",
   "metadata": {},
   "outputs": [
    {
     "data": {
      "text/plain": [
       "[11, 22, 33, 44]"
      ]
     },
     "execution_count": 257,
     "metadata": {},
     "output_type": "execute_result"
    }
   ],
   "source": [
    "vector_add([1, 2, 3, 4], [10, 20, 30, 40])"
   ]
  },
  {
   "cell_type": "code",
   "execution_count": null,
   "id": "eastern-spirit",
   "metadata": {},
   "outputs": [],
   "source": []
  }
 ],
 "metadata": {
  "kernelspec": {
   "display_name": "Python 3 (ipykernel)",
   "language": "python",
   "name": "python3"
  },
  "language_info": {
   "codemirror_mode": {
    "name": "ipython",
    "version": 3
   },
   "file_extension": ".py",
   "mimetype": "text/x-python",
   "name": "python",
   "nbconvert_exporter": "python",
   "pygments_lexer": "ipython3",
   "version": "3.8.10"
  }
 },
 "nbformat": 4,
 "nbformat_minor": 5
}
