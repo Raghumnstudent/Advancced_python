{
 "cells": [
  {
   "cell_type": "markdown",
   "id": "homeless-visiting",
   "metadata": {},
   "source": [
    "# Day 4"
   ]
  },
  {
   "cell_type": "code",
   "execution_count": 1,
   "id": "further-vessel",
   "metadata": {},
   "outputs": [
    {
     "name": "stdout",
     "output_type": "stream",
     "text": [
      "Overwriting wordfreq.py\n"
     ]
    }
   ],
   "source": [
    "%%file wordfreq.py\n",
    "\"\"\"Program to compute frequency of words in the given file.\n",
    "\n",
    "USAGE: python wordfreq.py words.txt\n",
    "\"\"\"\n",
    "import sys\n",
    "\n",
    "def read_words(filename):\n",
    "    \"\"\"Reads and returns all words in the given filename as a list.\n",
    "    \"\"\"\n",
    "    return open(filename).read().split()\n",
    "\n",
    "def wordfreq(words):\n",
    "    \"\"\"Takes a list of words as argument and computes \n",
    "    frquency of each unique word in those words as a dictionary.\n",
    "    \n",
    "        >>> wordfreq([])\n",
    "        {}\n",
    "        >>> wordfreq(['a', 'b', a'])\n",
    "        {\"a\": 2, \"b\": 1}\n",
    "    \"\"\"\n",
    "    freq = {}\n",
    "    for w in words:\n",
    "#         if w in freq:\n",
    "#             freq[w] = freq[w] + 1\n",
    "#         else:\n",
    "#             freq[w] = 1  \n",
    "        freq[w] = freq.get(w, 0) + 1\n",
    "    return freq\n",
    "\n",
    "def print_freq(freq):\n",
    "    \"\"\"Prints frequency of words in a nice readable format.\n",
    "    \"\"\"\n",
    "    # FIXME\n",
    "    print(freq)\n",
    "\n",
    "def main():\n",
    "    filename = sys.argv[1]\n",
    "    words = read_words(filename)\n",
    "    freq = wordfreq(words)\n",
    "    print_freq(freq)\n",
    "    \n",
    "if __name__ == \"__main__\":\n",
    "    main()"
   ]
  },
  {
   "cell_type": "code",
   "execution_count": 32,
   "id": "hidden-editor",
   "metadata": {},
   "outputs": [
    {
     "name": "stdout",
     "output_type": "stream",
     "text": [
      "Writing words1.txt\n"
     ]
    }
   ],
   "source": [
    "%%file words1.txt\n",
    "five\n",
    "five four\n",
    "five four three\n",
    "five four three two\n",
    "five four three two one\n",
    "zero\n",
    "ten zero"
   ]
  },
  {
   "cell_type": "code",
   "execution_count": null,
   "id": "regional-tobago",
   "metadata": {},
   "outputs": [],
   "source": []
  },
  {
   "cell_type": "code",
   "execution_count": 2,
   "id": "advanced-clear",
   "metadata": {},
   "outputs": [
    {
     "name": "stdout",
     "output_type": "stream",
     "text": [
      "{'five': 5, 'four': 4, 'three': 3, 'two': 2, 'one': 1, 'zero': 2, 'ten': 1}\n"
     ]
    }
   ],
   "source": [
    "!python wordfreq.py words.txt"
   ]
  },
  {
   "cell_type": "code",
   "execution_count": 3,
   "id": "available-pepper",
   "metadata": {},
   "outputs": [],
   "source": [
    "!touch empty.txt"
   ]
  },
  {
   "cell_type": "code",
   "execution_count": 4,
   "id": "golden-measurement",
   "metadata": {},
   "outputs": [
    {
     "name": "stdout",
     "output_type": "stream",
     "text": [
      "{}\n"
     ]
    }
   ],
   "source": [
    "!python wordfreq.py empty.txt"
   ]
  },
  {
   "cell_type": "markdown",
   "id": "still-inside",
   "metadata": {},
   "source": [
    "Problem: Improve the above program to print the frequency one word per line, as shown below. It doesn't matter which order they appear.\n",
    "```\n",
    "$python wordfreq.py words.txt\n",
    "zero 2\n",
    "five 5\n",
    "four 4\n",
    "three 3\n",
    "two 2\n",
    "one 1\n",
    "ten 1\n",
    "```"
   ]
  },
  {
   "cell_type": "markdown",
   "id": "detected-gather",
   "metadata": {},
   "source": [
    "Problem: Improve the above program further to print the words sorted by their count, with most frequenct word on the top.\n",
    "```\n",
    "$ python wordfreq.py words.txt\n",
    "five 5\n",
    "four 4\n",
    "three 3\n",
    "two 2\n",
    "zero 2\n",
    "one 1\n",
    "ten 1\n",
    "```"
   ]
  },
  {
   "cell_type": "code",
   "execution_count": 35,
   "id": "responsible-spring",
   "metadata": {},
   "outputs": [
    {
     "name": "stdout",
     "output_type": "stream",
     "text": [
      "Overwriting wordfreq1.py\n"
     ]
    }
   ],
   "source": [
    "%%file wordfreq1.py\n",
    "\"\"\"Program to compute frequency of words in the given file.\n",
    "\n",
    "USAGE: python wordfreq.py words.txt\n",
    "\"\"\"\n",
    "import sys\n",
    "\n",
    "def read_words(filename):\n",
    "    \"\"\"Reads and returns all words in the given filename as a list.\n",
    "    \"\"\"\n",
    "    return open(filename).read().split()\n",
    "\n",
    "def wordfreq(words):\n",
    "    \"\"\"Takes a list of words as argument and computes \n",
    "    frquency of each unique word in those words as a dictionary.\n",
    "    \n",
    "        >>> wordfreq([])\n",
    "        {}\n",
    "        >>> wordfreq(['a', 'b', a'])\n",
    "        {\"a\": 2, \"b\": 1}\n",
    "    \"\"\"\n",
    "    freq = {}\n",
    "    for w in words:\n",
    "#         if w in freq:\n",
    "#             freq[w] = freq[w] + 1\n",
    "#         else:\n",
    "#             freq[w] = 1  \n",
    "        freq[w] = freq.get(w, 0) + 1\n",
    "    return freq\n",
    "\n",
    "def print_freq(freq):\n",
    "    \"\"\"Prints frequency of words in a nice readable format.\n",
    "    \n",
    "    \"\"\"\n",
    "    for i,j in freq.items():\n",
    "        print(i,j)\n",
    "    \n",
    "def main():\n",
    "    filename = sys.argv[1]\n",
    "    words = read_words(filename)\n",
    "    freq = wordfreq(words)\n",
    "    print_freq(freq)\n",
    "    \n",
    "if __name__ == \"__main__\":\n",
    "    main()"
   ]
  },
  {
   "cell_type": "code",
   "execution_count": 36,
   "id": "original-bride",
   "metadata": {},
   "outputs": [
    {
     "name": "stdout",
     "output_type": "stream",
     "text": [
      "five 5\n",
      "four 4\n",
      "three 3\n",
      "two 2\n",
      "one 1\n",
      "zero 2\n",
      "ten 1\n"
     ]
    }
   ],
   "source": [
    "!python wordfreq1.py words1.txt"
   ]
  },
  {
   "cell_type": "code",
   "execution_count": 76,
   "id": "stone-while",
   "metadata": {},
   "outputs": [
    {
     "name": "stdout",
     "output_type": "stream",
     "text": [
      "Overwriting wordfreq2.py\n"
     ]
    }
   ],
   "source": [
    "%%file wordfreq2.py\n",
    "\"\"\"Program to compute frequency of words in the given file.\n",
    "\n",
    "USAGE: python wordfreq.py words.txt\n",
    "\"\"\"\n",
    "import sys\n",
    "\n",
    "def read_words(filename):\n",
    "    \"\"\"Reads and returns all words in the given filename as a list.\n",
    "    \"\"\"\n",
    "    return open(filename).read().split()\n",
    "\n",
    "def wordfreq(words):\n",
    "    \"\"\"Takes a list of words as argument and computes \n",
    "    frquency of each unique word in those words as a dictionary.\n",
    "    \n",
    "        >>> wordfreq([])\n",
    "        {}\n",
    "        >>> wordfreq(['a', 'b', a'])\n",
    "        {\"a\": 2, \"b\": 1}\n",
    "    \"\"\"\n",
    "    freq = {}\n",
    "    for w in words:\n",
    "#         if w in freq:\n",
    "#             freq[w] = freq[w] + 1\n",
    "#         else:\n",
    "#             freq[w] = 1  \n",
    "        freq[w] = freq.get(w, 0) + 1\n",
    "    return freq\n",
    "    \n",
    "\n",
    "def print_freq(freq):\n",
    "    \"\"\"Prints frequency of words in a nice readable format.\n",
    "    \n",
    "    \"\"\"\n",
    "    items = sorted(\n",
    "        freq.items(), \n",
    "        key=lambda item: item[1], \n",
    "        reverse=True)\n",
    "      \n",
    "    for w, count in items:\n",
    "        print(w, count)\n",
    "    \n",
    "\n",
    "def main():\n",
    "    filename = sys.argv[1]\n",
    "    words = read_words(filename)\n",
    "    freq = wordfreq(words)\n",
    "    print_freq(freq)\n",
    "    \n",
    "if __name__ == \"__main__\":\n",
    "    main()"
   ]
  },
  {
   "cell_type": "code",
   "execution_count": 77,
   "id": "functioning-continent",
   "metadata": {},
   "outputs": [
    {
     "name": "stdout",
     "output_type": "stream",
     "text": [
      "five 5\n",
      "four 4\n",
      "three 3\n",
      "two 2\n",
      "zero 2\n",
      "one 1\n",
      "ten 1\n"
     ]
    }
   ],
   "source": [
    "!python wordfreq2.py words1.txt"
   ]
  },
  {
   "cell_type": "code",
   "execution_count": 106,
   "id": "charged-frost",
   "metadata": {},
   "outputs": [
    {
     "name": "stdout",
     "output_type": "stream",
     "text": [
      "Overwriting invert_dictionary.py\n"
     ]
    }
   ],
   "source": [
    "%%file invert_dictionary.py\n",
    "def invert_dictionary(d):\n",
    "#     new_dict = {}\n",
    "#     for w, count in d.items():\n",
    "#         new_dict[count]=w\n",
    "#     print(new_dict)\n",
    "    return {count:w for w, count in d.items()}\n",
    "    \n",
    "    \n",
    "def test_empty():\n",
    "    assert invert_dictionary({}) == {}\n",
    "    assert invert_dictionary({\"x\":1,\"y\":2,\"z\":3})=={1:\"x\",2:\"y\",3:\"z\"}\n",
    "\n",
    "if __name__ == \"__main__\":\n",
    "    invert_dictionary({\"x\":1,\"y\":2,\"z\":3})\n",
    "    \n",
    "\n",
    "    "
   ]
  },
  {
   "cell_type": "code",
   "execution_count": 107,
   "id": "ceramic-conservation",
   "metadata": {},
   "outputs": [
    {
     "name": "stdout",
     "output_type": "stream",
     "text": [
      "\u001b[1m============================= test session starts ==============================\u001b[0m\n",
      "platform linux -- Python 3.8.5, pytest-7.0.0, pluggy-1.0.0\n",
      "rootdir: /home/nraghu\n",
      "plugins: pytest_notebook-0.7.0, anyio-2.2.0\n",
      "collected 1 item                                                               \u001b[0m\n",
      "\n",
      "invert_dictionary.py \u001b[32m.\u001b[0m\u001b[32m                                                   [100%]\u001b[0m\n",
      "\n",
      "\u001b[32m============================== \u001b[32m\u001b[1m1 passed\u001b[0m\u001b[32m in 0.01s\u001b[0m\u001b[32m ===============================\u001b[0m\n"
     ]
    }
   ],
   "source": [
    "!py.test invert_dictionary.py"
   ]
  },
  {
   "cell_type": "code",
   "execution_count": 109,
   "id": "heard-doctor",
   "metadata": {},
   "outputs": [
    {
     "data": {
      "text/plain": [
       "[2, 4, 6]"
      ]
     },
     "execution_count": 109,
     "metadata": {},
     "output_type": "execute_result"
    }
   ],
   "source": [
    "list(set([2,4,6,2,4]))"
   ]
  },
  {
   "cell_type": "code",
   "execution_count": 113,
   "id": "killing-latino",
   "metadata": {},
   "outputs": [],
   "source": [
    "# list(set(range(1000)))"
   ]
  },
  {
   "cell_type": "code",
   "execution_count": 119,
   "id": "orange-portal",
   "metadata": {},
   "outputs": [],
   "source": [
    "import datetime"
   ]
  },
  {
   "cell_type": "code",
   "execution_count": 120,
   "id": "convenient-fifth",
   "metadata": {},
   "outputs": [],
   "source": [
    "d = datetime.date(2020, 10, 20)"
   ]
  },
  {
   "cell_type": "code",
   "execution_count": null,
   "id": "chief-lender",
   "metadata": {},
   "outputs": [],
   "source": []
  },
  {
   "cell_type": "markdown",
   "id": "equipped-tribune",
   "metadata": {},
   "source": [
    "Syntax of writing classes"
   ]
  },
  {
   "cell_type": "code",
   "execution_count": 114,
   "id": "empirical-eating",
   "metadata": {},
   "outputs": [],
   "source": [
    "class Point:\n",
    "    def __init__(self, x, y):\n",
    "        print(\"Point.__init__\")\n",
    "        self.x = x\n",
    "        self.y = y"
   ]
  },
  {
   "cell_type": "code",
   "execution_count": 115,
   "id": "interior-papua",
   "metadata": {},
   "outputs": [
    {
     "name": "stdout",
     "output_type": "stream",
     "text": [
      "Point.__init__\n"
     ]
    }
   ],
   "source": [
    "p1 = Point(3, 4)"
   ]
  },
  {
   "cell_type": "code",
   "execution_count": 116,
   "id": "golden-ribbon",
   "metadata": {},
   "outputs": [
    {
     "data": {
      "text/plain": [
       "3"
      ]
     },
     "execution_count": 116,
     "metadata": {},
     "output_type": "execute_result"
    }
   ],
   "source": [
    "p1.x"
   ]
  },
  {
   "cell_type": "code",
   "execution_count": 117,
   "id": "interpreted-court",
   "metadata": {},
   "outputs": [
    {
     "data": {
      "text/plain": [
       "4"
      ]
     },
     "execution_count": 117,
     "metadata": {},
     "output_type": "execute_result"
    }
   ],
   "source": [
    "p1.y"
   ]
  },
  {
   "cell_type": "code",
   "execution_count": 121,
   "id": "tamil-orleans",
   "metadata": {},
   "outputs": [],
   "source": [
    "class person_details:\n",
    "    def __init__(self,name,Town):\n",
    "        self.name = name\n",
    "        self.Town = Town\n",
    "        "
   ]
  },
  {
   "cell_type": "code",
   "execution_count": 122,
   "id": "expected-zealand",
   "metadata": {},
   "outputs": [],
   "source": [
    "user1 = person_details('Raghu','Mandya')"
   ]
  },
  {
   "cell_type": "code",
   "execution_count": 123,
   "id": "intellectual-lighter",
   "metadata": {},
   "outputs": [
    {
     "data": {
      "text/plain": [
       "'Raghu'"
      ]
     },
     "execution_count": 123,
     "metadata": {},
     "output_type": "execute_result"
    }
   ],
   "source": [
    "user1.name"
   ]
  },
  {
   "cell_type": "code",
   "execution_count": 124,
   "id": "pleased-regulation",
   "metadata": {},
   "outputs": [
    {
     "data": {
      "text/plain": [
       "'Mandya'"
      ]
     },
     "execution_count": 124,
     "metadata": {},
     "output_type": "execute_result"
    }
   ],
   "source": [
    "user1.Town"
   ]
  },
  {
   "cell_type": "code",
   "execution_count": 128,
   "id": "greenhouse-somewhere",
   "metadata": {},
   "outputs": [],
   "source": [
    "class Point:\n",
    "    def __init__(self, x, y):\n",
    "        self.x = x\n",
    "        self.y = y\n",
    "        \n",
    "    def add(self, p):\n",
    "        \"\"\"Adds a point to another.\n",
    "        \n",
    "            >>> p1 = Point(1, 2)\n",
    "            >>> p2 = Point(10, 20)\n",
    "            >>> p1.add(p2)\n",
    "            <Point(11, 22)>\n",
    "        \"\"\"\n",
    "        x = self.x + p.x\n",
    "        y = self.y + p.y\n",
    "        return Point(x, y)\n",
    "    def double(self):\n",
    "        return Point(self.x*2,self.y*2)\n",
    "        \n",
    "    def __str__(self):\n",
    "        return f\"({self.x}, {self.y})\"\n",
    "\n",
    "    def __repr__(self):\n",
    "        return f\"<Point({self.x}, {self.y})>\""
   ]
  },
  {
   "cell_type": "code",
   "execution_count": 129,
   "id": "earlier-joint",
   "metadata": {},
   "outputs": [],
   "source": [
    "p1 = Point(1, 2)\n",
    "p2 = Point(3, 4)\n",
    "p3 = Point(5, 6)"
   ]
  },
  {
   "cell_type": "code",
   "execution_count": 130,
   "id": "dental-banks",
   "metadata": {},
   "outputs": [
    {
     "data": {
      "text/plain": [
       "<Point(2, 4)>"
      ]
     },
     "execution_count": 130,
     "metadata": {},
     "output_type": "execute_result"
    }
   ],
   "source": [
    "p1.double()"
   ]
  },
  {
   "cell_type": "code",
   "execution_count": 132,
   "id": "ultimate-teacher",
   "metadata": {},
   "outputs": [
    {
     "data": {
      "text/plain": [
       "<Point(10, 12)>"
      ]
     },
     "execution_count": 132,
     "metadata": {},
     "output_type": "execute_result"
    }
   ],
   "source": [
    "p3.double()"
   ]
  },
  {
   "cell_type": "markdown",
   "id": "finite-prefix",
   "metadata": {},
   "source": [
    "extcount problem"
   ]
  },
  {
   "cell_type": "code",
   "execution_count": 134,
   "id": "identified-cache",
   "metadata": {},
   "outputs": [
    {
     "name": "stdout",
     "output_type": "stream",
     "text": [
      "32 py\n",
      "9 txt\n",
      "5 ipynb\n"
     ]
    }
   ],
   "source": [
    "# just copy and paste in compliler it work\n",
    "import os\n",
    "import sys\n",
    "# path = os.listdir(sys.argv[1])\n",
    "path = os.listdir('.')\n",
    "\n",
    "all_files_count = {}\n",
    "for file in path:\n",
    "    if file.endswith('.py'):\n",
    "        all_files_count['py'] = all_files_count.get('py', 0) + 1\n",
    "    elif file.endswith('.ipynb'):\n",
    "        all_files_count['ipynb'] = all_files_count.get('ipynb', 0) + 1\n",
    "    elif file.endswith('.txt'):\n",
    "        all_files_count['txt'] = all_files_count.get('txt', 0) + 1\n",
    "    elif file.endswith('.csv'):\n",
    "        all_files_count['csv'] = all_files_count.get('csv', 0) + 1\n",
    "\n",
    "sorting_based_on_size = sorted(all_files_count.items(),key=lambda item: item[1],reverse=True)\n",
    "      \n",
    "for extention, count in sorting_based_on_size:\n",
    "        print(count,extention)"
   ]
  },
  {
   "cell_type": "code",
   "execution_count": 4,
   "id": "8c252369-7898-4520-933b-fbb3956065f1",
   "metadata": {},
   "outputs": [
    {
     "name": "stdout",
     "output_type": "stream",
     "text": [
      "Writing price.txt\n"
     ]
    }
   ],
   "source": [
    "%%file price.txt\n",
    "butter: 40\n",
    "sugar : 50\n",
    "sugar candy : 8\n",
    "apple : 25\n",
    "banana : 35"
   ]
  },
  {
   "cell_type": "code",
   "execution_count": 9,
   "id": "retired-evanescence",
   "metadata": {},
   "outputs": [
    {
     "name": "stdout",
     "output_type": "stream",
     "text": [
      "Overwriting readprice.py\n"
     ]
    }
   ],
   "source": [
    "%%file readprice.py\n",
    "import sys\n",
    "ar = sys.argv[1]\n",
    "\n",
    "name_price = {}\n",
    "with open(ar,'r') as prices:\n",
    "    p = prices.readlines()\n",
    "    for i in p:\n",
    "        item = i.split(': ')\n",
    "        for j in range(len(item)):\n",
    "            name_price[item[0]] = item[1]\n",
    "    print(name_price)"
   ]
  },
  {
   "cell_type": "code",
   "execution_count": 10,
   "id": "0868d62b-7bb9-4e9d-b5a1-385a058efd17",
   "metadata": {},
   "outputs": [
    {
     "name": "stdout",
     "output_type": "stream",
     "text": [
      "{'butter': '40\\n', 'sugar ': '50\\n', 'sugar candy ': '8\\n', 'apple ': '25\\n', 'banana ': '35\\n'}\n"
     ]
    }
   ],
   "source": [
    "!python readprice.py price.txt"
   ]
  },
  {
   "cell_type": "code",
   "execution_count": 137,
   "id": "personal-biography",
   "metadata": {},
   "outputs": [],
   "source": [
    "def unique(values):\n",
    "    d = []\n",
    "    for v in values:\n",
    "        if v not in d:\n",
    "            d.append(v)\n",
    "    return d\n"
   ]
  },
  {
   "cell_type": "code",
   "execution_count": 138,
   "id": "ideal-spouse",
   "metadata": {},
   "outputs": [],
   "source": [
    "import time\n",
    "class Timer():\n",
    "    def start(self):\n",
    "        self.t0 = time.time()\n",
    "    def stop(self):\n",
    "        self.t1 = time.time()\n",
    "    def get_time_taken(self):\n",
    "        return self.t1-self.t0\n",
    "    def display(self):\n",
    "        dt = self.get_time_taken()\n",
    "        print(f\"Time taken is {dt:0.3f} seconds\")\n",
    "        "
   ]
  },
  {
   "cell_type": "code",
   "execution_count": 139,
   "id": "medical-register",
   "metadata": {},
   "outputs": [
    {
     "name": "stdout",
     "output_type": "stream",
     "text": [
      "Time taken is 1.743 seconds\n"
     ]
    }
   ],
   "source": [
    "t = Timer()\n",
    "t.start()\n",
    "unique(range(20000))\n",
    "t.stop()\n",
    "t.display()"
   ]
  },
  {
   "cell_type": "code",
   "execution_count": 143,
   "id": "reduced-violin",
   "metadata": {},
   "outputs": [
    {
     "name": "stdout",
     "output_type": "stream",
     "text": [
      "Writing three.txt\n"
     ]
    }
   ],
   "source": [
    "%%file three.txt\n",
    "One\n",
    "Two\n",
    "Three"
   ]
  },
  {
   "cell_type": "code",
   "execution_count": 4,
   "id": "stuffed-roots",
   "metadata": {},
   "outputs": [],
   "source": [
    "class Formatter:\n",
    "    def format_text(self, text):\n",
    "        \"\"\"Method to format text.\"\n",
    "        \n",
    "        Subclasses can override this method to specify\n",
    "        how to format given text.\n",
    "        \"\"\"\n",
    "        return text\n",
    "\n",
    "    def format_file(self, filename):\n",
    "        text = open(filename).read()\n",
    "        return self.format_text(text)"
   ]
  },
  {
   "cell_type": "code",
   "execution_count": 5,
   "id": "brutal-remark",
   "metadata": {},
   "outputs": [
    {
     "data": {
      "text/plain": [
       "'Hello'"
      ]
     },
     "execution_count": 5,
     "metadata": {},
     "output_type": "execute_result"
    }
   ],
   "source": [
    "f = Formatter()\n",
    "f.format_text(\"Hello\")"
   ]
  },
  {
   "cell_type": "code",
   "execution_count": 6,
   "id": "grateful-genealogy",
   "metadata": {},
   "outputs": [
    {
     "name": "stdout",
     "output_type": "stream",
     "text": [
      "One\n",
      "Two\n",
      "Three\n",
      "\n"
     ]
    }
   ],
   "source": [
    "print(f.format_file(\"three.txt\"))"
   ]
  },
  {
   "cell_type": "code",
   "execution_count": 7,
   "id": "metric-batman",
   "metadata": {},
   "outputs": [],
   "source": [
    "class LowerCaseFormatter(Formatter):\n",
    "    def format_text(self, text):\n",
    "        return text.lower()"
   ]
  },
  {
   "cell_type": "code",
   "execution_count": 8,
   "id": "lasting-oracle",
   "metadata": {},
   "outputs": [],
   "source": [
    "f = LowerCaseFormatter()"
   ]
  },
  {
   "cell_type": "code",
   "execution_count": 9,
   "id": "cleared-seven",
   "metadata": {},
   "outputs": [
    {
     "name": "stdout",
     "output_type": "stream",
     "text": [
      "hello\n"
     ]
    }
   ],
   "source": [
    "print(f.format_text(\"Hello\"))"
   ]
  },
  {
   "cell_type": "code",
   "execution_count": 10,
   "id": "illegal-mystery",
   "metadata": {},
   "outputs": [
    {
     "name": "stdout",
     "output_type": "stream",
     "text": [
      "one\n",
      "two\n",
      "three\n",
      "\n"
     ]
    }
   ],
   "source": [
    "print(f.format_file(\"three.txt\"))"
   ]
  },
  {
   "cell_type": "code",
   "execution_count": 11,
   "id": "grateful-cologne",
   "metadata": {},
   "outputs": [],
   "source": [
    "class LineFormatter(Formatter):\n",
    "    def format_text(self, text):\n",
    "        lines = text.splitlines()\n",
    "        lines = [self.format_line(line) for line in lines]\n",
    "        return (\"\\n\".join(lines),len(lines))\n",
    "    \n",
    "    def format_line(self, line):\n",
    "        \"\"\"Format a line.\n",
    "        \n",
    "        The subclasses can specify how to format a line.\n",
    "        \"\"\"\n",
    "        return line"
   ]
  },
  {
   "cell_type": "code",
   "execution_count": 20,
   "id": "considered-finding",
   "metadata": {},
   "outputs": [],
   "source": [
    "class PrefixFormatter(LineFormatter):\n",
    "    def __init__(self, prefix):\n",
    "        self.prefix = prefix\n",
    "        \n",
    "    def format_line(self, line):\n",
    "        return self.prefix + line"
   ]
  },
  {
   "cell_type": "code",
   "execution_count": null,
   "id": "greater-ghost",
   "metadata": {},
   "outputs": [],
   "source": []
  },
  {
   "cell_type": "code",
   "execution_count": 21,
   "id": "chronic-weekend",
   "metadata": {},
   "outputs": [],
   "source": [
    "f = PrefixFormatter(\"[INFO] \")"
   ]
  },
  {
   "cell_type": "code",
   "execution_count": 22,
   "id": "likely-wheel",
   "metadata": {},
   "outputs": [
    {
     "data": {
      "text/plain": [
       "'[INFO] Hello'"
      ]
     },
     "execution_count": 22,
     "metadata": {},
     "output_type": "execute_result"
    }
   ],
   "source": [
    "f.format_line(\"Hello\")"
   ]
  },
  {
   "cell_type": "code",
   "execution_count": 23,
   "id": "rotary-netherlands",
   "metadata": {},
   "outputs": [
    {
     "name": "stdout",
     "output_type": "stream",
     "text": [
      "[INFO] 1\n",
      "[INFO] 2\n",
      "[INFO] 3\n"
     ]
    }
   ],
   "source": [
    "print(f.format_text(\"1\\n2\\n3\"))"
   ]
  },
  {
   "cell_type": "code",
   "execution_count": 226,
   "id": "induced-diversity",
   "metadata": {},
   "outputs": [],
   "source": [
    "class LineNumberFormatter(LineFormatter):\n",
    "    \n",
    "    def __init__(self, prefix):\n",
    "        self.prefix = prefix\n",
    "        \n",
    "    def format_line(self, line):\n",
    "        return line"
   ]
  },
  {
   "cell_type": "code",
   "execution_count": 227,
   "id": "vietnamese-period",
   "metadata": {},
   "outputs": [],
   "source": [
    "f = LineNumberFormatter()"
   ]
  },
  {
   "cell_type": "code",
   "execution_count": 228,
   "id": "korean-ballet",
   "metadata": {},
   "outputs": [
    {
     "data": {
      "text/plain": [
       "'Hello'"
      ]
     },
     "execution_count": 228,
     "metadata": {},
     "output_type": "execute_result"
    }
   ],
   "source": [
    "f.format_line(\"Hello\")"
   ]
  },
  {
   "cell_type": "code",
   "execution_count": 229,
   "id": "irish-fault",
   "metadata": {},
   "outputs": [
    {
     "name": "stdout",
     "output_type": "stream",
     "text": [
      "1\n",
      "2\n",
      "3\n"
     ]
    }
   ],
   "source": [
    "print(f.format_text(\"1\\n2\\n3\"))"
   ]
  },
  {
   "cell_type": "code",
   "execution_count": 177,
   "id": "gorgeous-event",
   "metadata": {},
   "outputs": [
    {
     "name": "stdout",
     "output_type": "stream",
     "text": [
      "Writing a.txt\n"
     ]
    }
   ],
   "source": [
    "%%file a.txt\n",
    "A\n",
    "B\n",
    "C\n",
    "D"
   ]
  },
  {
   "cell_type": "code",
   "execution_count": 178,
   "id": "different-webmaster",
   "metadata": {},
   "outputs": [
    {
     "name": "stdout",
     "output_type": "stream",
     "text": [
      "Writing b.txt\n"
     ]
    }
   ],
   "source": [
    "%%file b.txt\n",
    "1\n",
    "2\n",
    "3\n",
    "4"
   ]
  },
  {
   "cell_type": "code",
   "execution_count": 179,
   "id": "educated-ability",
   "metadata": {},
   "outputs": [
    {
     "name": "stdout",
     "output_type": "stream",
     "text": [
      "Writing paste.py\n"
     ]
    }
   ],
   "source": [
    "%%file paste.py\n",
    "import sys\n",
    "ar = sys.argv[1:]\n",
    "a = open(ar[0],'r').read().split()\n",
    "b = open(ar[1],'r').read().split()\n",
    "for i,j in zip(a,b):\n",
    "    print(f'{i}\\t{j}')\n"
   ]
  },
  {
   "cell_type": "code",
   "execution_count": 180,
   "id": "turkish-verification",
   "metadata": {},
   "outputs": [
    {
     "name": "stdout",
     "output_type": "stream",
     "text": [
      "A\t1\n",
      "B\t2\n",
      "C\t3\n",
      "D\t4\n"
     ]
    }
   ],
   "source": [
    "!python paste.py a.txt b.txt"
   ]
  },
  {
   "cell_type": "code",
   "execution_count": null,
   "id": "exempt-tactics",
   "metadata": {},
   "outputs": [],
   "source": []
  }
 ],
 "metadata": {
  "kernelspec": {
   "display_name": "Python 3 (ipykernel)",
   "language": "python",
   "name": "python3"
  },
  "language_info": {
   "codemirror_mode": {
    "name": "ipython",
    "version": 3
   },
   "file_extension": ".py",
   "mimetype": "text/x-python",
   "name": "python",
   "nbconvert_exporter": "python",
   "pygments_lexer": "ipython3",
   "version": "3.8.10"
  }
 },
 "nbformat": 4,
 "nbformat_minor": 5
}
